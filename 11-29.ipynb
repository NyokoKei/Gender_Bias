{
 "cells": [
  {
   "cell_type": "code",
   "execution_count": 1,
   "id": "c2cc21a2-9bca-4fd1-a863-0032f478c3b0",
   "metadata": {
    "tags": []
   },
   "outputs": [],
   "source": [
    "import pandas as pd\n",
    "from iso639 import Lang"
   ]
  },
  {
   "cell_type": "code",
   "execution_count": 14,
   "id": "6e38bac6-46e4-4039-a6d7-dd6ead039efe",
   "metadata": {
    "tags": []
   },
   "outputs": [
    {
     "data": {
      "text/html": [
       "<div>\n",
       "<style scoped>\n",
       "    .dataframe tbody tr th:only-of-type {\n",
       "        vertical-align: middle;\n",
       "    }\n",
       "\n",
       "    .dataframe tbody tr th {\n",
       "        vertical-align: top;\n",
       "    }\n",
       "\n",
       "    .dataframe thead th {\n",
       "        text-align: right;\n",
       "    }\n",
       "</style>\n",
       "<table border=\"1\" class=\"dataframe\">\n",
       "  <thead>\n",
       "    <tr style=\"text-align: right;\">\n",
       "      <th></th>\n",
       "      <th>Code</th>\n",
       "      <th>Language</th>\n",
       "    </tr>\n",
       "  </thead>\n",
       "  <tbody>\n",
       "    <tr>\n",
       "      <th>0</th>\n",
       "      <td>aar</td>\n",
       "      <td>Afar</td>\n",
       "    </tr>\n",
       "    <tr>\n",
       "      <th>1</th>\n",
       "      <td>None</td>\n",
       "      <td>Agaw</td>\n",
       "    </tr>\n",
       "    <tr>\n",
       "      <th>2</th>\n",
       "      <td>akk</td>\n",
       "      <td>Akkadian</td>\n",
       "    </tr>\n",
       "    <tr>\n",
       "      <th>3</th>\n",
       "      <td>amp</td>\n",
       "      <td>Alamblak</td>\n",
       "    </tr>\n",
       "    <tr>\n",
       "      <th>4</th>\n",
       "      <td>sqi</td>\n",
       "      <td>Albanian</td>\n",
       "    </tr>\n",
       "    <tr>\n",
       "      <th>...</th>\n",
       "      <td>...</td>\n",
       "      <td>...</td>\n",
       "    </tr>\n",
       "    <tr>\n",
       "      <th>99</th>\n",
       "      <td>cym</td>\n",
       "      <td>Welsh</td>\n",
       "    </tr>\n",
       "    <tr>\n",
       "      <th>100</th>\n",
       "      <td>wro</td>\n",
       "      <td>Worrorra</td>\n",
       "    </tr>\n",
       "    <tr>\n",
       "      <th>101</th>\n",
       "      <td>yid</td>\n",
       "      <td>Yiddish</td>\n",
       "    </tr>\n",
       "    <tr>\n",
       "      <th>102</th>\n",
       "      <td>None</td>\n",
       "      <td>Zande</td>\n",
       "    </tr>\n",
       "    <tr>\n",
       "      <th>103</th>\n",
       "      <td>zza</td>\n",
       "      <td>Zazaki</td>\n",
       "    </tr>\n",
       "  </tbody>\n",
       "</table>\n",
       "<p>104 rows × 2 columns</p>\n",
       "</div>"
      ],
      "text/plain": [
       "     Code  Language\n",
       "0     aar      Afar\n",
       "1    None      Agaw\n",
       "2     akk  Akkadian\n",
       "3     amp  Alamblak\n",
       "4     sqi  Albanian\n",
       "..    ...       ...\n",
       "99    cym     Welsh\n",
       "100   wro  Worrorra\n",
       "101   yid   Yiddish\n",
       "102  None     Zande\n",
       "103   zza    Zazaki\n",
       "\n",
       "[104 rows x 2 columns]"
      ]
     },
     "execution_count": 14,
     "metadata": {},
     "output_type": "execute_result"
    }
   ],
   "source": [
    "df = pd.read_csv('data/GrammaticalGender.csv')\n",
    "df = df.sort_values(by='Language').reset_index(drop=True)\n",
    "\n",
    "df.insert(0, 'Code', None)\n",
    "for index, row in df.iterrows():\n",
    "    if row['Code'] is None:  \n",
    "        try:\n",
    "            temp = Lang(row['Language']).pt3\n",
    "            df.loc[df['Language'] == row['Language'], 'Code'] = temp\n",
    "        except:\n",
    "            continue  # Skip to the next iteration if there's an error\n",
    "df"
   ]
  },
  {
   "cell_type": "code",
   "execution_count": 15,
   "id": "49483e14-406a-41be-ba48-3c68097e717e",
   "metadata": {
    "tags": []
   },
   "outputs": [
    {
     "name": "stdout",
     "output_type": "stream",
     "text": [
      "22 ['Agaw', 'Aramaic', 'Bantu', 'Friulan', 'Gaulish', 'Greek', 'Halegannada', 'Kalaw', 'Low', 'Occitan', 'Pama–Nyungan', 'Pennsylvania', 'Romani', 'Rwanda', 'Scottish', 'Sepik', 'Slovene', 'Sorbian', 'South', 'Tamazight', 'Tuareg', 'Zande']\n"
     ]
    }
   ],
   "source": [
    "none_list = df[df['Code'].isnull()]['Language'].tolist()\n",
    "print(len(none_list), none_list)"
   ]
  },
  {
   "cell_type": "code",
   "execution_count": 16,
   "id": "59a0dc2a-8ef5-4f15-bd49-83ec3df25c79",
   "metadata": {
    "tags": []
   },
   "outputs": [
    {
     "data": {
      "text/plain": [
       "['Agaw',\n",
       " 'Aramaic',\n",
       " 'Bantu',\n",
       " 'Friulan',\n",
       " 'Gaulish',\n",
       " 'Greek',\n",
       " 'Halegannada',\n",
       " 'Kalaw',\n",
       " 'Low',\n",
       " 'Occitan',\n",
       " 'Pama–Nyungan',\n",
       " 'Pennsylvania',\n",
       " 'Romani',\n",
       " 'Rwanda',\n",
       " 'Scottish',\n",
       " 'Sepik',\n",
       " 'Slovene',\n",
       " 'Sorbian',\n",
       " 'South',\n",
       " 'Tamazight',\n",
       " 'Tuareg',\n",
       " 'Zande']"
      ]
     },
     "execution_count": 16,
     "metadata": {},
     "output_type": "execute_result"
    }
   ],
   "source": [
    "none_list"
   ]
  },
  {
   "cell_type": "code",
   "execution_count": 12,
   "id": "9d391c8e-941a-4fd4-9ebc-621d2c9c0ea7",
   "metadata": {
    "tags": []
   },
   "outputs": [
    {
     "data": {
      "text/plain": [
       "Code           None\n",
       "Language     Slovak\n",
       "Name: 106, dtype: object"
      ]
     },
     "execution_count": 12,
     "metadata": {},
     "output_type": "execute_result"
    }
   ],
   "source": [
    "language_codes = {\n",
    "    'Abkhaz': 'abk',\n",
    "    'Acehnese': 'ace',\n",
    "    'Acholi': 'ach',\n",
    "    'Avar': 'ava',\n",
    "    'Buryat': 'bxm',\n",
    "    'Cantonese': 'yue',\n",
    "    'Frisian': 'frr',\n",
    "    'Fulani': 'ful',\n",
    "    'Greek': 'ell',\n",
    "    'Ilocano': 'ilo',\n",
    "    'Jamaican Patois': 'jam',\n",
    "    'Jingpo': 'kac',\n",
    "    'Kiga': 'cgg',\n",
    "    'Kikongo': 'kwy',\n",
    "    'Kituba': 'ktu',\n",
    "    'Kokborok': 'trp',\n",
    "    'Luganda': 'lug',\n",
    "    'Luo': 'luo',\n",
    "    'Makassar': 'mak',\n",
    "    'Marwadi': 'rwr',\n",
    "    'Mauritian Creole': 'mfe',\n",
    "    'Meadow Mari': 'mhr',\n",
    "    'Meiteilon': 'mni',\n",
    "    'Mizo': 'lus',\n",
    "    'Myanmar': 'mya',\n",
    "    'NKo': 'nqo',\n",
    "    'Nahuatl': 'nhe',\n",
    "    'Ndebele': 'nde',\n",
    "    'Nepalbhasa': 'new',\n",
    "    'Occitan': 'oci',\n",
    "    'Qʼeqchiʼ': 'kek',\n",
    "    'Romani': 'rom',\n",
    "    'Sami': 'sme',\n",
    "    'Scots Gaelic': 'gla',\n",
    "    'Sesotho': 'sot',\n",
    "    'Seychellois Creole': 'crs',\n",
    "    'Tamazight': 'tzm',\n",
    "    'Tongan': 'ton',\n",
    "    'Tuvan': 'tyv'\n",
    "}\n",
    "\n",
    "\n",
    "df['Code'] = df['Code'].fillna(df['Language'].map(language_codes))\n",
    "df"
   ]
  }
 ],
 "metadata": {
  "kernelspec": {
   "display_name": "Python 3 (ipykernel)",
   "language": "python",
   "name": "python3"
  },
  "language_info": {
   "codemirror_mode": {
    "name": "ipython",
    "version": 3
   },
   "file_extension": ".py",
   "mimetype": "text/x-python",
   "name": "python",
   "nbconvert_exporter": "python",
   "pygments_lexer": "ipython3",
   "version": "3.11.5"
  }
 },
 "nbformat": 4,
 "nbformat_minor": 5
}
