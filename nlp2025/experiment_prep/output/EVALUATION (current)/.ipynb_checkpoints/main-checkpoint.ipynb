{
 "cells": [
  {
   "cell_type": "code",
   "execution_count": 2,
   "id": "a1e258a5-7352-403f-9e74-4bf33978ee38",
   "metadata": {
    "tags": []
   },
   "outputs": [],
   "source": [
    "import pandas as pd\n",
    "import os"
   ]
  },
  {
   "cell_type": "code",
   "execution_count": 11,
   "id": "ed784c39-e71e-46fc-ad56-32f1ad39e088",
   "metadata": {
    "tags": []
   },
   "outputs": [
    {
     "data": {
      "text/plain": [
       "{'../ready_for_evaluation/claude-3-opus/deu.csv': 'deu',\n",
       " '../ready_for_evaluation/claude-3-opus/fra.csv': 'fra',\n",
       " '../ready_for_evaluation/claude-3-opus/it.csv': 'it',\n",
       " '../ready_for_evaluation/claude-3-opus/spa.csv': 'spa',\n",
       " '../ready_for_evaluation/claude-3.5-haiku/deu.csv': 'deu',\n",
       " '../ready_for_evaluation/claude-3.5-haiku/fra.csv': 'fra',\n",
       " '../ready_for_evaluation/claude-3.5-haiku/it.csv': 'it',\n",
       " '../ready_for_evaluation/claude-3.5-haiku/spa.csv': 'spa',\n",
       " '../ready_for_evaluation/claude-3.5-sonnet/deu.csv': 'deu',\n",
       " '../ready_for_evaluation/claude-3.5-sonnet/fra.csv': 'fra',\n",
       " '../ready_for_evaluation/claude-3.5-sonnet/it.csv': 'it',\n",
       " '../ready_for_evaluation/claude-3.5-sonnet/spa.csv': 'spa',\n",
       " '../ready_for_evaluation/gemini-1.5-flash/deu.csv': 'deu',\n",
       " '../ready_for_evaluation/gemini-1.5-flash/fra.csv': 'fra',\n",
       " '../ready_for_evaluation/gemini-1.5-flash/it.csv': 'it',\n",
       " '../ready_for_evaluation/gemini-1.5-flash/spa.csv': 'spa',\n",
       " '../ready_for_evaluation/gemini-1.5-pro/deu.csv': 'deu',\n",
       " '../ready_for_evaluation/gemini-1.5-pro/fra.csv': 'fra',\n",
       " '../ready_for_evaluation/gemini-1.5-pro/it.csv': 'it',\n",
       " '../ready_for_evaluation/gemini-1.5-pro/spa.csv': 'spa',\n",
       " '../ready_for_evaluation/gpt-3.5-turbo/deu.csv': 'deu',\n",
       " '../ready_for_evaluation/gpt-3.5-turbo/fra.csv': 'fra',\n",
       " '../ready_for_evaluation/gpt-3.5-turbo/it.csv': 'it',\n",
       " '../ready_for_evaluation/gpt-3.5-turbo/spa.csv': 'spa',\n",
       " '../ready_for_evaluation/gpt-4-turbo/deu.csv': 'deu',\n",
       " '../ready_for_evaluation/gpt-4-turbo/fra.csv': 'fra',\n",
       " '../ready_for_evaluation/gpt-4-turbo/it.csv': 'it',\n",
       " '../ready_for_evaluation/gpt-4-turbo/spa.csv': 'spa',\n",
       " '../ready_for_evaluation/gpt-4/deu.csv': 'deu',\n",
       " '../ready_for_evaluation/gpt-4/fra.csv': 'fra',\n",
       " '../ready_for_evaluation/gpt-4/it.csv': 'it',\n",
       " '../ready_for_evaluation/gpt-4/spa.csv': 'spa',\n",
       " '../ready_for_evaluation/gpt-4o-mini/deu.csv': 'deu',\n",
       " '../ready_for_evaluation/gpt-4o-mini/fra.csv': 'fra',\n",
       " '../ready_for_evaluation/gpt-4o-mini/it.csv': 'it',\n",
       " '../ready_for_evaluation/gpt-4o-mini/spa.csv': 'spa',\n",
       " '../ready_for_evaluation/gpt-4o/deu.csv': 'deu',\n",
       " '../ready_for_evaluation/gpt-4o/fra.csv': 'fra',\n",
       " '../ready_for_evaluation/gpt-4o/it.csv': 'it',\n",
       " '../ready_for_evaluation/gpt-4o/spa.csv': 'spa'}"
      ]
     },
     "execution_count": 11,
     "metadata": {},
     "output_type": "execute_result"
    }
   ],
   "source": [
    "def get_all_paths_exclude_checkpoints(folder_path):\n",
    "    \"\"\"\n",
    "    Get all file paths from the given folder, excluding paths with `.ipynb_checkpoints`.\n",
    "    \n",
    "    Parameters:\n",
    "        folder_path (str): Path to the folder.\n",
    "    \n",
    "    Returns:\n",
    "        List of file paths excluding `.ipynb_checkpoints`.\n",
    "    \"\"\"\n",
    "    all_paths = []\n",
    "    for root, dirs, files in os.walk(folder_path):\n",
    "        if \".ipynb_checkpoints\" in root:\n",
    "            continue  # Skip directories containing `.ipynb_checkpoints`\n",
    "        for file in files:\n",
    "            file_path = os.path.join(root, file)\n",
    "            if \".ipynb_checkpoints\" not in file_path:\n",
    "                all_paths.append(file_path)\n",
    "                \n",
    "    all_paths = {path: path.split('/')[-1].split('.')[0] for path in all_paths}\n",
    "\n",
    "    return all_paths\n",
    "\n",
    "# Example usage\n",
    "folder_path = \"../ready_for_evaluation\"\n",
    "paths = get_all_paths_exclude_checkpoints(folder_path)\n",
    "paths = dict(sorted(paths.items()))\n",
    "# print(\"Paths:\", paths)\n",
    "paths"
   ]
  },
  {
   "cell_type": "code",
   "execution_count": 5,
   "id": "801394ea-06ac-4dc9-8e7a-b228f497001e",
   "metadata": {
    "tags": []
   },
   "outputs": [],
   "source": [
    "def recheck_and_reassign(path, lang_prefix):\n",
    "    \"\"\"\n",
    "    Rechecks if lan_m == lan_f in the DataFrame.\n",
    "    If equal, moves the value to lan_n and clears lan_m and lan_f.\n",
    "    \n",
    "    Parameters:\n",
    "        path (path: Path to the input DataFrame with columns <lang_prefix>_m, <lang_prefix>_f, <lang_prefix>_n.\n",
    "        lang_prefix (str): Language prefix (e.g., 'deu', 'spa', 'fra', 'it').\n",
    "    \n",
    "    Returns:\n",
    "        pd.DataFrame: Updated DataFrame with reassignments applied.\n",
    "        \n",
    "    \"\"\"\n",
    "    df = pd.read_csv(path)\n",
    "    \n",
    "    # Define column names based on the language prefix\n",
    "    col_m = f\"{lang_prefix}_m\"\n",
    "    col_f = f\"{lang_prefix}_f\"\n",
    "    col_n = f\"{lang_prefix}_n\"\n",
    "\n",
    "    # Ensure the required columns exist\n",
    "    if col_m not in df.columns or col_f not in df.columns or col_n not in df.columns:\n",
    "        raise ValueError(f\"Required columns {col_m}, {col_f}, and {col_n} not found in DataFrame.\")\n",
    "    \n",
    "    # Find rows where masculine and feminine forms are the same\n",
    "    condition = df[col_m] == df[col_f]\n",
    "    \n",
    "    # Update neuter column with the matching values\n",
    "    df.loc[condition, col_n] = df.loc[condition, col_m]\n",
    "    \n",
    "    # Clear masculine and feminine columns where they are the same\n",
    "    df.loc[condition, col_m] = \"\"\n",
    "    df.loc[condition, col_f] = \"\"\n",
    "    \n",
    "    # nan_rows = df[df[[col_m, col_f, col_n]].isna().all(axis=1)]\n",
    "    \n",
    "    df.to_csv(path, index=False)\n",
    "    \n",
    "    \n",
    "    # return df, nan_rows\n"
   ]
  },
  {
   "cell_type": "code",
   "execution_count": 8,
   "id": "93e22e8f-b66a-40b3-aa1b-a6d342d72809",
   "metadata": {
    "tags": []
   },
   "outputs": [],
   "source": [
    "for k, v in paths.items():\n",
    "    recheck_and_reassign(k, v)"
   ]
  },
  {
   "cell_type": "markdown",
   "id": "c158fc09-dd68-4117-9299-eab4c2960bf1",
   "metadata": {},
   "source": [
    "# Accuracy\n",
    "\n",
    "We will calculate accuracy for `masculine`, `feminine` and `neuter` forms seperately. Then we will check how many outputs provide both gender forms if applicable."
   ]
  },
  {
   "cell_type": "code",
   "execution_count": 31,
   "id": "00d9868a-c598-44ee-9f3e-f2fca0aed264",
   "metadata": {
    "tags": []
   },
   "outputs": [],
   "source": [
    "def accuracy(row, lang_prefix: str, gender_prefix: str):\n",
    "    # Collect true values \n",
    "    true_values = {row[f\"{lang_prefix}_{gender_prefix}\"]}\n",
    "    true_values = {val.lower() for val in true_values if pd.notna(val)} # Remove NaN\n",
    "    \n",
    "    \n",
    "    # Collect predicted values from extracted\n",
    "    predicted_values = eval(row['extracted'].lower()) if pd.notna(row['extracted']) else []\n",
    "    \n",
    "    # Check if any predicted value matches the true values\n",
    "    return any(pred in true_values for pred in predicted_values)"
   ]
  },
  {
   "cell_type": "code",
   "execution_count": 32,
   "id": "0cf74a5b-2f41-4bf0-aa73-627a5b31cf92",
   "metadata": {
    "tags": []
   },
   "outputs": [
    {
     "name": "stdout",
     "output_type": "stream",
     "text": [
      "../ready_for_evaluation/claude-3-opus/deu.csv\n",
      "['eng', 'deu_m', 'deu_f', 'deu_n', 'extracted']\n",
      "0             I am Afghan.\n",
      "1            I am Angolan.\n",
      "2           I am Albanian.\n",
      "3           I am Andorran.\n",
      "4            I am Emirati.\n",
      "              ...         \n",
      "188           I am Samoan.\n",
      "189           I am Yemeni.\n",
      "190    I am South African.\n",
      "191          I am Zambian.\n",
      "192       I am Zimbabwean.\n",
      "Name: eng, Length: 193, dtype: object\n"
     ]
    },
    {
     "ename": "KeyError",
     "evalue": "'deu_m'",
     "output_type": "error",
     "traceback": [
      "\u001b[0;31m---------------------------------------------------------------------------\u001b[0m",
      "\u001b[0;31mKeyError\u001b[0m                                  Traceback (most recent call last)",
      "Cell \u001b[0;32mIn[32], line 7\u001b[0m\n\u001b[1;32m      5\u001b[0m \u001b[38;5;28mprint\u001b[39m(df\u001b[38;5;241m.\u001b[39mcolumns\u001b[38;5;241m.\u001b[39mtolist())\n\u001b[1;32m      6\u001b[0m \u001b[38;5;28;01mfor\u001b[39;00m gender_prefix \u001b[38;5;129;01min\u001b[39;00m gender_prefixes:\n\u001b[0;32m----> 7\u001b[0m     df[\u001b[38;5;124mf\u001b[39m\u001b[38;5;124m'\u001b[39m\u001b[38;5;124mis_\u001b[39m\u001b[38;5;132;01m{\u001b[39;00mgender_prefix\u001b[38;5;132;01m}\u001b[39;00m\u001b[38;5;124m'\u001b[39m] \u001b[38;5;241m=\u001b[39m df\u001b[38;5;241m.\u001b[39mapply(\u001b[38;5;28;01mlambda\u001b[39;00m row: accuracy(row, lang, gender_prefix))\n\u001b[1;32m      9\u001b[0m save \u001b[38;5;241m=\u001b[39m \u001b[38;5;124m'\u001b[39m\u001b[38;5;124maccuracy/\u001b[39m\u001b[38;5;124m'\u001b[39m \u001b[38;5;241m+\u001b[39m \u001b[38;5;124m'\u001b[39m\u001b[38;5;124m/\u001b[39m\u001b[38;5;124m'\u001b[39m\u001b[38;5;241m.\u001b[39mjoin(test\u001b[38;5;241m.\u001b[39msplit(\u001b[38;5;124m'\u001b[39m\u001b[38;5;124m/\u001b[39m\u001b[38;5;124m'\u001b[39m)[\u001b[38;5;241m2\u001b[39m:])\n\u001b[1;32m     10\u001b[0m directory \u001b[38;5;241m=\u001b[39m os\u001b[38;5;241m.\u001b[39mpath\u001b[38;5;241m.\u001b[39mdirname(save)  \u001b[38;5;66;03m# Extract the directory path\u001b[39;00m\n",
      "File \u001b[0;32m~/.pyenv/versions/anaconda3-2023.09-0/lib/python3.11/site-packages/pandas/core/frame.py:9423\u001b[0m, in \u001b[0;36mDataFrame.apply\u001b[0;34m(self, func, axis, raw, result_type, args, **kwargs)\u001b[0m\n\u001b[1;32m   9412\u001b[0m \u001b[38;5;28;01mfrom\u001b[39;00m \u001b[38;5;21;01mpandas\u001b[39;00m\u001b[38;5;21;01m.\u001b[39;00m\u001b[38;5;21;01mcore\u001b[39;00m\u001b[38;5;21;01m.\u001b[39;00m\u001b[38;5;21;01mapply\u001b[39;00m \u001b[38;5;28;01mimport\u001b[39;00m frame_apply\n\u001b[1;32m   9414\u001b[0m op \u001b[38;5;241m=\u001b[39m frame_apply(\n\u001b[1;32m   9415\u001b[0m     \u001b[38;5;28mself\u001b[39m,\n\u001b[1;32m   9416\u001b[0m     func\u001b[38;5;241m=\u001b[39mfunc,\n\u001b[0;32m   (...)\u001b[0m\n\u001b[1;32m   9421\u001b[0m     kwargs\u001b[38;5;241m=\u001b[39mkwargs,\n\u001b[1;32m   9422\u001b[0m )\n\u001b[0;32m-> 9423\u001b[0m \u001b[38;5;28;01mreturn\u001b[39;00m op\u001b[38;5;241m.\u001b[39mapply()\u001b[38;5;241m.\u001b[39m__finalize__(\u001b[38;5;28mself\u001b[39m, method\u001b[38;5;241m=\u001b[39m\u001b[38;5;124m\"\u001b[39m\u001b[38;5;124mapply\u001b[39m\u001b[38;5;124m\"\u001b[39m)\n",
      "File \u001b[0;32m~/.pyenv/versions/anaconda3-2023.09-0/lib/python3.11/site-packages/pandas/core/apply.py:678\u001b[0m, in \u001b[0;36mFrameApply.apply\u001b[0;34m(self)\u001b[0m\n\u001b[1;32m    675\u001b[0m \u001b[38;5;28;01melif\u001b[39;00m \u001b[38;5;28mself\u001b[39m\u001b[38;5;241m.\u001b[39mraw:\n\u001b[1;32m    676\u001b[0m     \u001b[38;5;28;01mreturn\u001b[39;00m \u001b[38;5;28mself\u001b[39m\u001b[38;5;241m.\u001b[39mapply_raw()\n\u001b[0;32m--> 678\u001b[0m \u001b[38;5;28;01mreturn\u001b[39;00m \u001b[38;5;28mself\u001b[39m\u001b[38;5;241m.\u001b[39mapply_standard()\n",
      "File \u001b[0;32m~/.pyenv/versions/anaconda3-2023.09-0/lib/python3.11/site-packages/pandas/core/apply.py:798\u001b[0m, in \u001b[0;36mFrameApply.apply_standard\u001b[0;34m(self)\u001b[0m\n\u001b[1;32m    797\u001b[0m \u001b[38;5;28;01mdef\u001b[39;00m \u001b[38;5;21mapply_standard\u001b[39m(\u001b[38;5;28mself\u001b[39m):\n\u001b[0;32m--> 798\u001b[0m     results, res_index \u001b[38;5;241m=\u001b[39m \u001b[38;5;28mself\u001b[39m\u001b[38;5;241m.\u001b[39mapply_series_generator()\n\u001b[1;32m    800\u001b[0m     \u001b[38;5;66;03m# wrap results\u001b[39;00m\n\u001b[1;32m    801\u001b[0m     \u001b[38;5;28;01mreturn\u001b[39;00m \u001b[38;5;28mself\u001b[39m\u001b[38;5;241m.\u001b[39mwrap_results(results, res_index)\n",
      "File \u001b[0;32m~/.pyenv/versions/anaconda3-2023.09-0/lib/python3.11/site-packages/pandas/core/apply.py:814\u001b[0m, in \u001b[0;36mFrameApply.apply_series_generator\u001b[0;34m(self)\u001b[0m\n\u001b[1;32m    811\u001b[0m \u001b[38;5;28;01mwith\u001b[39;00m option_context(\u001b[38;5;124m\"\u001b[39m\u001b[38;5;124mmode.chained_assignment\u001b[39m\u001b[38;5;124m\"\u001b[39m, \u001b[38;5;28;01mNone\u001b[39;00m):\n\u001b[1;32m    812\u001b[0m     \u001b[38;5;28;01mfor\u001b[39;00m i, v \u001b[38;5;129;01min\u001b[39;00m \u001b[38;5;28menumerate\u001b[39m(series_gen):\n\u001b[1;32m    813\u001b[0m         \u001b[38;5;66;03m# ignore SettingWithCopy here in case the user mutates\u001b[39;00m\n\u001b[0;32m--> 814\u001b[0m         results[i] \u001b[38;5;241m=\u001b[39m \u001b[38;5;28mself\u001b[39m\u001b[38;5;241m.\u001b[39mf(v)\n\u001b[1;32m    815\u001b[0m         \u001b[38;5;28;01mif\u001b[39;00m \u001b[38;5;28misinstance\u001b[39m(results[i], ABCSeries):\n\u001b[1;32m    816\u001b[0m             \u001b[38;5;66;03m# If we have a view on v, we need to make a copy because\u001b[39;00m\n\u001b[1;32m    817\u001b[0m             \u001b[38;5;66;03m#  series_generator will swap out the underlying data\u001b[39;00m\n\u001b[1;32m    818\u001b[0m             results[i] \u001b[38;5;241m=\u001b[39m results[i]\u001b[38;5;241m.\u001b[39mcopy(deep\u001b[38;5;241m=\u001b[39m\u001b[38;5;28;01mFalse\u001b[39;00m)\n",
      "Cell \u001b[0;32mIn[32], line 7\u001b[0m, in \u001b[0;36m<lambda>\u001b[0;34m(row)\u001b[0m\n\u001b[1;32m      5\u001b[0m \u001b[38;5;28mprint\u001b[39m(df\u001b[38;5;241m.\u001b[39mcolumns\u001b[38;5;241m.\u001b[39mtolist())\n\u001b[1;32m      6\u001b[0m \u001b[38;5;28;01mfor\u001b[39;00m gender_prefix \u001b[38;5;129;01min\u001b[39;00m gender_prefixes:\n\u001b[0;32m----> 7\u001b[0m     df[\u001b[38;5;124mf\u001b[39m\u001b[38;5;124m'\u001b[39m\u001b[38;5;124mis_\u001b[39m\u001b[38;5;132;01m{\u001b[39;00mgender_prefix\u001b[38;5;132;01m}\u001b[39;00m\u001b[38;5;124m'\u001b[39m] \u001b[38;5;241m=\u001b[39m df\u001b[38;5;241m.\u001b[39mapply(\u001b[38;5;28;01mlambda\u001b[39;00m row: accuracy(row, lang, gender_prefix))\n\u001b[1;32m      9\u001b[0m save \u001b[38;5;241m=\u001b[39m \u001b[38;5;124m'\u001b[39m\u001b[38;5;124maccuracy/\u001b[39m\u001b[38;5;124m'\u001b[39m \u001b[38;5;241m+\u001b[39m \u001b[38;5;124m'\u001b[39m\u001b[38;5;124m/\u001b[39m\u001b[38;5;124m'\u001b[39m\u001b[38;5;241m.\u001b[39mjoin(test\u001b[38;5;241m.\u001b[39msplit(\u001b[38;5;124m'\u001b[39m\u001b[38;5;124m/\u001b[39m\u001b[38;5;124m'\u001b[39m)[\u001b[38;5;241m2\u001b[39m:])\n\u001b[1;32m     10\u001b[0m directory \u001b[38;5;241m=\u001b[39m os\u001b[38;5;241m.\u001b[39mpath\u001b[38;5;241m.\u001b[39mdirname(save)  \u001b[38;5;66;03m# Extract the directory path\u001b[39;00m\n",
      "Cell \u001b[0;32mIn[31], line 4\u001b[0m, in \u001b[0;36maccuracy\u001b[0;34m(row, lang_prefix, gender_prefix)\u001b[0m\n\u001b[1;32m      1\u001b[0m \u001b[38;5;28;01mdef\u001b[39;00m \u001b[38;5;21maccuracy\u001b[39m(row, lang_prefix: \u001b[38;5;28mstr\u001b[39m, gender_prefix: \u001b[38;5;28mstr\u001b[39m):\n\u001b[1;32m      2\u001b[0m     \u001b[38;5;66;03m# Collect true values \u001b[39;00m\n\u001b[1;32m      3\u001b[0m     \u001b[38;5;28mprint\u001b[39m(row)\n\u001b[0;32m----> 4\u001b[0m     true_values \u001b[38;5;241m=\u001b[39m {row[\u001b[38;5;124mf\u001b[39m\u001b[38;5;124m\"\u001b[39m\u001b[38;5;132;01m{\u001b[39;00mlang_prefix\u001b[38;5;132;01m}\u001b[39;00m\u001b[38;5;124m_\u001b[39m\u001b[38;5;132;01m{\u001b[39;00mgender_prefix\u001b[38;5;132;01m}\u001b[39;00m\u001b[38;5;124m\"\u001b[39m]}\n\u001b[1;32m      5\u001b[0m     true_values \u001b[38;5;241m=\u001b[39m {val\u001b[38;5;241m.\u001b[39mlower() \u001b[38;5;28;01mfor\u001b[39;00m val \u001b[38;5;129;01min\u001b[39;00m true_values \u001b[38;5;28;01mif\u001b[39;00m pd\u001b[38;5;241m.\u001b[39mnotna(val)} \u001b[38;5;66;03m# Remove NaN\u001b[39;00m\n\u001b[1;32m      8\u001b[0m     \u001b[38;5;66;03m# Collect predicted values from extracted\u001b[39;00m\n",
      "File \u001b[0;32m~/.pyenv/versions/anaconda3-2023.09-0/lib/python3.11/site-packages/pandas/core/series.py:1007\u001b[0m, in \u001b[0;36mSeries.__getitem__\u001b[0;34m(self, key)\u001b[0m\n\u001b[1;32m   1004\u001b[0m     \u001b[38;5;28;01mreturn\u001b[39;00m \u001b[38;5;28mself\u001b[39m\u001b[38;5;241m.\u001b[39m_values[key]\n\u001b[1;32m   1006\u001b[0m \u001b[38;5;28;01melif\u001b[39;00m key_is_scalar:\n\u001b[0;32m-> 1007\u001b[0m     \u001b[38;5;28;01mreturn\u001b[39;00m \u001b[38;5;28mself\u001b[39m\u001b[38;5;241m.\u001b[39m_get_value(key)\n\u001b[1;32m   1009\u001b[0m \u001b[38;5;28;01mif\u001b[39;00m is_hashable(key):\n\u001b[1;32m   1010\u001b[0m     \u001b[38;5;66;03m# Otherwise index.get_value will raise InvalidIndexError\u001b[39;00m\n\u001b[1;32m   1011\u001b[0m     \u001b[38;5;28;01mtry\u001b[39;00m:\n\u001b[1;32m   1012\u001b[0m         \u001b[38;5;66;03m# For labels that don't resolve as scalars like tuples and frozensets\u001b[39;00m\n",
      "File \u001b[0;32m~/.pyenv/versions/anaconda3-2023.09-0/lib/python3.11/site-packages/pandas/core/series.py:1116\u001b[0m, in \u001b[0;36mSeries._get_value\u001b[0;34m(self, label, takeable)\u001b[0m\n\u001b[1;32m   1113\u001b[0m     \u001b[38;5;28;01mreturn\u001b[39;00m \u001b[38;5;28mself\u001b[39m\u001b[38;5;241m.\u001b[39m_values[label]\n\u001b[1;32m   1115\u001b[0m \u001b[38;5;66;03m# Similar to Index.get_value, but we do not fall back to positional\u001b[39;00m\n\u001b[0;32m-> 1116\u001b[0m loc \u001b[38;5;241m=\u001b[39m \u001b[38;5;28mself\u001b[39m\u001b[38;5;241m.\u001b[39mindex\u001b[38;5;241m.\u001b[39mget_loc(label)\n\u001b[1;32m   1118\u001b[0m \u001b[38;5;28;01mif\u001b[39;00m is_integer(loc):\n\u001b[1;32m   1119\u001b[0m     \u001b[38;5;28;01mreturn\u001b[39;00m \u001b[38;5;28mself\u001b[39m\u001b[38;5;241m.\u001b[39m_values[loc]\n",
      "File \u001b[0;32m~/.pyenv/versions/anaconda3-2023.09-0/lib/python3.11/site-packages/pandas/core/indexes/range.py:349\u001b[0m, in \u001b[0;36mRangeIndex.get_loc\u001b[0;34m(self, key)\u001b[0m\n\u001b[1;32m    347\u001b[0m         \u001b[38;5;28;01mraise\u001b[39;00m \u001b[38;5;167;01mKeyError\u001b[39;00m(key) \u001b[38;5;28;01mfrom\u001b[39;00m \u001b[38;5;21;01merr\u001b[39;00m\n\u001b[1;32m    348\u001b[0m \u001b[38;5;28;01mif\u001b[39;00m \u001b[38;5;28misinstance\u001b[39m(key, Hashable):\n\u001b[0;32m--> 349\u001b[0m     \u001b[38;5;28;01mraise\u001b[39;00m \u001b[38;5;167;01mKeyError\u001b[39;00m(key)\n\u001b[1;32m    350\u001b[0m \u001b[38;5;28mself\u001b[39m\u001b[38;5;241m.\u001b[39m_check_indexing_error(key)\n\u001b[1;32m    351\u001b[0m \u001b[38;5;28;01mraise\u001b[39;00m \u001b[38;5;167;01mKeyError\u001b[39;00m(key)\n",
      "\u001b[0;31mKeyError\u001b[0m: 'deu_m'"
     ]
    }
   ],
   "source": [
    "gender_prefixes = ['m', 'f', 'n']\n",
    "for path, lang in paths.items():\n",
    "    print(path)\n",
    "    df = pd.read_csv(path)\n",
    "    print(df.columns.tolist())\n",
    "    for gender_prefix in gender_prefixes:\n",
    "        df[f'is_{gender_prefix}'] = df.apply(lambda row: accuracy(row, lang, gender_prefix))\n",
    "        \n",
    "    save = 'accuracy/' + '/'.join(test.split('/')[2:])\n",
    "    directory = os.path.dirname(save)  # Extract the directory path\n",
    "    os.makedirs(directory, exist_ok=True)  # Create the directories if they don't exist\n",
    "    \n",
    "    df.to_csv(save, index=False)"
   ]
  },
  {
   "cell_type": "code",
   "execution_count": null,
   "id": "2db4883f-c040-4404-a11c-bcc8bf3e6826",
   "metadata": {},
   "outputs": [],
   "source": []
  }
 ],
 "metadata": {
  "kernelspec": {
   "display_name": "Python 3 (ipykernel)",
   "language": "python",
   "name": "python3"
  },
  "language_info": {
   "codemirror_mode": {
    "name": "ipython",
    "version": 3
   },
   "file_extension": ".py",
   "mimetype": "text/x-python",
   "name": "python",
   "nbconvert_exporter": "python",
   "pygments_lexer": "ipython3",
   "version": "3.11.5"
  }
 },
 "nbformat": 4,
 "nbformat_minor": 5
}
