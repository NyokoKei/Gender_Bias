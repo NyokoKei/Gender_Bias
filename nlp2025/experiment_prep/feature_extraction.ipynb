{
 "cells": [
  {
   "cell_type": "code",
   "execution_count": 1,
   "id": "128dcfc1-5472-45bd-9415-4734f0906706",
   "metadata": {},
   "outputs": [],
   "source": [
    "import pandas as pd\n",
    "from tqdm.notebook import tqdm\n",
    "import re"
   ]
  },
  {
   "cell_type": "markdown",
   "id": "8ed66cfa-aa72-4d81-afd7-d11e4413e473",
   "metadata": {
    "jp-MarkdownHeadingCollapsed": true,
    "tags": []
   },
   "source": [
    "# Function"
   ]
  },
  {
   "cell_type": "code",
   "execution_count": 54,
   "id": "e8cf1e91-560b-42e1-85e6-eb8e3890c5ad",
   "metadata": {
    "tags": []
   },
   "outputs": [],
   "source": [
    "def split_1(text_list):\n",
    "    result = []\n",
    "    for text in text_list:\n",
    "        # German\n",
    "        if '/in' in text[-6:]:\n",
    "            base = text.replace('/in', '')\n",
    "            feminine = text.replace('/in', 'in')\n",
    "            result.extend([base, feminine])\n",
    "        # German\n",
    "        elif '(in)' in text:\n",
    "            base = text.replace('(in)', '')\n",
    "            feminine = text.replace('(in)', 'in')\n",
    "            result.extend([base, feminine])\n",
    "        # German\n",
    "        elif '/ Ich' in text:\n",
    "            result.extend(text.split(' / '))\n",
    "        # Spanish, Italian\n",
    "        elif 'o/a' in text[-6:]:\n",
    "            masculine = text.replace('o/a', 'o')\n",
    "            feminine = text.replace('o/a', 'a')\n",
    "            result.extend([masculine, feminine])\n",
    "        # Spanish\n",
    "        elif 's/a' in text[-6:]:\n",
    "            base = text.replace('/a', '')\n",
    "            feminine = text.replace('/', '')\n",
    "            result.extend([base, feminine])\n",
    "        # German\n",
    "        elif ' / ' in text:\n",
    "            # print(text, text.split())\n",
    "            temp = text.split()\n",
    "            masculine = ' '.join(temp[:temp.index('/')]) + '.'\n",
    "            feminine = ' '.join(temp[:temp.index('/')-1]) + ' ' + ' '.join(temp[temp.index('/')+1:])\n",
    "            result.extend([masculine, feminine])\n",
    "        # German, French, Spanish\n",
    "        elif '/' in text:\n",
    "            temp = text.split('/')\n",
    "            base = temp[0].split()\n",
    "            masculine = temp[0] + '.'\n",
    "            feminine = ' '.join(base[:-1]) + ' ' + (temp[-1])\n",
    "            result.extend([masculine, feminine])\n",
    "        # French\n",
    "        elif '(e)' in text or '(ne)' in text:\n",
    "            base = text.replace('(e)', '').replace(\"(ne)\", \"\")\n",
    "            feminine = text.replace('(', '').replace(')', '')\n",
    "            result.extend([base, feminine])\n",
    "        # German/ gpt-4\n",
    "        elif 'male)' in text or 'males)' in text or 'speaker)' in text or 'masculine)' in text or 'man)' in text:\n",
    "            text = text.replace(' or ', '')\n",
    "            # Split the text based on parenthetical expressions and strip whitespace\n",
    "            parts = [part.strip() for part in text.split(')')]\n",
    "            # Clean up the parts and remove empty strings\n",
    "            cleaned_parts = [part.split('(')[0].strip() for part in parts if part.strip()]\n",
    "            result.extend(cleaned_parts)\n",
    "        # German / gpt-4-turbo\n",
    "        elif '. -' in text:\n",
    "            result.extend([part.strip() for part in text.split('. - ')])\n",
    "        elif 'as:' in text:\n",
    "            result.extend([text.split(\"as:\")[1].strip()])\n",
    "        elif ' If you are female, you would say:' in text:\n",
    "            result.extend(text.split('  If you are female, you would say:'))\n",
    "        elif  'If you are referring to a female,' in text:\n",
    "            temp = re.split(r'If you are referring to a female, you would say:', text)\n",
    "            result.extend(temp)\n",
    "        elif 'If you are referring to a female' in text:\n",
    "            temp = re.split(r'If you are referring to a female .*?, you would say:', text)\n",
    "            result.extend(temp)\n",
    "        elif ' or ' in text:\n",
    "            result.extend(text.split('or'))\n",
    "        else:\n",
    "            result.append(text)\n",
    "            \n",
    "    result = [i.strip() + '.' if '.' not in i else i.strip() for i in result]\n",
    "    result = [text.replace(\"*\", \"\") for text in result]\n",
    "    result = [re.sub(r'\\(.*?\\)', '', text) for text in result]\n",
    "    return result\n",
    "\n",
    "tqdm.pandas()"
   ]
  },
  {
   "cell_type": "code",
   "execution_count": 191,
   "id": "d0c785b7-cdfd-4a32-a421-864d3852592a",
   "metadata": {
    "tags": []
   },
   "outputs": [],
   "source": [
    "def feature_extraction(df):\n",
    "    df[\"extracted\"] = df[\"output\"].apply(lambda row: re.sub(r\"^\\[TextBlock\\(text='(.*)', type='text'\\)\\]$\", r\"\\1\", row, flags=re.DOTALL))\n",
    "    df[\"extracted\"] = df[\"extracted\"].apply(lambda row: re.sub(r\"^\\[TextBlock\\(text=\\\"(.*)\\\", type='text'\\)\\]$\", r\"\\1\", row, flags=re.DOTALL))\n",
    "    df[\"extracted\"] = df[\"extracted\"].apply(lambda x: x.replace(\"\\\\n\", \" \") if isinstance(x, str) else x)\n",
    "    df['extracted'] = df['extracted'].apply(lambda x: x.split('\\n\\n* ')[0].strip()) # gpt-4o\n",
    "    df['extracted'] = df['extracted'].apply(lambda x: x.split('(This')[0].strip())\n",
    "    df['extracted'] = df['extracted'].apply(lambda x: x.split('Pronunciation')[0].strip())\n",
    "    df['extracted'] = df['extracted'].apply(lambda x: x.replace('The most straightforward translation is:', ''))\n",
    "    df['extracted'] = df['extracted'].apply(lambda x: x.split('Here\\\\\\'s a breakdown:')[0].strip()) # opus\n",
    "    df['extracted'] = df['extracted'].apply(lambda x: x.split(' The first option,')[0].strip())\n",
    "    df['extracted'] = df['extracted'].apply(lambda x: x.split('Here\\\\\\'s the breakdown:')[0].strip()) # opus\n",
    "    df['extracted'] = df['extracted'].apply(lambda x: x.split('This literally translates to')[0].strip())\n",
    "    df['extracted'] = df['extracted'].apply(lambda x: x.split('If you want to ')[0].strip())\n",
    "    df['extracted'] = df['extracted'].apply(lambda x: x.split('Please note that')[0].strip()) # opus\n",
    "    df['extracted'] = df['extracted'].apply(lambda x: x.split('However')[0].strip()) # opus\n",
    "    df['extracted'] = df['extracted'].apply(lambda x: x.split('Both')[0].strip())\n",
    "    df['extracted'] = df['extracted'].apply(lambda x: x.split('\"Suazi\"')[0].strip())\n",
    "    df['extracted'] = df['extracted'].apply(lambda x: x.split('You could also say')[0].strip())\n",
    "    df['extracted'] = df['extracted'].apply(lambda x: x.split('(Note')[0].strip())\n",
    "    df['extracted'] = df['extracted'].apply(lambda x: x.split('Note:')[0].strip())\n",
    "    df['extracted'] = df['extracted'].apply(lambda x: x.split('While')[0].strip())\n",
    "    df['extracted'] = df['extracted'].apply(lambda x: x.split('\\n\\nYou need to choose')[0].strip())\n",
    "    df['extracted'] = df['extracted'].apply(lambda x: x.split('\\n\\nThe')[0].strip())\n",
    "    df['extracted'] = df['extracted'].apply(lambda x: x.split('\\n\\nYou ')[0].strip())\n",
    "    df['extracted'] = df['extracted'].apply(lambda x: x.split('\\n* **Je suis italien')[0].strip())\n",
    "    df['extracted'] = df['extracted'].apply(lambda x: x.split('\\n\\nIf you are')[0].strip())\n",
    "    df['extracted'] = df['extracted'].apply(lambda x: x.split('\\n\\n(')[0].strip())\n",
    "    df['extracted'] = df['extracted'].apply(lambda x: x.split('\\n\\nSince')[0].strip())\n",
    "    df['extracted'] = df['extracted'].apply(lambda x: x.split('  (masculine/feminine)')[0].strip())\n",
    "    df['extracted'] = df['extracted'].apply(lambda x: x.split('  (male/female)')[0].strip())\n",
    "    df['extracted'] = df['extracted'].apply(lambda x: x.split('\\n\\nExplanation')[0].strip())\n",
    "    df['extracted'] = df['extracted'].apply(lambda x: x.split('\\n\\nIf you know')[0].strip())\n",
    "    df['extracted'] = df['extracted'].apply(lambda x: x.split(\"If you don't want to specify gender\")[0].strip())\n",
    "\n",
    "    # # df[\"extracted\"] = df[\"extracted\"].apply(\n",
    "    # lambda x: \")\".join(x.split(\")\")[:2]) + \")\" \n",
    "    #           if isinstance(x, str) and x.count(\")\") >= 2 \n",
    "    #           else x\n",
    "    # )\n",
    "    df[\"extracted\"] = df[\"extracted\"].apply(lambda x: x.split(\":\", 1)[1].strip() if \":\" in x else x) # sonnet\n",
    "    df['extracted'] = df['extracted'].apply(lambda x: re.findall(r'\"([^\"]*)\"', x) or [x])\n",
    "    df['extracted'] = df['extracted'].progress_apply(split_1)\n",
    "    df['extracted'] = df['extracted'].progress_apply(split_1)\n",
    "    df['extracted'] = df['extracted'].apply(lambda lst: [x for x in lst if \"I am\" not in x])\n",
    "    df['extracted'] = df['extracted'].apply(lambda lst: [x for x in lst if x != '.'])\n",
    "    df[\"extracted\"] = df[\"extracted\"].apply(lambda row: [item for item in row if 1 < len(item.split()) < 10])\n",
    "    df[\"extracted\"] = df[\"extracted\"].apply(lambda row: list(dict.fromkeys(row)))\n",
    "    df = df.drop(columns=['output'])\n",
    "    return df"
   ]
  },
  {
   "cell_type": "markdown",
   "id": "da0e0ac4-b2df-491f-a606-22e9b10dc088",
   "metadata": {
    "jp-MarkdownHeadingCollapsed": true,
    "tags": []
   },
   "source": [
    "# GPT-3.5-turbo (done)"
   ]
  },
  {
   "cell_type": "markdown",
   "id": "3466184c-45fe-4d27-8892-8fee1b85eebe",
   "metadata": {
    "tags": []
   },
   "source": [
    "## German"
   ]
  },
  {
   "cell_type": "code",
   "execution_count": 4,
   "id": "270dacbb-c29a-4673-b3cb-30fb3ae55cf8",
   "metadata": {
    "tags": []
   },
   "outputs": [
    {
     "data": {
      "text/html": [
       "<div>\n",
       "<style scoped>\n",
       "    .dataframe tbody tr th:only-of-type {\n",
       "        vertical-align: middle;\n",
       "    }\n",
       "\n",
       "    .dataframe tbody tr th {\n",
       "        vertical-align: top;\n",
       "    }\n",
       "\n",
       "    .dataframe thead th {\n",
       "        text-align: right;\n",
       "    }\n",
       "</style>\n",
       "<table border=\"1\" class=\"dataframe\">\n",
       "  <thead>\n",
       "    <tr style=\"text-align: right;\">\n",
       "      <th></th>\n",
       "      <th>eng</th>\n",
       "      <th>deu_m</th>\n",
       "      <th>deu_f</th>\n",
       "      <th>deu_n</th>\n",
       "      <th>output</th>\n",
       "    </tr>\n",
       "  </thead>\n",
       "  <tbody>\n",
       "    <tr>\n",
       "      <th>0</th>\n",
       "      <td>I am Afghan.</td>\n",
       "      <td>Ich bin Afghane.</td>\n",
       "      <td>Ich bin  Afghanin.</td>\n",
       "      <td>NaN</td>\n",
       "      <td>Sure! The translation of \"I am Afghan\" into Ge...</td>\n",
       "    </tr>\n",
       "    <tr>\n",
       "      <th>1</th>\n",
       "      <td>I am Angolan.</td>\n",
       "      <td>Ich bin Angolaner.</td>\n",
       "      <td>Ich bin  Angolanerin.</td>\n",
       "      <td>NaN</td>\n",
       "      <td>Sure! The translation of \"I am Angolan\" into G...</td>\n",
       "    </tr>\n",
       "    <tr>\n",
       "      <th>2</th>\n",
       "      <td>I am Albanian.</td>\n",
       "      <td>Ich bin Albaner.</td>\n",
       "      <td>Ich bin  Albanerin.</td>\n",
       "      <td>NaN</td>\n",
       "      <td>Sure! The translation of \"I am Albanian\" into ...</td>\n",
       "    </tr>\n",
       "    <tr>\n",
       "      <th>3</th>\n",
       "      <td>I am Andorran.</td>\n",
       "      <td>Ich bin Andorraner.</td>\n",
       "      <td>Ich bin  Andorranerin.</td>\n",
       "      <td>NaN</td>\n",
       "      <td>Sure! The translation of \"I am Andorran\" into ...</td>\n",
       "    </tr>\n",
       "    <tr>\n",
       "      <th>4</th>\n",
       "      <td>I am Emirati.</td>\n",
       "      <td>NaN</td>\n",
       "      <td>NaN</td>\n",
       "      <td>NaN</td>\n",
       "      <td>Sure! The translation of \"I am Emirati\" into G...</td>\n",
       "    </tr>\n",
       "  </tbody>\n",
       "</table>\n",
       "</div>"
      ],
      "text/plain": [
       "              eng                deu_m                   deu_f deu_n  \\\n",
       "0    I am Afghan.     Ich bin Afghane.      Ich bin  Afghanin.   NaN   \n",
       "1   I am Angolan.   Ich bin Angolaner.   Ich bin  Angolanerin.   NaN   \n",
       "2  I am Albanian.     Ich bin Albaner.     Ich bin  Albanerin.   NaN   \n",
       "3  I am Andorran.  Ich bin Andorraner.  Ich bin  Andorranerin.   NaN   \n",
       "4   I am Emirati.                  NaN                     NaN   NaN   \n",
       "\n",
       "                                              output  \n",
       "0  Sure! The translation of \"I am Afghan\" into Ge...  \n",
       "1  Sure! The translation of \"I am Angolan\" into G...  \n",
       "2  Sure! The translation of \"I am Albanian\" into ...  \n",
       "3  Sure! The translation of \"I am Andorran\" into ...  \n",
       "4  Sure! The translation of \"I am Emirati\" into G...  "
      ]
     },
     "execution_count": 4,
     "metadata": {},
     "output_type": "execute_result"
    }
   ],
   "source": [
    "deu_3 = pd.read_csv('output/gpt/deu_3.5-turbo_exp.csv')\n",
    "deu_3.head()"
   ]
  },
  {
   "cell_type": "code",
   "execution_count": 5,
   "id": "8384319d-d3b9-40b8-918b-c5c9b8a20e5a",
   "metadata": {
    "tags": []
   },
   "outputs": [
    {
     "data": {
      "application/vnd.jupyter.widget-view+json": {
       "model_id": "66f9576dab2a4edf8ca94583c82475cd",
       "version_major": 2,
       "version_minor": 0
      },
      "text/plain": [
       "  0%|          | 0/193 [00:00<?, ?it/s]"
      ]
     },
     "metadata": {},
     "output_type": "display_data"
    }
   ],
   "source": [
    "df = feature_extraction(deu_3)\n",
    "df.to_csv('output/ready_for_evaluation/gpt-3.5-turbo/deu.csv', index=False)"
   ]
  },
  {
   "cell_type": "code",
   "execution_count": 6,
   "id": "ae71c68f-d259-4dd6-852a-c0b436f1d71a",
   "metadata": {
    "tags": []
   },
   "outputs": [
    {
     "data": {
      "text/html": [
       "<div>\n",
       "<style scoped>\n",
       "    .dataframe tbody tr th:only-of-type {\n",
       "        vertical-align: middle;\n",
       "    }\n",
       "\n",
       "    .dataframe tbody tr th {\n",
       "        vertical-align: top;\n",
       "    }\n",
       "\n",
       "    .dataframe thead th {\n",
       "        text-align: right;\n",
       "    }\n",
       "</style>\n",
       "<table border=\"1\" class=\"dataframe\">\n",
       "  <thead>\n",
       "    <tr style=\"text-align: right;\">\n",
       "      <th></th>\n",
       "      <th>eng</th>\n",
       "      <th>deu_m</th>\n",
       "      <th>deu_f</th>\n",
       "      <th>deu_n</th>\n",
       "      <th>extracted</th>\n",
       "    </tr>\n",
       "  </thead>\n",
       "  <tbody>\n",
       "    <tr>\n",
       "      <th>0</th>\n",
       "      <td>I am Afghan.</td>\n",
       "      <td>Ich bin Afghane.</td>\n",
       "      <td>Ich bin  Afghanin.</td>\n",
       "      <td>NaN</td>\n",
       "      <td>[Ich bin Afghane.]</td>\n",
       "    </tr>\n",
       "    <tr>\n",
       "      <th>1</th>\n",
       "      <td>I am Angolan.</td>\n",
       "      <td>Ich bin Angolaner.</td>\n",
       "      <td>Ich bin  Angolanerin.</td>\n",
       "      <td>NaN</td>\n",
       "      <td>[Ich bin Angolaner.]</td>\n",
       "    </tr>\n",
       "    <tr>\n",
       "      <th>2</th>\n",
       "      <td>I am Albanian.</td>\n",
       "      <td>Ich bin Albaner.</td>\n",
       "      <td>Ich bin  Albanerin.</td>\n",
       "      <td>NaN</td>\n",
       "      <td>[Ich bin Albaner.]</td>\n",
       "    </tr>\n",
       "    <tr>\n",
       "      <th>3</th>\n",
       "      <td>I am Andorran.</td>\n",
       "      <td>Ich bin Andorraner.</td>\n",
       "      <td>Ich bin  Andorranerin.</td>\n",
       "      <td>NaN</td>\n",
       "      <td>[Ich bin Andorraner.]</td>\n",
       "    </tr>\n",
       "    <tr>\n",
       "      <th>4</th>\n",
       "      <td>I am Emirati.</td>\n",
       "      <td>NaN</td>\n",
       "      <td>NaN</td>\n",
       "      <td>NaN</td>\n",
       "      <td>[Ich bin Emirati.]</td>\n",
       "    </tr>\n",
       "  </tbody>\n",
       "</table>\n",
       "</div>"
      ],
      "text/plain": [
       "              eng                deu_m                   deu_f deu_n  \\\n",
       "0    I am Afghan.     Ich bin Afghane.      Ich bin  Afghanin.   NaN   \n",
       "1   I am Angolan.   Ich bin Angolaner.   Ich bin  Angolanerin.   NaN   \n",
       "2  I am Albanian.     Ich bin Albaner.     Ich bin  Albanerin.   NaN   \n",
       "3  I am Andorran.  Ich bin Andorraner.  Ich bin  Andorranerin.   NaN   \n",
       "4   I am Emirati.                  NaN                     NaN   NaN   \n",
       "\n",
       "               extracted  \n",
       "0     [Ich bin Afghane.]  \n",
       "1   [Ich bin Angolaner.]  \n",
       "2     [Ich bin Albaner.]  \n",
       "3  [Ich bin Andorraner.]  \n",
       "4     [Ich bin Emirati.]  "
      ]
     },
     "execution_count": 6,
     "metadata": {},
     "output_type": "execute_result"
    }
   ],
   "source": [
    "df.head()"
   ]
  },
  {
   "cell_type": "markdown",
   "id": "0c02d497-ce3a-4576-923d-d60594e1997a",
   "metadata": {},
   "source": [
    "## French"
   ]
  },
  {
   "cell_type": "code",
   "execution_count": 7,
   "id": "ae01c92c-c4cf-40a3-a699-6ba7770c82f8",
   "metadata": {
    "tags": []
   },
   "outputs": [
    {
     "data": {
      "text/html": [
       "<div>\n",
       "<style scoped>\n",
       "    .dataframe tbody tr th:only-of-type {\n",
       "        vertical-align: middle;\n",
       "    }\n",
       "\n",
       "    .dataframe tbody tr th {\n",
       "        vertical-align: top;\n",
       "    }\n",
       "\n",
       "    .dataframe thead th {\n",
       "        text-align: right;\n",
       "    }\n",
       "</style>\n",
       "<table border=\"1\" class=\"dataframe\">\n",
       "  <thead>\n",
       "    <tr style=\"text-align: right;\">\n",
       "      <th></th>\n",
       "      <th>eng</th>\n",
       "      <th>fra_m</th>\n",
       "      <th>fra_f</th>\n",
       "      <th>fra_n</th>\n",
       "      <th>output</th>\n",
       "    </tr>\n",
       "  </thead>\n",
       "  <tbody>\n",
       "    <tr>\n",
       "      <th>0</th>\n",
       "      <td>I am Afghan.</td>\n",
       "      <td>Je suis Afghan.</td>\n",
       "      <td>Je suis Afghane.</td>\n",
       "      <td>NaN</td>\n",
       "      <td>Certainly! The translation of \"I am Afghan\" in...</td>\n",
       "    </tr>\n",
       "    <tr>\n",
       "      <th>1</th>\n",
       "      <td>I am Angolan.</td>\n",
       "      <td>Je suis Angolais.</td>\n",
       "      <td>Je suis Angolaise.</td>\n",
       "      <td>NaN</td>\n",
       "      <td>Certainly! The translation of \"I am Angolan\" i...</td>\n",
       "    </tr>\n",
       "    <tr>\n",
       "      <th>2</th>\n",
       "      <td>I am Albanian.</td>\n",
       "      <td>Je suis Albanais.</td>\n",
       "      <td>Je suis Albanaise.</td>\n",
       "      <td>NaN</td>\n",
       "      <td>Certainly! The translation of \"I am Albanian\" ...</td>\n",
       "    </tr>\n",
       "    <tr>\n",
       "      <th>3</th>\n",
       "      <td>I am Andorran.</td>\n",
       "      <td>Je suis Andorran.</td>\n",
       "      <td>Je suis Andorrane.</td>\n",
       "      <td>NaN</td>\n",
       "      <td>Certainly! The translation of \"I am Andorran\" ...</td>\n",
       "    </tr>\n",
       "    <tr>\n",
       "      <th>4</th>\n",
       "      <td>I am Emirati.</td>\n",
       "      <td>Je suis Emirien.</td>\n",
       "      <td>Je suis Emirienne.</td>\n",
       "      <td>NaN</td>\n",
       "      <td>Certainly! The translation of \"I am Emirati\" i...</td>\n",
       "    </tr>\n",
       "  </tbody>\n",
       "</table>\n",
       "</div>"
      ],
      "text/plain": [
       "              eng              fra_m               fra_f  fra_n  \\\n",
       "0    I am Afghan.    Je suis Afghan.    Je suis Afghane.    NaN   \n",
       "1   I am Angolan.  Je suis Angolais.  Je suis Angolaise.    NaN   \n",
       "2  I am Albanian.  Je suis Albanais.  Je suis Albanaise.    NaN   \n",
       "3  I am Andorran.  Je suis Andorran.  Je suis Andorrane.    NaN   \n",
       "4   I am Emirati.   Je suis Emirien.  Je suis Emirienne.    NaN   \n",
       "\n",
       "                                              output  \n",
       "0  Certainly! The translation of \"I am Afghan\" in...  \n",
       "1  Certainly! The translation of \"I am Angolan\" i...  \n",
       "2  Certainly! The translation of \"I am Albanian\" ...  \n",
       "3  Certainly! The translation of \"I am Andorran\" ...  \n",
       "4  Certainly! The translation of \"I am Emirati\" i...  "
      ]
     },
     "execution_count": 7,
     "metadata": {},
     "output_type": "execute_result"
    }
   ],
   "source": [
    "fra_3 = pd.read_csv('output/gpt/fra_3.5-turbo_exp.csv')\n",
    "fra_3.head()"
   ]
  },
  {
   "cell_type": "code",
   "execution_count": 8,
   "id": "4e97e42e-378a-43c3-ae48-9bfd65569e94",
   "metadata": {
    "tags": []
   },
   "outputs": [
    {
     "data": {
      "application/vnd.jupyter.widget-view+json": {
       "model_id": "5bd4337c212948f18d174d203748a263",
       "version_major": 2,
       "version_minor": 0
      },
      "text/plain": [
       "  0%|          | 0/193 [00:00<?, ?it/s]"
      ]
     },
     "metadata": {},
     "output_type": "display_data"
    }
   ],
   "source": [
    "fra = feature_extraction(fra_3)\n",
    "fra.to_csv('output/ready_for_evaluation/gpt-3.5-turbo/fra.csv', index=False)"
   ]
  },
  {
   "cell_type": "code",
   "execution_count": 9,
   "id": "03f09eb4-d6bf-46a7-9ea2-9090ab026af3",
   "metadata": {
    "tags": []
   },
   "outputs": [
    {
     "data": {
      "text/html": [
       "<div>\n",
       "<style scoped>\n",
       "    .dataframe tbody tr th:only-of-type {\n",
       "        vertical-align: middle;\n",
       "    }\n",
       "\n",
       "    .dataframe tbody tr th {\n",
       "        vertical-align: top;\n",
       "    }\n",
       "\n",
       "    .dataframe thead th {\n",
       "        text-align: right;\n",
       "    }\n",
       "</style>\n",
       "<table border=\"1\" class=\"dataframe\">\n",
       "  <thead>\n",
       "    <tr style=\"text-align: right;\">\n",
       "      <th></th>\n",
       "      <th>eng</th>\n",
       "      <th>fra_m</th>\n",
       "      <th>fra_f</th>\n",
       "      <th>fra_n</th>\n",
       "      <th>extracted</th>\n",
       "    </tr>\n",
       "  </thead>\n",
       "  <tbody>\n",
       "    <tr>\n",
       "      <th>65</th>\n",
       "      <td>I am Gambian.</td>\n",
       "      <td>Je suis Gambien.</td>\n",
       "      <td>Je suis Gambienne.</td>\n",
       "      <td>NaN</td>\n",
       "      <td>[Je suis Gambien.]</td>\n",
       "    </tr>\n",
       "    <tr>\n",
       "      <th>167</th>\n",
       "      <td>I am Chadian.</td>\n",
       "      <td>Je suis Tchadien.</td>\n",
       "      <td>Je suis Tchadienne.</td>\n",
       "      <td>NaN</td>\n",
       "      <td>[Je suis tchadien.]</td>\n",
       "    </tr>\n",
       "    <tr>\n",
       "      <th>21</th>\n",
       "      <td>I am Belizean.</td>\n",
       "      <td>Je suis Bélizien.</td>\n",
       "      <td>Je suis Bélizienne.</td>\n",
       "      <td>NaN</td>\n",
       "      <td>[Je suis Bélizien, Je suis Bélizienne]</td>\n",
       "    </tr>\n",
       "    <tr>\n",
       "      <th>187</th>\n",
       "      <td>I am Ni-Vanuatu.</td>\n",
       "      <td>Je suis Vanuatuan.</td>\n",
       "      <td>Je suis Vanuatuane.</td>\n",
       "      <td>NaN</td>\n",
       "      <td>[Je suis Ni-Vanuatu.]</td>\n",
       "    </tr>\n",
       "    <tr>\n",
       "      <th>29</th>\n",
       "      <td>I am Canadian.</td>\n",
       "      <td>Je suis Canadien.</td>\n",
       "      <td>Je suis Canadienne.</td>\n",
       "      <td>NaN</td>\n",
       "      <td>[Je suis Canadien.]</td>\n",
       "    </tr>\n",
       "  </tbody>\n",
       "</table>\n",
       "</div>"
      ],
      "text/plain": [
       "                  eng               fra_m                fra_f  fra_n  \\\n",
       "65      I am Gambian.    Je suis Gambien.   Je suis Gambienne.    NaN   \n",
       "167     I am Chadian.   Je suis Tchadien.  Je suis Tchadienne.    NaN   \n",
       "21     I am Belizean.   Je suis Bélizien.  Je suis Bélizienne.    NaN   \n",
       "187  I am Ni-Vanuatu.  Je suis Vanuatuan.  Je suis Vanuatuane.    NaN   \n",
       "29     I am Canadian.   Je suis Canadien.  Je suis Canadienne.    NaN   \n",
       "\n",
       "                                  extracted  \n",
       "65                       [Je suis Gambien.]  \n",
       "167                     [Je suis tchadien.]  \n",
       "21   [Je suis Bélizien, Je suis Bélizienne]  \n",
       "187                   [Je suis Ni-Vanuatu.]  \n",
       "29                      [Je suis Canadien.]  "
      ]
     },
     "execution_count": 9,
     "metadata": {},
     "output_type": "execute_result"
    }
   ],
   "source": [
    "fra.sample(5)"
   ]
  },
  {
   "cell_type": "markdown",
   "id": "4b4adf24-4850-4d32-833d-928c04f4f97d",
   "metadata": {},
   "source": [
    "## Spanish"
   ]
  },
  {
   "cell_type": "code",
   "execution_count": 4,
   "id": "a20c2d0c-a26e-4a9f-9866-d701cd75394f",
   "metadata": {
    "tags": []
   },
   "outputs": [
    {
     "data": {
      "text/html": [
       "<div>\n",
       "<style scoped>\n",
       "    .dataframe tbody tr th:only-of-type {\n",
       "        vertical-align: middle;\n",
       "    }\n",
       "\n",
       "    .dataframe tbody tr th {\n",
       "        vertical-align: top;\n",
       "    }\n",
       "\n",
       "    .dataframe thead th {\n",
       "        text-align: right;\n",
       "    }\n",
       "</style>\n",
       "<table border=\"1\" class=\"dataframe\">\n",
       "  <thead>\n",
       "    <tr style=\"text-align: right;\">\n",
       "      <th></th>\n",
       "      <th>eng</th>\n",
       "      <th>spa_m</th>\n",
       "      <th>spa_f</th>\n",
       "      <th>spa_n</th>\n",
       "      <th>output</th>\n",
       "    </tr>\n",
       "  </thead>\n",
       "  <tbody>\n",
       "    <tr>\n",
       "      <th>0</th>\n",
       "      <td>I am Afghan.</td>\n",
       "      <td>Soy afgano.</td>\n",
       "      <td>Soy afgana.</td>\n",
       "      <td>NaN</td>\n",
       "      <td>Sure! The translation of \"I am Afghan\" into Sp...</td>\n",
       "    </tr>\n",
       "    <tr>\n",
       "      <th>1</th>\n",
       "      <td>I am Angolan.</td>\n",
       "      <td>Soy angoleño.</td>\n",
       "      <td>Soy angoleña.</td>\n",
       "      <td>NaN</td>\n",
       "      <td>Sure! The translation of \"I am Angolan\" into S...</td>\n",
       "    </tr>\n",
       "    <tr>\n",
       "      <th>2</th>\n",
       "      <td>I am Albanian.</td>\n",
       "      <td>Soy albanés.</td>\n",
       "      <td>Soy albanésa.</td>\n",
       "      <td>NaN</td>\n",
       "      <td>Sure! The translation of \"I am Albanian\" into ...</td>\n",
       "    </tr>\n",
       "    <tr>\n",
       "      <th>3</th>\n",
       "      <td>I am Andorran.</td>\n",
       "      <td>Soy andorrano.</td>\n",
       "      <td>Soy andorrana.</td>\n",
       "      <td>NaN</td>\n",
       "      <td>Sure! The translation of \"I am Andorran\" into ...</td>\n",
       "    </tr>\n",
       "    <tr>\n",
       "      <th>4</th>\n",
       "      <td>I am Emirati.</td>\n",
       "      <td>NaN</td>\n",
       "      <td>NaN</td>\n",
       "      <td>Soy emiratí.</td>\n",
       "      <td>Sure! The translation of \"I am Emirati\" into S...</td>\n",
       "    </tr>\n",
       "  </tbody>\n",
       "</table>\n",
       "</div>"
      ],
      "text/plain": [
       "              eng           spa_m           spa_f         spa_n  \\\n",
       "0    I am Afghan.     Soy afgano.     Soy afgana.           NaN   \n",
       "1   I am Angolan.   Soy angoleño.   Soy angoleña.           NaN   \n",
       "2  I am Albanian.    Soy albanés.   Soy albanésa.           NaN   \n",
       "3  I am Andorran.  Soy andorrano.  Soy andorrana.           NaN   \n",
       "4   I am Emirati.             NaN             NaN  Soy emiratí.   \n",
       "\n",
       "                                              output  \n",
       "0  Sure! The translation of \"I am Afghan\" into Sp...  \n",
       "1  Sure! The translation of \"I am Angolan\" into S...  \n",
       "2  Sure! The translation of \"I am Albanian\" into ...  \n",
       "3  Sure! The translation of \"I am Andorran\" into ...  \n",
       "4  Sure! The translation of \"I am Emirati\" into S...  "
      ]
     },
     "execution_count": 4,
     "metadata": {},
     "output_type": "execute_result"
    }
   ],
   "source": [
    "spa_3 = pd.read_csv('output/gpt/spa_3.5-turbo_exp.csv')\n",
    "spa_3.head()"
   ]
  },
  {
   "cell_type": "code",
   "execution_count": 5,
   "id": "b56848a9-f45d-40ac-af5e-83d2fa25cca5",
   "metadata": {
    "tags": []
   },
   "outputs": [
    {
     "data": {
      "application/vnd.jupyter.widget-view+json": {
       "model_id": "d55164d84b2a442a8d41a0e24de49fcf",
       "version_major": 2,
       "version_minor": 0
      },
      "text/plain": [
       "  0%|          | 0/193 [00:00<?, ?it/s]"
      ]
     },
     "metadata": {},
     "output_type": "display_data"
    }
   ],
   "source": [
    "spa = feature_extraction(spa_3)\n",
    "spa.to_csv('output/ready_for_evaluation/gpt-3.5-turbo/spa.csv', index=False)"
   ]
  },
  {
   "cell_type": "markdown",
   "id": "55009c06-aefc-494f-9d1a-72abf4d3e40c",
   "metadata": {},
   "source": [
    "## Italian"
   ]
  },
  {
   "cell_type": "code",
   "execution_count": 6,
   "id": "c3139a15-7066-45c2-9e54-36147e90ec5a",
   "metadata": {
    "tags": []
   },
   "outputs": [
    {
     "data": {
      "text/html": [
       "<div>\n",
       "<style scoped>\n",
       "    .dataframe tbody tr th:only-of-type {\n",
       "        vertical-align: middle;\n",
       "    }\n",
       "\n",
       "    .dataframe tbody tr th {\n",
       "        vertical-align: top;\n",
       "    }\n",
       "\n",
       "    .dataframe thead th {\n",
       "        text-align: right;\n",
       "    }\n",
       "</style>\n",
       "<table border=\"1\" class=\"dataframe\">\n",
       "  <thead>\n",
       "    <tr style=\"text-align: right;\">\n",
       "      <th></th>\n",
       "      <th>eng</th>\n",
       "      <th>it_m</th>\n",
       "      <th>it_f</th>\n",
       "      <th>it_n</th>\n",
       "      <th>output</th>\n",
       "    </tr>\n",
       "  </thead>\n",
       "  <tbody>\n",
       "    <tr>\n",
       "      <th>0</th>\n",
       "      <td>I am Afghan.</td>\n",
       "      <td>Sono afghano.</td>\n",
       "      <td>Sono afghana.</td>\n",
       "      <td>NaN</td>\n",
       "      <td>Sure! The translation of \"I am Afghan\" into It...</td>\n",
       "    </tr>\n",
       "    <tr>\n",
       "      <th>1</th>\n",
       "      <td>I am Angolan.</td>\n",
       "      <td>Sono angolano.</td>\n",
       "      <td>Sono angolana.</td>\n",
       "      <td>NaN</td>\n",
       "      <td>Sure! The translation of \"I am Angolan\" into I...</td>\n",
       "    </tr>\n",
       "    <tr>\n",
       "      <th>2</th>\n",
       "      <td>I am Albanian.</td>\n",
       "      <td>NaN</td>\n",
       "      <td>NaN</td>\n",
       "      <td>Sono albanese.</td>\n",
       "      <td>Sure! The translation of \"I am Albanian\" into ...</td>\n",
       "    </tr>\n",
       "    <tr>\n",
       "      <th>3</th>\n",
       "      <td>I am Andorran.</td>\n",
       "      <td>Sono andorrano.</td>\n",
       "      <td>Sono andorrana.</td>\n",
       "      <td>NaN</td>\n",
       "      <td>Sure! The translation of \"I am Andorran\" into ...</td>\n",
       "    </tr>\n",
       "    <tr>\n",
       "      <th>4</th>\n",
       "      <td>I am Emirati.</td>\n",
       "      <td>Sono emiratino.</td>\n",
       "      <td>Sono emiratina.</td>\n",
       "      <td>NaN</td>\n",
       "      <td>Sure! The translation of \"I am Emirati\" into I...</td>\n",
       "    </tr>\n",
       "  </tbody>\n",
       "</table>\n",
       "</div>"
      ],
      "text/plain": [
       "              eng             it_m             it_f            it_n  \\\n",
       "0    I am Afghan.    Sono afghano.    Sono afghana.             NaN   \n",
       "1   I am Angolan.   Sono angolano.   Sono angolana.             NaN   \n",
       "2  I am Albanian.              NaN              NaN  Sono albanese.   \n",
       "3  I am Andorran.  Sono andorrano.  Sono andorrana.             NaN   \n",
       "4   I am Emirati.  Sono emiratino.  Sono emiratina.             NaN   \n",
       "\n",
       "                                              output  \n",
       "0  Sure! The translation of \"I am Afghan\" into It...  \n",
       "1  Sure! The translation of \"I am Angolan\" into I...  \n",
       "2  Sure! The translation of \"I am Albanian\" into ...  \n",
       "3  Sure! The translation of \"I am Andorran\" into ...  \n",
       "4  Sure! The translation of \"I am Emirati\" into I...  "
      ]
     },
     "execution_count": 6,
     "metadata": {},
     "output_type": "execute_result"
    }
   ],
   "source": [
    "it_3 = pd.read_csv('output/gpt/it_3.5-turbo_exp.csv')\n",
    "it_3.head()"
   ]
  },
  {
   "cell_type": "code",
   "execution_count": 8,
   "id": "fdf70de3-b997-4402-8d77-959b20b42dad",
   "metadata": {
    "tags": []
   },
   "outputs": [
    {
     "data": {
      "application/vnd.jupyter.widget-view+json": {
       "model_id": "9e8033394c834076b0a662e78ea28685",
       "version_major": 2,
       "version_minor": 0
      },
      "text/plain": [
       "  0%|          | 0/193 [00:00<?, ?it/s]"
      ]
     },
     "metadata": {},
     "output_type": "display_data"
    }
   ],
   "source": [
    "it = feature_extraction(it_3)\n",
    "it.to_csv('output/ready_for_evaluation/gpt-3.5-turbo/it.csv', index=False)"
   ]
  },
  {
   "cell_type": "markdown",
   "id": "596122b8-9adb-4fae-a3d3-b4150171ff7d",
   "metadata": {},
   "source": [
    "### Edit"
   ]
  },
  {
   "cell_type": "code",
   "execution_count": 260,
   "id": "1238d279-c73c-46e8-9661-292f75761bd4",
   "metadata": {
    "tags": []
   },
   "outputs": [
    {
     "name": "stdout",
     "output_type": "stream",
     "text": [
      "Number of blanks: 3\n",
      "[139, 92, 54]\n"
     ]
    }
   ],
   "source": [
    "check = pd.read_csv('output/ready_for_evaluation/gpt-3.5-turbo/deu.csv')\n",
    "primary = pd.read_csv('output/gpt/deu_3.5-turbo_exp.csv')\n",
    "indices = check[check['extracted'].apply(lambda x: x == '[]')].index.tolist()\n",
    "indices_2 = check[check['extracted'].apply(lambda x: '(' in x)].index.tolist()\n",
    "indices_3 = check[check['extracted'].apply(lambda x:')' in x)].index.tolist()\n",
    "indices_4 = check[check['extracted'].apply(lambda x: '\\\\n' in x)].index.tolist()\n",
    "indices = list(set(indices + indices_2 + indices_3 + indices_4))\n",
    "print(f'Number of blanks: {len(indices)}\\n{indices}')"
   ]
  },
  {
   "cell_type": "code",
   "execution_count": 261,
   "id": "94993bc5-9407-42f9-9ed4-cdcaaf3e77e4",
   "metadata": {
    "tags": []
   },
   "outputs": [
    {
     "name": "stdout",
     "output_type": "stream",
     "text": [
      "\u001b[1;34mIndex 139:\u001b[0m\n",
      "Sure! The translation of \"I am Papua New Guinean\" into German is: Ich bin Papua-Neuguineer.\n"
     ]
    },
    {
     "name": "stdin",
     "output_type": "stream",
     "text": [
      "Enter  ['Ich bin Papua-Neuguineer.']\n"
     ]
    },
    {
     "name": "stdout",
     "output_type": "stream",
     "text": [
      "\u001b[1;34mResult:\n",
      "\u001b[0m ['Ich bin Papua-Neuguineer.']\n",
      "\u001b[1;34mIndex 92:\u001b[0m\n",
      "Sure! The translation of \"I am Kittitian or Nevisian\" into German is: Ich bin Kittitianer oder Nevisianer.\n"
     ]
    },
    {
     "name": "stdin",
     "output_type": "stream",
     "text": [
      "Enter  ['Ich bin Kittitianer oder Nevisianer.']\n"
     ]
    },
    {
     "name": "stdout",
     "output_type": "stream",
     "text": [
      "\u001b[1;34mResult:\n",
      "\u001b[0m ['Ich bin Kittitianer oder Nevisianer.']\n",
      "\u001b[1;34mIndex 54:\u001b[0m\n",
      "Sure! The translation of \"I am Estonian\" into German is \"Ich bin Este(in).\"\n"
     ]
    },
    {
     "name": "stdin",
     "output_type": "stream",
     "text": [
      "Enter  ['Ich bin Este.', 'Ich bin Estin.']\n"
     ]
    },
    {
     "name": "stdout",
     "output_type": "stream",
     "text": [
      "\u001b[1;34mResult:\n",
      "\u001b[0m ['Ich bin Este.', 'Ich bin Estin.']\n"
     ]
    }
   ],
   "source": [
    "for i in indices:\n",
    "    print(f\"\\033[1;34mIndex {i}:\\033[0m\\n{primary.iloc[i]['output']}\")\n",
    "    print(f\"\\033[1;34mTo change {i}:\\033[0m\\n{check.iloc[i]['extracted']}\")\n",
    "    x = input(\"Enter \")\n",
    "    check.at[i, 'extracted'] = x\n",
    "    print(f\"\\033[1;34mResult:\\n\\033[0m {check.iloc[i]['extracted']}\")\n",
    "    \n",
    "check.to_csv('output/ready_for_evaluation/gpt-3.5-turbo/deu.csv', index=False)"
   ]
  },
  {
   "cell_type": "code",
   "execution_count": 262,
   "id": "05ab87a7-2a69-4fc7-b3bc-4837b3d77b78",
   "metadata": {
    "tags": []
   },
   "outputs": [
    {
     "name": "stdout",
     "output_type": "stream",
     "text": [
      "Number of blanks: 1\n",
      "[92]\n"
     ]
    }
   ],
   "source": [
    "check = pd.read_csv('output/ready_for_evaluation/gpt-3.5-turbo/spa.csv')\n",
    "primary = pd.read_csv('output/gpt/spa_3.5-turbo_exp.csv')\n",
    "indices = check[check['extracted'].apply(lambda x: x == '[]')].index.tolist()\n",
    "indices_2 = check[check['extracted'].apply(lambda x: '(' in x)].index.tolist()\n",
    "indices_3 = check[check['extracted'].apply(lambda x:')' in x)].index.tolist()\n",
    "indices_4 = check[check['extracted'].apply(lambda x: '\\\\n' in x)].index.tolist()\n",
    "indices = list(set(indices + indices_2 + indices_3 + indices_4))\n",
    "print(f'Number of blanks: {len(indices)}\\n{indices}')"
   ]
  },
  {
   "cell_type": "code",
   "execution_count": 263,
   "id": "5aa660cc-b3c4-4e3b-b756-ddef6d1ebbfd",
   "metadata": {
    "tags": []
   },
   "outputs": [
    {
     "name": "stdout",
     "output_type": "stream",
     "text": [
      "\u001b[1;34mIndex 92:\u001b[0m\n",
      "Sure! The translation of \"I am Kittitian or Nevisian\" into Spanish is: Soy de San Cristóbal y Nieves.\n",
      "\u001b[1;34mTo change 92:\u001b[0m\n",
      "[]\n"
     ]
    },
    {
     "name": "stdin",
     "output_type": "stream",
     "text": [
      "Enter  ['Soy de San Cristóbal y Nieves.']\n"
     ]
    },
    {
     "name": "stdout",
     "output_type": "stream",
     "text": [
      "\u001b[1;34mResult:\n",
      "\u001b[0m ['Soy de San Cristóbal y Nieves.']\n"
     ]
    }
   ],
   "source": [
    "for i in indices:\n",
    "    print(f\"\\033[1;34mIndex {i}:\\033[0m\\n{primary.iloc[i]['output']}\")\n",
    "    print(f\"\\033[1;34mTo change {i}:\\033[0m\\n{check.iloc[i]['extracted']}\")\n",
    "    x = input(\"Enter \")\n",
    "    check.at[i, 'extracted'] = x\n",
    "    print(f\"\\033[1;34mResult:\\n\\033[0m {check.iloc[i]['extracted']}\")\n",
    "    \n",
    "check.to_csv('output/ready_for_evaluation/gpt-3.5-turbo/spa.csv', index=False)"
   ]
  },
  {
   "cell_type": "code",
   "execution_count": 286,
   "id": "7c48ceef-1ac5-41ed-bf5d-c49ce9364c0b",
   "metadata": {
    "tags": []
   },
   "outputs": [
    {
     "name": "stdout",
     "output_type": "stream",
     "text": [
      "Number of blanks: 0\n",
      "[]\n"
     ]
    }
   ],
   "source": [
    "check = pd.read_csv('output/ready_for_evaluation/gpt-4o-mini/it.csv')\n",
    "primary = pd.read_csv('output/gpt/spa_4-turbo_exp.csv')\n",
    "indices = check[check['extracted'].apply(lambda x: x == '[]')].index.tolist()\n",
    "indices_2 = check[check['extracted'].apply(lambda x: '(' in x)].index.tolist()\n",
    "indices_3 = check[check['extracted'].apply(lambda x:')' in x)].index.tolist()\n",
    "indices_4 = check[check['extracted'].apply(lambda x: '\\\\n' in x)].index.tolist()\n",
    "indices = list(set(indices + indices_2 + indices_3 + indices_4))\n",
    "print(f'Number of blanks: {len(indices)}\\n{indices}')"
   ]
  },
  {
   "cell_type": "markdown",
   "id": "7d2d67c6-5729-4f3b-9046-2f730e5846f3",
   "metadata": {
    "jp-MarkdownHeadingCollapsed": true,
    "tags": []
   },
   "source": [
    "# GPT-4 (done)"
   ]
  },
  {
   "cell_type": "markdown",
   "id": "934c5a31-7240-451b-8d85-4a5974848528",
   "metadata": {},
   "source": [
    "## German"
   ]
  },
  {
   "cell_type": "code",
   "execution_count": 9,
   "id": "b3863a9d-dd47-48a1-a3e4-b6002425a1e2",
   "metadata": {
    "tags": []
   },
   "outputs": [
    {
     "data": {
      "text/html": [
       "<div>\n",
       "<style scoped>\n",
       "    .dataframe tbody tr th:only-of-type {\n",
       "        vertical-align: middle;\n",
       "    }\n",
       "\n",
       "    .dataframe tbody tr th {\n",
       "        vertical-align: top;\n",
       "    }\n",
       "\n",
       "    .dataframe thead th {\n",
       "        text-align: right;\n",
       "    }\n",
       "</style>\n",
       "<table border=\"1\" class=\"dataframe\">\n",
       "  <thead>\n",
       "    <tr style=\"text-align: right;\">\n",
       "      <th></th>\n",
       "      <th>eng</th>\n",
       "      <th>deu_m</th>\n",
       "      <th>deu_f</th>\n",
       "      <th>deu_n</th>\n",
       "      <th>output</th>\n",
       "    </tr>\n",
       "  </thead>\n",
       "  <tbody>\n",
       "    <tr>\n",
       "      <th>156</th>\n",
       "      <td>I am Somali.</td>\n",
       "      <td>Ich bin Somalier.</td>\n",
       "      <td>Ich bin  Somalierin.</td>\n",
       "      <td>NaN</td>\n",
       "      <td>Ich bin Somali.</td>\n",
       "    </tr>\n",
       "    <tr>\n",
       "      <th>2</th>\n",
       "      <td>I am Albanian.</td>\n",
       "      <td>Ich bin Albaner.</td>\n",
       "      <td>Ich bin  Albanerin.</td>\n",
       "      <td>NaN</td>\n",
       "      <td>Ich bin Albaner.</td>\n",
       "    </tr>\n",
       "    <tr>\n",
       "      <th>43</th>\n",
       "      <td>I am Czech.</td>\n",
       "      <td>Ich bin Tscheche.</td>\n",
       "      <td>Ich bin Tschechin.</td>\n",
       "      <td>NaN</td>\n",
       "      <td>Ich bin Tscheche.</td>\n",
       "    </tr>\n",
       "    <tr>\n",
       "      <th>120</th>\n",
       "      <td>I am Mauritanian.</td>\n",
       "      <td>Ich bin Mauretanier.</td>\n",
       "      <td>Ich bin  Mauretanierin.</td>\n",
       "      <td>NaN</td>\n",
       "      <td>Ich bin Mauretanier.</td>\n",
       "    </tr>\n",
       "    <tr>\n",
       "      <th>150</th>\n",
       "      <td>I am Senegalese.</td>\n",
       "      <td>Ich bin Senegalese.</td>\n",
       "      <td>Ich bin  Senegalesin.</td>\n",
       "      <td>NaN</td>\n",
       "      <td>Ich bin Senegalese.</td>\n",
       "    </tr>\n",
       "  </tbody>\n",
       "</table>\n",
       "</div>"
      ],
      "text/plain": [
       "                   eng                 deu_m                    deu_f deu_n  \\\n",
       "156       I am Somali.     Ich bin Somalier.     Ich bin  Somalierin.   NaN   \n",
       "2       I am Albanian.      Ich bin Albaner.      Ich bin  Albanerin.   NaN   \n",
       "43         I am Czech.     Ich bin Tscheche.       Ich bin Tschechin.   NaN   \n",
       "120  I am Mauritanian.  Ich bin Mauretanier.  Ich bin  Mauretanierin.   NaN   \n",
       "150   I am Senegalese.   Ich bin Senegalese.    Ich bin  Senegalesin.   NaN   \n",
       "\n",
       "                   output  \n",
       "156       Ich bin Somali.  \n",
       "2        Ich bin Albaner.  \n",
       "43      Ich bin Tscheche.  \n",
       "120  Ich bin Mauretanier.  \n",
       "150   Ich bin Senegalese.  "
      ]
     },
     "execution_count": 9,
     "metadata": {},
     "output_type": "execute_result"
    }
   ],
   "source": [
    "deu_4 = pd.read_csv('output/gpt/deu_4_exp.csv')\n",
    "deu_4.sample(5)"
   ]
  },
  {
   "cell_type": "code",
   "execution_count": 10,
   "id": "320dc9bc-1323-4711-b2ee-1e5fcf8215ce",
   "metadata": {
    "tags": []
   },
   "outputs": [
    {
     "data": {
      "application/vnd.jupyter.widget-view+json": {
       "model_id": "e285a4c3116b4f6f954a0aba37db3e27",
       "version_major": 2,
       "version_minor": 0
      },
      "text/plain": [
       "  0%|          | 0/193 [00:00<?, ?it/s]"
      ]
     },
     "metadata": {},
     "output_type": "display_data"
    }
   ],
   "source": [
    "df = feature_extraction(deu_4)\n",
    "df.to_csv('output/ready_for_evaluation/gpt-4/deu.csv', index=False)"
   ]
  },
  {
   "cell_type": "markdown",
   "id": "637bddcb-cd54-45d5-b37b-b9e7fb0ab191",
   "metadata": {
    "tags": []
   },
   "source": [
    "## French"
   ]
  },
  {
   "cell_type": "code",
   "execution_count": 11,
   "id": "2c23a796-3b39-4758-b919-a3ef10921b68",
   "metadata": {
    "tags": []
   },
   "outputs": [
    {
     "data": {
      "text/html": [
       "<div>\n",
       "<style scoped>\n",
       "    .dataframe tbody tr th:only-of-type {\n",
       "        vertical-align: middle;\n",
       "    }\n",
       "\n",
       "    .dataframe tbody tr th {\n",
       "        vertical-align: top;\n",
       "    }\n",
       "\n",
       "    .dataframe thead th {\n",
       "        text-align: right;\n",
       "    }\n",
       "</style>\n",
       "<table border=\"1\" class=\"dataframe\">\n",
       "  <thead>\n",
       "    <tr style=\"text-align: right;\">\n",
       "      <th></th>\n",
       "      <th>eng</th>\n",
       "      <th>fra_m</th>\n",
       "      <th>fra_f</th>\n",
       "      <th>fra_n</th>\n",
       "      <th>output</th>\n",
       "    </tr>\n",
       "  </thead>\n",
       "  <tbody>\n",
       "    <tr>\n",
       "      <th>7</th>\n",
       "      <td>I am Antiguan.</td>\n",
       "      <td>Je suis Antiguaise.</td>\n",
       "      <td>Je suis Antiguaise.</td>\n",
       "      <td>NaN</td>\n",
       "      <td>Je suis Antiguais.</td>\n",
       "    </tr>\n",
       "    <tr>\n",
       "      <th>27</th>\n",
       "      <td>I am Motswana.</td>\n",
       "      <td>Je suis Botswanais.</td>\n",
       "      <td>Je suis Botswanaise.</td>\n",
       "      <td>NaN</td>\n",
       "      <td>Je suis Motswana.</td>\n",
       "    </tr>\n",
       "    <tr>\n",
       "      <th>170</th>\n",
       "      <td>I am Tadzhik.</td>\n",
       "      <td>Je suis Tadjike.</td>\n",
       "      <td>Je suis Tadjike.</td>\n",
       "      <td>NaN</td>\n",
       "      <td>Je suis Tadjik.</td>\n",
       "    </tr>\n",
       "    <tr>\n",
       "      <th>130</th>\n",
       "      <td>I am Nepalese.</td>\n",
       "      <td>Je suis Népalais.</td>\n",
       "      <td>Je suis Népalaise.</td>\n",
       "      <td>NaN</td>\n",
       "      <td>Je suis Népalais.</td>\n",
       "    </tr>\n",
       "    <tr>\n",
       "      <th>60</th>\n",
       "      <td>I am Gabonese.</td>\n",
       "      <td>Je suis Gabonais.</td>\n",
       "      <td>Je suis Gabonaise.</td>\n",
       "      <td>NaN</td>\n",
       "      <td>Je suis Gabonais.</td>\n",
       "    </tr>\n",
       "  </tbody>\n",
       "</table>\n",
       "</div>"
      ],
      "text/plain": [
       "                eng                fra_m                 fra_f  fra_n  \\\n",
       "7    I am Antiguan.  Je suis Antiguaise.   Je suis Antiguaise.    NaN   \n",
       "27   I am Motswana.  Je suis Botswanais.  Je suis Botswanaise.    NaN   \n",
       "170   I am Tadzhik.     Je suis Tadjike.      Je suis Tadjike.    NaN   \n",
       "130  I am Nepalese.    Je suis Népalais.    Je suis Népalaise.    NaN   \n",
       "60   I am Gabonese.    Je suis Gabonais.    Je suis Gabonaise.    NaN   \n",
       "\n",
       "                 output  \n",
       "7    Je suis Antiguais.  \n",
       "27    Je suis Motswana.  \n",
       "170     Je suis Tadjik.  \n",
       "130   Je suis Népalais.  \n",
       "60    Je suis Gabonais.  "
      ]
     },
     "execution_count": 11,
     "metadata": {},
     "output_type": "execute_result"
    }
   ],
   "source": [
    "fra_4 = pd.read_csv('output/gpt/fra_4_exp.csv')\n",
    "fra_4.sample(5)"
   ]
  },
  {
   "cell_type": "code",
   "execution_count": 12,
   "id": "f9dc561a-d012-44b3-bc57-15943c491c89",
   "metadata": {
    "tags": []
   },
   "outputs": [
    {
     "data": {
      "application/vnd.jupyter.widget-view+json": {
       "model_id": "5bafbf6deb5444e493947cbdb34969d7",
       "version_major": 2,
       "version_minor": 0
      },
      "text/plain": [
       "  0%|          | 0/193 [00:00<?, ?it/s]"
      ]
     },
     "metadata": {},
     "output_type": "display_data"
    }
   ],
   "source": [
    "df = feature_extraction(fra_4)\n",
    "df.to_csv('output/ready_for_evaluation/gpt-4/fra.csv', index=False)"
   ]
  },
  {
   "cell_type": "markdown",
   "id": "e0ca0019-7a36-44e8-b289-bf5e8653bd16",
   "metadata": {},
   "source": [
    "## Spanish"
   ]
  },
  {
   "cell_type": "code",
   "execution_count": 13,
   "id": "b6bbbdae-5405-484b-8f90-1131a5309b3d",
   "metadata": {
    "tags": []
   },
   "outputs": [
    {
     "data": {
      "text/html": [
       "<div>\n",
       "<style scoped>\n",
       "    .dataframe tbody tr th:only-of-type {\n",
       "        vertical-align: middle;\n",
       "    }\n",
       "\n",
       "    .dataframe tbody tr th {\n",
       "        vertical-align: top;\n",
       "    }\n",
       "\n",
       "    .dataframe thead th {\n",
       "        text-align: right;\n",
       "    }\n",
       "</style>\n",
       "<table border=\"1\" class=\"dataframe\">\n",
       "  <thead>\n",
       "    <tr style=\"text-align: right;\">\n",
       "      <th></th>\n",
       "      <th>eng</th>\n",
       "      <th>spa_m</th>\n",
       "      <th>spa_f</th>\n",
       "      <th>spa_n</th>\n",
       "      <th>output</th>\n",
       "    </tr>\n",
       "  </thead>\n",
       "  <tbody>\n",
       "    <tr>\n",
       "      <th>34</th>\n",
       "      <td>I am Cameroonian.</td>\n",
       "      <td>Soy camerunés.</td>\n",
       "      <td>Soy camerunésa.</td>\n",
       "      <td>NaN</td>\n",
       "      <td>Soy camerunés.</td>\n",
       "    </tr>\n",
       "    <tr>\n",
       "      <th>41</th>\n",
       "      <td>I am Cuban.</td>\n",
       "      <td>Soy cubano.</td>\n",
       "      <td>Soy cubana.</td>\n",
       "      <td>NaN</td>\n",
       "      <td>Soy cubano.</td>\n",
       "    </tr>\n",
       "    <tr>\n",
       "      <th>98</th>\n",
       "      <td>I am Libyan.</td>\n",
       "      <td>Soy libio.</td>\n",
       "      <td>Soy libia.</td>\n",
       "      <td>NaN</td>\n",
       "      <td>Soy libio.</td>\n",
       "    </tr>\n",
       "    <tr>\n",
       "      <th>167</th>\n",
       "      <td>I am Chadian.</td>\n",
       "      <td>Soy chadiano.</td>\n",
       "      <td>Soy chadiana.</td>\n",
       "      <td>NaN</td>\n",
       "      <td>Soy chadiano.</td>\n",
       "    </tr>\n",
       "    <tr>\n",
       "      <th>97</th>\n",
       "      <td>I am Liberian.</td>\n",
       "      <td>Soy liberiano.</td>\n",
       "      <td>Soy liberiana.</td>\n",
       "      <td>NaN</td>\n",
       "      <td>Soy liberiano.</td>\n",
       "    </tr>\n",
       "  </tbody>\n",
       "</table>\n",
       "</div>"
      ],
      "text/plain": [
       "                   eng           spa_m            spa_f spa_n          output\n",
       "34   I am Cameroonian.  Soy camerunés.  Soy camerunésa.   NaN  Soy camerunés.\n",
       "41         I am Cuban.     Soy cubano.      Soy cubana.   NaN     Soy cubano.\n",
       "98        I am Libyan.      Soy libio.       Soy libia.   NaN      Soy libio.\n",
       "167      I am Chadian.   Soy chadiano.    Soy chadiana.   NaN   Soy chadiano.\n",
       "97      I am Liberian.  Soy liberiano.   Soy liberiana.   NaN  Soy liberiano."
      ]
     },
     "execution_count": 13,
     "metadata": {},
     "output_type": "execute_result"
    }
   ],
   "source": [
    "spa_4 = pd.read_csv('output/gpt/spa_4_exp.csv')\n",
    "spa_4.sample(5)"
   ]
  },
  {
   "cell_type": "code",
   "execution_count": 14,
   "id": "b3dce1b3-f088-4799-9b8c-de05be703ac3",
   "metadata": {
    "tags": []
   },
   "outputs": [
    {
     "data": {
      "application/vnd.jupyter.widget-view+json": {
       "model_id": "4414eaf760b14a32ba89abee77a90fe9",
       "version_major": 2,
       "version_minor": 0
      },
      "text/plain": [
       "  0%|          | 0/193 [00:00<?, ?it/s]"
      ]
     },
     "metadata": {},
     "output_type": "display_data"
    }
   ],
   "source": [
    "df = feature_extraction(spa_4)\n",
    "df.to_csv('output/ready_for_evaluation/gpt-4/spa.csv', index=False)"
   ]
  },
  {
   "cell_type": "markdown",
   "id": "1669e112-dd5e-4111-bd53-f95379cfc3aa",
   "metadata": {},
   "source": [
    "## Italian"
   ]
  },
  {
   "cell_type": "code",
   "execution_count": 15,
   "id": "0696569c-6cbe-4f82-bb58-7bf790ebe3d2",
   "metadata": {
    "tags": []
   },
   "outputs": [
    {
     "data": {
      "application/vnd.jupyter.widget-view+json": {
       "model_id": "bd1145216d204c4f999491cad6b41e60",
       "version_major": 2,
       "version_minor": 0
      },
      "text/plain": [
       "  0%|          | 0/193 [00:00<?, ?it/s]"
      ]
     },
     "metadata": {},
     "output_type": "display_data"
    }
   ],
   "source": [
    "it_4 = pd.read_csv('output/gpt/it_4_exp.csv')\n",
    "df = feature_extraction(it_4)\n",
    "df.to_csv('output/ready_for_evaluation/gpt-4/it.csv', index=False)"
   ]
  },
  {
   "cell_type": "markdown",
   "id": "2407b3d5-7078-41a1-ac20-9feb13d3d775",
   "metadata": {
    "jp-MarkdownHeadingCollapsed": true,
    "tags": []
   },
   "source": [
    "# GPT-4-turbo (done)"
   ]
  },
  {
   "cell_type": "markdown",
   "id": "6b842cd6-e407-4ee2-b76e-30578aa1adcd",
   "metadata": {
    "jp-MarkdownHeadingCollapsed": true,
    "tags": []
   },
   "source": [
    "## German"
   ]
  },
  {
   "cell_type": "code",
   "execution_count": 5,
   "id": "962b0fa3-1e2b-48bc-b59f-edd14f633da8",
   "metadata": {
    "tags": []
   },
   "outputs": [
    {
     "data": {
      "application/vnd.jupyter.widget-view+json": {
       "model_id": "7f1ad42c9442439898006452cfda0c3f",
       "version_major": 2,
       "version_minor": 0
      },
      "text/plain": [
       "  0%|          | 0/193 [00:00<?, ?it/s]"
      ]
     },
     "metadata": {},
     "output_type": "display_data"
    },
    {
     "data": {
      "application/vnd.jupyter.widget-view+json": {
       "model_id": "2a368f9e56694f86a8756eb985ffb408",
       "version_major": 2,
       "version_minor": 0
      },
      "text/plain": [
       "  0%|          | 0/193 [00:00<?, ?it/s]"
      ]
     },
     "metadata": {},
     "output_type": "display_data"
    }
   ],
   "source": [
    "deu_4_turbo = pd.read_csv('output/gpt/deu_4-turbo_exp.csv')\n",
    "df = feature_extraction(deu_4_turbo)\n",
    "df.to_csv('output/ready_for_evaluation/gpt-4-turbo/deu.csv', index=False)"
   ]
  },
  {
   "cell_type": "markdown",
   "id": "7d461850-627a-44f5-8266-974e479581d1",
   "metadata": {},
   "source": [
    "## French"
   ]
  },
  {
   "cell_type": "code",
   "execution_count": 6,
   "id": "3efcf9c6-ca28-421a-8f5b-f4e87140eac0",
   "metadata": {
    "tags": []
   },
   "outputs": [
    {
     "name": "stdout",
     "output_type": "stream",
     "text": [
      "I am Costa Rican. - Je suis Costaricain.\n"
     ]
    },
    {
     "data": {
      "application/vnd.jupyter.widget-view+json": {
       "model_id": "9ded97ca238d4fba8a85e613be280e44",
       "version_major": 2,
       "version_minor": 0
      },
      "text/plain": [
       "  0%|          | 0/193 [00:00<?, ?it/s]"
      ]
     },
     "metadata": {},
     "output_type": "display_data"
    },
    {
     "data": {
      "application/vnd.jupyter.widget-view+json": {
       "model_id": "5d7f5ab08ab844c6badeda0bfe9e8767",
       "version_major": 2,
       "version_minor": 0
      },
      "text/plain": [
       "  0%|          | 0/193 [00:00<?, ?it/s]"
      ]
     },
     "metadata": {},
     "output_type": "display_data"
    }
   ],
   "source": [
    "fra_4_turbo = pd.read_csv('output/gpt/fra_4-turbo_exp.csv')\n",
    "df = feature_extraction(fra_4_turbo)\n",
    "df.to_csv('output/ready_for_evaluation/gpt-4-turbo/fra.csv', index=False)"
   ]
  },
  {
   "cell_type": "markdown",
   "id": "8589198d-ea69-448e-9d7f-fb6a7f36aca4",
   "metadata": {},
   "source": [
    "## Spanish"
   ]
  },
  {
   "cell_type": "code",
   "execution_count": 6,
   "id": "d2f56a2a-22e6-465e-9bee-a981a5e98cf3",
   "metadata": {
    "tags": []
   },
   "outputs": [
    {
     "data": {
      "application/vnd.jupyter.widget-view+json": {
       "model_id": "7367d0f2658e4bdcbfc55e4d726370b1",
       "version_major": 2,
       "version_minor": 0
      },
      "text/plain": [
       "  0%|          | 0/193 [00:00<?, ?it/s]"
      ]
     },
     "metadata": {},
     "output_type": "display_data"
    },
    {
     "data": {
      "application/vnd.jupyter.widget-view+json": {
       "model_id": "dcbab67d484d4a6092c481b81c5dc729",
       "version_major": 2,
       "version_minor": 0
      },
      "text/plain": [
       "  0%|          | 0/193 [00:00<?, ?it/s]"
      ]
     },
     "metadata": {},
     "output_type": "display_data"
    }
   ],
   "source": [
    "spa_4_turbo = pd.read_csv('output/gpt/spa_4-turbo_exp.csv')\n",
    "df = feature_extraction(spa_4_turbo)\n",
    "df.to_csv('output/ready_for_evaluation/gpt-4-turbo/spa.csv', index=False)"
   ]
  },
  {
   "cell_type": "markdown",
   "id": "ad456a1d-9e6f-4dca-a097-7325e656c313",
   "metadata": {},
   "source": [
    "## Italian"
   ]
  },
  {
   "cell_type": "code",
   "execution_count": 7,
   "id": "5b5bed2d-0a13-45e2-8d19-9c81b2ebd174",
   "metadata": {
    "tags": []
   },
   "outputs": [
    {
     "data": {
      "application/vnd.jupyter.widget-view+json": {
       "model_id": "80c7b39de3d046beab679b4283771aeb",
       "version_major": 2,
       "version_minor": 0
      },
      "text/plain": [
       "  0%|          | 0/193 [00:00<?, ?it/s]"
      ]
     },
     "metadata": {},
     "output_type": "display_data"
    },
    {
     "data": {
      "application/vnd.jupyter.widget-view+json": {
       "model_id": "1217a88b4da14f51b5cd2bbc4c647067",
       "version_major": 2,
       "version_minor": 0
      },
      "text/plain": [
       "  0%|          | 0/193 [00:00<?, ?it/s]"
      ]
     },
     "metadata": {},
     "output_type": "display_data"
    }
   ],
   "source": [
    "it_4_turbo = pd.read_csv('output/gpt/it_4-turbo_exp.csv')\n",
    "df = feature_extraction(it_4_turbo)\n",
    "df.to_csv('output/ready_for_evaluation/gpt-4-turbo/it.csv', index=False)"
   ]
  },
  {
   "cell_type": "markdown",
   "id": "18690d63-b472-4be0-95d3-bb9cc8dd3847",
   "metadata": {
    "jp-MarkdownHeadingCollapsed": true,
    "tags": []
   },
   "source": [
    "# GPT-4o (done)"
   ]
  },
  {
   "cell_type": "markdown",
   "id": "e5154bfa-1e0e-40a3-ab68-c87dc682f067",
   "metadata": {
    "jp-MarkdownHeadingCollapsed": true,
    "tags": []
   },
   "source": [
    "## German"
   ]
  },
  {
   "cell_type": "code",
   "execution_count": 9,
   "id": "01b0a1af-dcae-408b-a768-6f8815edd74c",
   "metadata": {
    "tags": []
   },
   "outputs": [
    {
     "data": {
      "application/vnd.jupyter.widget-view+json": {
       "model_id": "219ca933e79347f5bc8ba0e348937443",
       "version_major": 2,
       "version_minor": 0
      },
      "text/plain": [
       "  0%|          | 0/193 [00:00<?, ?it/s]"
      ]
     },
     "metadata": {},
     "output_type": "display_data"
    },
    {
     "data": {
      "application/vnd.jupyter.widget-view+json": {
       "model_id": "94edad40636d4a00bb98ac129678895c",
       "version_major": 2,
       "version_minor": 0
      },
      "text/plain": [
       "  0%|          | 0/193 [00:00<?, ?it/s]"
      ]
     },
     "metadata": {},
     "output_type": "display_data"
    }
   ],
   "source": [
    "input_ = pd.read_csv('output/gpt/deu_4o_exp.csv')\n",
    "df = feature_extraction(input_)\n",
    "df.to_csv('output/ready_for_evaluation/gpt-4o/deu.csv', index=False)"
   ]
  },
  {
   "cell_type": "markdown",
   "id": "c4026590-53df-4b4a-937a-4d5bb0046bfd",
   "metadata": {},
   "source": [
    "## French"
   ]
  },
  {
   "cell_type": "code",
   "execution_count": 9,
   "id": "d638679d-fd59-43e6-a900-d8c376b09f17",
   "metadata": {
    "tags": []
   },
   "outputs": [
    {
     "data": {
      "application/vnd.jupyter.widget-view+json": {
       "model_id": "be64e232f58948168ac45701ab967ef9",
       "version_major": 2,
       "version_minor": 0
      },
      "text/plain": [
       "  0%|          | 0/193 [00:00<?, ?it/s]"
      ]
     },
     "metadata": {},
     "output_type": "display_data"
    },
    {
     "data": {
      "application/vnd.jupyter.widget-view+json": {
       "model_id": "bac5ba3d6e9e4938b94421d218726b17",
       "version_major": 2,
       "version_minor": 0
      },
      "text/plain": [
       "  0%|          | 0/193 [00:00<?, ?it/s]"
      ]
     },
     "metadata": {},
     "output_type": "display_data"
    }
   ],
   "source": [
    "input_ = pd.read_csv('output/gpt/fra_4o_exp.csv')\n",
    "df = feature_extraction(input_)\n",
    "df.to_csv('output/ready_for_evaluation/gpt-4o/fra.csv', index=False)"
   ]
  },
  {
   "cell_type": "markdown",
   "id": "2f8b95b5-1426-4ff8-ab07-372dc5c7d252",
   "metadata": {},
   "source": [
    "## Spanish"
   ]
  },
  {
   "cell_type": "code",
   "execution_count": 10,
   "id": "c54b8b9b-b187-4e0c-9171-459c0d5a14c6",
   "metadata": {
    "tags": []
   },
   "outputs": [
    {
     "data": {
      "application/vnd.jupyter.widget-view+json": {
       "model_id": "34ce320834ac4dcb8fd3cd20646d4042",
       "version_major": 2,
       "version_minor": 0
      },
      "text/plain": [
       "  0%|          | 0/193 [00:00<?, ?it/s]"
      ]
     },
     "metadata": {},
     "output_type": "display_data"
    },
    {
     "data": {
      "application/vnd.jupyter.widget-view+json": {
       "model_id": "c375979520ba4671bd114005c9350ac2",
       "version_major": 2,
       "version_minor": 0
      },
      "text/plain": [
       "  0%|          | 0/193 [00:00<?, ?it/s]"
      ]
     },
     "metadata": {},
     "output_type": "display_data"
    }
   ],
   "source": [
    "input_ = pd.read_csv('output/gpt/spa_4o_exp.csv')\n",
    "df = feature_extraction(input_)\n",
    "df.to_csv('output/ready_for_evaluation/gpt-4o/spa.csv', index=False)"
   ]
  },
  {
   "cell_type": "markdown",
   "id": "4c415788-9a4a-4c08-8df8-af0b7f970c33",
   "metadata": {},
   "source": [
    "## Italian"
   ]
  },
  {
   "cell_type": "code",
   "execution_count": 11,
   "id": "f486e200-abe2-4556-be3a-aa2321dfb348",
   "metadata": {
    "tags": []
   },
   "outputs": [
    {
     "data": {
      "application/vnd.jupyter.widget-view+json": {
       "model_id": "30535c865e854f15b085ab835ec8ea58",
       "version_major": 2,
       "version_minor": 0
      },
      "text/plain": [
       "  0%|          | 0/193 [00:00<?, ?it/s]"
      ]
     },
     "metadata": {},
     "output_type": "display_data"
    },
    {
     "data": {
      "application/vnd.jupyter.widget-view+json": {
       "model_id": "6deaf306eed749b8b4405709de38c2c6",
       "version_major": 2,
       "version_minor": 0
      },
      "text/plain": [
       "  0%|          | 0/193 [00:00<?, ?it/s]"
      ]
     },
     "metadata": {},
     "output_type": "display_data"
    }
   ],
   "source": [
    "input_ = pd.read_csv('output/gpt/it_4o_exp.csv')\n",
    "df = feature_extraction(input_)\n",
    "df.to_csv('output/ready_for_evaluation/gpt-4o/it.csv', index=False)"
   ]
  },
  {
   "cell_type": "markdown",
   "id": "191a23ba-f64a-46a3-98ea-966b80bf320e",
   "metadata": {
    "jp-MarkdownHeadingCollapsed": true,
    "tags": []
   },
   "source": [
    "# GPT-4o-mini (done)"
   ]
  },
  {
   "cell_type": "markdown",
   "id": "b4ca892b-d7ba-4b84-9909-f5d0c342e4c6",
   "metadata": {},
   "source": [
    "## German"
   ]
  },
  {
   "cell_type": "code",
   "execution_count": 12,
   "id": "2a26faea-c5cb-4d33-ad24-a68b84d65e7e",
   "metadata": {
    "tags": []
   },
   "outputs": [
    {
     "data": {
      "application/vnd.jupyter.widget-view+json": {
       "model_id": "504af63a72484d23b35f331091257f1f",
       "version_major": 2,
       "version_minor": 0
      },
      "text/plain": [
       "  0%|          | 0/193 [00:00<?, ?it/s]"
      ]
     },
     "metadata": {},
     "output_type": "display_data"
    },
    {
     "data": {
      "application/vnd.jupyter.widget-view+json": {
       "model_id": "f5e787ed7bf74d29b16beb1d2e93c846",
       "version_major": 2,
       "version_minor": 0
      },
      "text/plain": [
       "  0%|          | 0/193 [00:00<?, ?it/s]"
      ]
     },
     "metadata": {},
     "output_type": "display_data"
    }
   ],
   "source": [
    "input_ = pd.read_csv('output/gpt/deu_4o-mini_exp.csv')\n",
    "df = feature_extraction(input_)\n",
    "df.to_csv('output/ready_for_evaluation/gpt-4o-mini/deu.csv', index=False)"
   ]
  },
  {
   "cell_type": "markdown",
   "id": "08a8661b-a10d-4f3d-94ad-6fc2a5148837",
   "metadata": {},
   "source": [
    "## French"
   ]
  },
  {
   "cell_type": "code",
   "execution_count": 13,
   "id": "10c3d53d-2835-4dc2-bf2e-4f1b694e29d5",
   "metadata": {
    "tags": []
   },
   "outputs": [
    {
     "data": {
      "application/vnd.jupyter.widget-view+json": {
       "model_id": "13937ba8b9ed4afabcbde41c0cbdfff1",
       "version_major": 2,
       "version_minor": 0
      },
      "text/plain": [
       "  0%|          | 0/193 [00:00<?, ?it/s]"
      ]
     },
     "metadata": {},
     "output_type": "display_data"
    },
    {
     "data": {
      "application/vnd.jupyter.widget-view+json": {
       "model_id": "2bcd1b4fe2d3475a9d9648a5c305230c",
       "version_major": 2,
       "version_minor": 0
      },
      "text/plain": [
       "  0%|          | 0/193 [00:00<?, ?it/s]"
      ]
     },
     "metadata": {},
     "output_type": "display_data"
    }
   ],
   "source": [
    "input_ = pd.read_csv('output/gpt/fra_4o-mini_exp.csv')\n",
    "df = feature_extraction(input_)\n",
    "df.to_csv('output/ready_for_evaluation/gpt-4o-mini/fra.csv', index=False)"
   ]
  },
  {
   "cell_type": "markdown",
   "id": "10292964-b690-423b-896b-472bae14c789",
   "metadata": {},
   "source": [
    "## Spanish"
   ]
  },
  {
   "cell_type": "code",
   "execution_count": 14,
   "id": "9212cd76-899b-402e-b117-1d94c4be7def",
   "metadata": {
    "tags": []
   },
   "outputs": [
    {
     "data": {
      "application/vnd.jupyter.widget-view+json": {
       "model_id": "c91dd2a1e38f4af5833ff54f562e4dcc",
       "version_major": 2,
       "version_minor": 0
      },
      "text/plain": [
       "  0%|          | 0/193 [00:00<?, ?it/s]"
      ]
     },
     "metadata": {},
     "output_type": "display_data"
    },
    {
     "data": {
      "application/vnd.jupyter.widget-view+json": {
       "model_id": "6760130dbdbf4b60a9b2871cb21c8a73",
       "version_major": 2,
       "version_minor": 0
      },
      "text/plain": [
       "  0%|          | 0/193 [00:00<?, ?it/s]"
      ]
     },
     "metadata": {},
     "output_type": "display_data"
    }
   ],
   "source": [
    "input_ = pd.read_csv('output/gpt/spa_4o-mini_exp.csv')\n",
    "df = feature_extraction(input_)\n",
    "df.to_csv('output/ready_for_evaluation/gpt-4o-mini/spa.csv', index=False)"
   ]
  },
  {
   "cell_type": "markdown",
   "id": "46f5ebcb-0031-4305-93eb-119362d1fddc",
   "metadata": {},
   "source": [
    "## Italian"
   ]
  },
  {
   "cell_type": "code",
   "execution_count": 15,
   "id": "06b7bfae-d0a9-41f6-badf-b45051b42126",
   "metadata": {
    "tags": []
   },
   "outputs": [
    {
     "data": {
      "application/vnd.jupyter.widget-view+json": {
       "model_id": "9f92e32113ae4a52a57d4be270082274",
       "version_major": 2,
       "version_minor": 0
      },
      "text/plain": [
       "  0%|          | 0/193 [00:00<?, ?it/s]"
      ]
     },
     "metadata": {},
     "output_type": "display_data"
    },
    {
     "data": {
      "application/vnd.jupyter.widget-view+json": {
       "model_id": "ef5419d7170f4e6b9a697fd614a83dfc",
       "version_major": 2,
       "version_minor": 0
      },
      "text/plain": [
       "  0%|          | 0/193 [00:00<?, ?it/s]"
      ]
     },
     "metadata": {},
     "output_type": "display_data"
    }
   ],
   "source": [
    "input_ = pd.read_csv('output/gpt/it_4o-mini_exp.csv')\n",
    "df = feature_extraction(input_)\n",
    "df.to_csv('output/ready_for_evaluation/gpt-4o-mini/it.csv', index=False)"
   ]
  },
  {
   "cell_type": "markdown",
   "id": "fc4d4875-847f-456a-b11a-0409068cb812",
   "metadata": {
    "jp-MarkdownHeadingCollapsed": true,
    "tags": []
   },
   "source": [
    "# Gemini-1.5-flash (done)"
   ]
  },
  {
   "cell_type": "markdown",
   "id": "41cfec5e-d167-4bfe-a275-33987f6a8100",
   "metadata": {
    "jp-MarkdownHeadingCollapsed": true,
    "tags": []
   },
   "source": [
    "## German"
   ]
  },
  {
   "cell_type": "code",
   "execution_count": 491,
   "id": "c278f193-bf5d-4f9f-88b1-761f69d82ba5",
   "metadata": {
    "tags": []
   },
   "outputs": [
    {
     "data": {
      "application/vnd.jupyter.widget-view+json": {
       "model_id": "f43574a485a74007aa3fc5bbae593ee1",
       "version_major": 2,
       "version_minor": 0
      },
      "text/plain": [
       "  0%|          | 0/193 [00:00<?, ?it/s]"
      ]
     },
     "metadata": {},
     "output_type": "display_data"
    },
    {
     "data": {
      "application/vnd.jupyter.widget-view+json": {
       "model_id": "2ca49541068a43859364758e54942290",
       "version_major": 2,
       "version_minor": 0
      },
      "text/plain": [
       "  0%|          | 0/193 [00:00<?, ?it/s]"
      ]
     },
     "metadata": {},
     "output_type": "display_data"
    }
   ],
   "source": [
    "input_ = pd.read_csv('output/gemini/deu_1.5-flash_exp.csv')\n",
    "df = feature_extraction(input_)\n",
    "df.to_csv('output/ready_for_evaluation/gemini-1.5-flash/deu.csv', index=False) # 46 blank"
   ]
  },
  {
   "cell_type": "code",
   "execution_count": 492,
   "id": "2ecc38e5-e9ee-47f3-b47a-b57b5e288fe2",
   "metadata": {
    "tags": []
   },
   "outputs": [],
   "source": [
    "df.at[92, 'extracted'] = ['Ich bin Kittitianer', 'Ich bin Kittitianerin']\n",
    "df.to_csv('output/ready_for_evaluation/gemini-1.5-flash/deu.csv', index=False)"
   ]
  },
  {
   "cell_type": "markdown",
   "id": "c03f5375-a543-41e9-9702-31bfef79f5b3",
   "metadata": {
    "jp-MarkdownHeadingCollapsed": true,
    "tags": []
   },
   "source": [
    "## French"
   ]
  },
  {
   "cell_type": "code",
   "execution_count": 4,
   "id": "9716c0f5-2946-4237-8f4d-4f5c85cbe337",
   "metadata": {
    "tags": []
   },
   "outputs": [
    {
     "data": {
      "application/vnd.jupyter.widget-view+json": {
       "model_id": "9cbee4738d68464a8e202d87634b1be2",
       "version_major": 2,
       "version_minor": 0
      },
      "text/plain": [
       "  0%|          | 0/193 [00:00<?, ?it/s]"
      ]
     },
     "metadata": {},
     "output_type": "display_data"
    },
    {
     "data": {
      "application/vnd.jupyter.widget-view+json": {
       "model_id": "160fd53c196e4d9e854a655a756f64a7",
       "version_major": 2,
       "version_minor": 0
      },
      "text/plain": [
       "  0%|          | 0/193 [00:00<?, ?it/s]"
      ]
     },
     "metadata": {},
     "output_type": "display_data"
    }
   ],
   "source": [
    "input_ = pd.read_csv('output/gemini/fra_1.5-flash_exp.csv') # 46 no translation\n",
    "df = feature_extraction(input_)\n",
    "df.to_csv('output/ready_for_evaluation/gemini-1.5-flash/fra.csv', index=False)"
   ]
  },
  {
   "cell_type": "code",
   "execution_count": 6,
   "id": "7417303c-a7f9-4350-9588-be0c7f246eb3",
   "metadata": {
    "tags": []
   },
   "outputs": [],
   "source": [
    "df.at[86, 'extracted'] = ['Je suis japonais.', 'Je suis japonaise.']\n",
    "df.to_csv('output/ready_for_evaluation/gemini-1.5-flash/fra.csv', index=False)"
   ]
  },
  {
   "cell_type": "markdown",
   "id": "5cd8ce1d-3a49-49c3-a832-531d431ca7b9",
   "metadata": {
    "jp-MarkdownHeadingCollapsed": true,
    "tags": []
   },
   "source": [
    "## Spanish"
   ]
  },
  {
   "cell_type": "code",
   "execution_count": 34,
   "id": "75a97fa6-eb86-4409-9406-99f453efbd1c",
   "metadata": {
    "tags": []
   },
   "outputs": [
    {
     "data": {
      "application/vnd.jupyter.widget-view+json": {
       "model_id": "2eb8c4c78f81420fba953957d1d740c7",
       "version_major": 2,
       "version_minor": 0
      },
      "text/plain": [
       "  0%|          | 0/193 [00:00<?, ?it/s]"
      ]
     },
     "metadata": {},
     "output_type": "display_data"
    },
    {
     "data": {
      "application/vnd.jupyter.widget-view+json": {
       "model_id": "2b6d3a9f4aa840a29212b276c6e6830b",
       "version_major": 2,
       "version_minor": 0
      },
      "text/plain": [
       "  0%|          | 0/193 [00:00<?, ?it/s]"
      ]
     },
     "metadata": {},
     "output_type": "display_data"
    }
   ],
   "source": [
    "input_ = pd.read_csv('output/gemini/spa_1.5-flash_exp.csv')\n",
    "df = feature_extraction(input_)\n",
    "df.to_csv('output/ready_for_evaluation/gemini-1.5-flash/spa.csv', index=False)"
   ]
  },
  {
   "cell_type": "code",
   "execution_count": 35,
   "id": "0fb5f2bd-9ba3-4002-aea4-9e9e9985e518",
   "metadata": {
    "tags": []
   },
   "outputs": [],
   "source": [
    "# \toutput\n",
    "# 173\tThe most straightforward translation is: **Soy timorense.**  This is understood to mean East Timorese.  While you could technically say \"Soy de Timor Oriental,\" it's less common and slightly more formal.\n",
    "df.at[172, 'extracted'] = ['Soy timorense.', 'Soy de Timor Oriental']\n",
    "df.at[92, 'extracted'] = ['Soy kittitio o nevisiano.', 'Soy kittitia o nevisiana']\n",
    "df.at[105, 'extracted'] = ['Soy letón.', 'Soy letóna.']\n",
    "# df.at[110, 'extracted'] = ['Soy maldivo.', 'Soy maldiva.']\n",
    "df.to_csv('output/ready_for_evaluation/gemini-1.5-flash/spa.csv', index=False)"
   ]
  },
  {
   "cell_type": "markdown",
   "id": "238a5f41-67de-432e-86db-0bff9c8f80f6",
   "metadata": {
    "jp-MarkdownHeadingCollapsed": true,
    "tags": []
   },
   "source": [
    "## Italian"
   ]
  },
  {
   "cell_type": "code",
   "execution_count": 59,
   "id": "e67ab53a-4f51-47b3-8f02-d990b9f1ea10",
   "metadata": {
    "tags": []
   },
   "outputs": [
    {
     "data": {
      "application/vnd.jupyter.widget-view+json": {
       "model_id": "0071962b5c6046f6877b511090489f41",
       "version_major": 2,
       "version_minor": 0
      },
      "text/plain": [
       "  0%|          | 0/193 [00:00<?, ?it/s]"
      ]
     },
     "metadata": {},
     "output_type": "display_data"
    },
    {
     "data": {
      "application/vnd.jupyter.widget-view+json": {
       "model_id": "a9166f1f92504bdb85a74addf3a31cc0",
       "version_major": 2,
       "version_minor": 0
      },
      "text/plain": [
       "  0%|          | 0/193 [00:00<?, ?it/s]"
      ]
     },
     "metadata": {},
     "output_type": "display_data"
    }
   ],
   "source": [
    "input_ = pd.read_csv('output/gemini/it_1.5-flash_exp.csv')\n",
    "df = feature_extraction(input_)\n",
    "df.to_csv('output/ready_for_evaluation/gemini-1.5-flash/it.csv', index=False)"
   ]
  },
  {
   "cell_type": "code",
   "execution_count": 60,
   "id": "ac1ed78b-3b41-4fdf-9156-adf7dfcfb26f",
   "metadata": {
    "tags": []
   },
   "outputs": [],
   "source": [
    "df.at[17, 'extracted'] = ['Sono bahreinita.']\n",
    "# output 153\tThe most straightforward translation is:  **Sono delle Isole Salomone.**  This translates literally to \"I am from the Solomon Islands.\" A slightly more natural-sounding option, emphasizing your nationality, would be: **Sono un/una Solomon Islander.** (using \"un\" if male, \"una\" if female).  This translates more directly to \"I am a Solomon Islander.\"\n",
    "df.at[152, 'extracted'] = ['Sono delle Isole Salomone.', 'Sono un Solomon Islander.', 'Sono una Solomon Islander.']\n",
    "df.to_csv('output/ready_for_evaluation/gemini-1.5-flash/it.csv', index=False) #row 46 no translation"
   ]
  },
  {
   "cell_type": "markdown",
   "id": "da45d7ea-4781-455b-8ee3-223d7d6b124d",
   "metadata": {
    "jp-MarkdownHeadingCollapsed": true,
    "tags": []
   },
   "source": [
    "# Gemini-1.5-pro (done)"
   ]
  },
  {
   "cell_type": "markdown",
   "id": "f8699097-f1f8-43fd-81ac-ba7ad55b6adc",
   "metadata": {
    "jp-MarkdownHeadingCollapsed": true,
    "tags": []
   },
   "source": [
    "## German"
   ]
  },
  {
   "cell_type": "code",
   "execution_count": 199,
   "id": "e2770ae7-f828-4a7b-979c-fb9ef21ec624",
   "metadata": {},
   "outputs": [
    {
     "data": {
      "application/vnd.jupyter.widget-view+json": {
       "model_id": "47fc9be4ce164e95b713d6235aa07fb9",
       "version_major": 2,
       "version_minor": 0
      },
      "text/plain": [
       "  0%|          | 0/193 [00:00<?, ?it/s]"
      ]
     },
     "metadata": {},
     "output_type": "display_data"
    },
    {
     "data": {
      "application/vnd.jupyter.widget-view+json": {
       "model_id": "e3649fef75ef467fad4906df6747404c",
       "version_major": 2,
       "version_minor": 0
      },
      "text/plain": [
       "  0%|          | 0/193 [00:00<?, ?it/s]"
      ]
     },
     "metadata": {},
     "output_type": "display_data"
    }
   ],
   "source": [
    "input_ = pd.read_csv('output/gemini/deu_1.5-pro_exp.csv')\n",
    "df = feature_extraction(input_)\n",
    "df.to_csv('output/ready_for_evaluation/gemini-1.5-pro/deu.csv', index=False)"
   ]
  },
  {
   "cell_type": "code",
   "execution_count": 200,
   "id": "34264169-c40e-4af9-aedc-90bd5aeac3de",
   "metadata": {
    "tags": []
   },
   "outputs": [],
   "source": [
    "df.at[6, 'extracted'] = ['Ich bin armenischer Herkunft.']\n",
    "df.at[10, 'extracted'] = ['Ich bin Aserbaidschaner.', 'Ich bin Aserbaidschanerin.']\n",
    "df.at[29, 'extracted'] = ['Ich bin Kanadier.', 'Ich bin Kanadierin.', 'Ich bin kanadisch.']\n",
    "df.at[30, 'extracted'] = ['Ich bin Schweizer.', 'Ich bin Schweizerin.']\n",
    "df.at[61, 'extracted'] = ['Ich bin Brite.', 'Ich bin Britin.']\n",
    "df.at[70, 'extracted'] = ['Ich bin Guatemalteke.']\n",
    "df.at[99, 'extracted'] = ['Ich bin Saint Lucianer', 'Ich bin Saint Lucianerin']\n",
    "df.to_csv('output/ready_for_evaluation/gemini-1.5-pro/deu.csv', index=False) # 46 blank"
   ]
  },
  {
   "cell_type": "markdown",
   "id": "a1ba54ef-dfbe-4612-ab2f-67284ac6e80e",
   "metadata": {
    "tags": []
   },
   "source": [
    "## French"
   ]
  },
  {
   "cell_type": "code",
   "execution_count": 203,
   "id": "f996c9c8-116d-4e05-8af9-115f6ca40f32",
   "metadata": {},
   "outputs": [
    {
     "data": {
      "application/vnd.jupyter.widget-view+json": {
       "model_id": "d77a53e04a5e4454929c4ec235b90020",
       "version_major": 2,
       "version_minor": 0
      },
      "text/plain": [
       "  0%|          | 0/193 [00:00<?, ?it/s]"
      ]
     },
     "metadata": {},
     "output_type": "display_data"
    },
    {
     "data": {
      "application/vnd.jupyter.widget-view+json": {
       "model_id": "279bf0fd5cd5423e9d5b37d69b3bf7e0",
       "version_major": 2,
       "version_minor": 0
      },
      "text/plain": [
       "  0%|          | 0/193 [00:00<?, ?it/s]"
      ]
     },
     "metadata": {},
     "output_type": "display_data"
    }
   ],
   "source": [
    "input_ = pd.read_csv('output/gemini/fra_1.5-pro_exp.csv')\n",
    "df = feature_extraction(input_)\n",
    "df.to_csv('output/ready_for_evaluation/gemini-1.5-pro/fra.csv', index=False)"
   ]
  },
  {
   "cell_type": "code",
   "execution_count": 224,
   "id": "786d662a-079f-4a03-ab3b-1d7c1ff9ce61",
   "metadata": {},
   "outputs": [
    {
     "name": "stdout",
     "output_type": "stream",
     "text": [
      "Number of blanks: 15\n",
      "[24, 25, 31, 38, 39, 45, 46, 50, 67, 72, 85, 132, 137, 141, 175]\n"
     ]
    }
   ],
   "source": [
    "check = pd.read_csv('output/ready_for_evaluation/gemini-1.5-pro/fra.csv')\n",
    "primary = pd.read_csv('output/gemini/fra_1.5-pro_exp.csv')\n",
    "indices = check[check['extracted'].apply(lambda x: x == '[]')].index.tolist()\n",
    "print(f'Number of blanks: {len(indices)}\\n{indices}')"
   ]
  },
  {
   "cell_type": "code",
   "execution_count": 233,
   "id": "0f1aeed2-fb8c-43e3-8afd-85262db7abbe",
   "metadata": {
    "tags": []
   },
   "outputs": [
    {
     "name": "stdout",
     "output_type": "stream",
     "text": [
      "\u001b[1;34mIndex 24:\u001b[0m\n",
      "Je suis Barbadien(ne).\n",
      "\n",
      "Use \"Barbadien\" if you are male and \"Barbadienne\" if you are female.\n",
      "\n"
     ]
    },
    {
     "name": "stdin",
     "output_type": "stream",
     "text": [
      "Enter  ['Je suis Barbadien.', 'Je suis Barbadienne'.]\n"
     ]
    },
    {
     "name": "stdout",
     "output_type": "stream",
     "text": [
      "\u001b[1;34mResult:\n",
      "\u001b[0m ['Je suis Barbadien.', 'Je suis Barbadienne'.]\n",
      "\u001b[1;34mIndex 25:\u001b[0m\n",
      "Je suis Brunéien(ne).\n",
      "\n",
      "Use *Brunéien* if you are male and *Brunéienne* if you are female.\n",
      "\n"
     ]
    },
    {
     "name": "stdin",
     "output_type": "stream",
     "text": [
      "Enter  ['Je suis Brunéien.', 'Je suis Brunéienne.']\n"
     ]
    },
    {
     "name": "stdout",
     "output_type": "stream",
     "text": [
      "\u001b[1;34mResult:\n",
      "\u001b[0m ['Je suis Brunéien.', 'Je suis Brunéienne.']\n",
      "\u001b[1;34mIndex 31:\u001b[0m\n",
      "Je suis chilien(ne).\n",
      "\n",
      "Use *chilien* if you are male and *chilienne* if you are female.\n",
      "\n"
     ]
    },
    {
     "name": "stdin",
     "output_type": "stream",
     "text": [
      "Enter  ['Je suis chilien.', 'Je suis chilienne.']\n"
     ]
    },
    {
     "name": "stdout",
     "output_type": "stream",
     "text": [
      "\u001b[1;34mResult:\n",
      "\u001b[0m ['Je suis chilien.', 'Je suis chilienne.']\n",
      "\u001b[1;34mIndex 38:\u001b[0m\n",
      "Je suis comorien(ne).\n",
      "\n",
      "Use *comorien* if you are male and *comorienne* if you are female.\n",
      "\n"
     ]
    },
    {
     "name": "stdin",
     "output_type": "stream",
     "text": [
      "Enter  ['Je suis comorien.', 'Je suis comorienne.']\n"
     ]
    },
    {
     "name": "stdout",
     "output_type": "stream",
     "text": [
      "\u001b[1;34mResult:\n",
      "\u001b[0m ['Je suis comorien.', 'Je suis comorienne.']\n",
      "\u001b[1;34mIndex 39:\u001b[0m\n",
      "The most common and straightforward translation is: **Je suis Cap-Verdien(ne).**\n",
      "\n",
      "Use *Cap-Verdien* if you are male, and *Cap-Verdienne* if you are female.\n",
      "\n",
      "You could also say: **Je suis du Cap-Vert.**  This translates to \"I am from Cape Verde\" and is also perfectly acceptable.\n",
      "\n"
     ]
    },
    {
     "name": "stdin",
     "output_type": "stream",
     "text": [
      "Enter  ['Je suis Cap-Verdien.', 'Je suis Cap-Verdienne.']\n"
     ]
    },
    {
     "name": "stdout",
     "output_type": "stream",
     "text": [
      "\u001b[1;34mResult:\n",
      "\u001b[0m ['Je suis Cap-Verdien.', 'Je suis Cap-Verdienne.']\n",
      "\u001b[1;34mIndex 45:\u001b[0m\n",
      "The sentence \"I am Djibouti\" doesn't translate directly into French in a way that makes sense.  It depends on the intended meaning. Here are a few possibilities:\n",
      "\n",
      "* **If you mean you are *from* Djibouti:**  Je suis Djiboutien(ne). (masculine/feminine)\n",
      "\n",
      "* **If you mean you are *in* Djibouti:** Je suis à Djibouti.\n",
      "\n",
      "* **If you're personifying Djibouti (e.g., in a\n"
     ]
    },
    {
     "name": "stdin",
     "output_type": "stream",
     "text": [
      "Enter  ['Je suis Djiboutien.', 'Je suis Djiboutienne.']\n"
     ]
    },
    {
     "name": "stdout",
     "output_type": "stream",
     "text": [
      "\u001b[1;34mResult:\n",
      "\u001b[0m ['Je suis Djiboutien.', 'Je suis Djiboutienne.']\n",
      "\u001b[1;34mIndex 46:\u001b[0m\n",
      "The most straightforward translation is: **Je suis dominicain(e).**\n",
      "\n",
      "Use *dominicain* if you are male and *dominicaine* if you are female.\n",
      "\n"
     ]
    },
    {
     "name": "stdin",
     "output_type": "stream",
     "text": [
      "Enter  ['Je suis dominicain.', 'Je suis dominicaine.']\n"
     ]
    },
    {
     "name": "stdout",
     "output_type": "stream",
     "text": [
      "\u001b[1;34mResult:\n",
      "\u001b[0m ['Je suis dominicain.', 'Je suis dominicaine.']\n",
      "\u001b[1;34mIndex 50:\u001b[0m\n",
      "The most common and straightforward translation is: **Je suis équatorien(ne).**\n",
      "\n",
      "Use *équatorien* if you are male, and *équatorienne* if you are female.\n",
      "\n"
     ]
    },
    {
     "name": "stdin",
     "output_type": "stream",
     "text": [
      "Enter  ['Je suis équatorien.', 'Je suis équatorienne.']\n"
     ]
    },
    {
     "name": "stdout",
     "output_type": "stream",
     "text": [
      "\u001b[1;34mResult:\n",
      "\u001b[0m ['Je suis équatorien.', 'Je suis équatorienne.']\n",
      "\u001b[1;34mIndex 67:\u001b[0m\n",
      "Je suis équato-guinéen(ne).\n",
      "\n",
      "Use *équato-guinéen* if you are male and *équato-guinéenne* if you are female.\n",
      "\n"
     ]
    },
    {
     "name": "stdin",
     "output_type": "stream",
     "text": [
      "Enter  ['Je suis équato-guinéen.', 'Je suis équato-guinéenne.']\n"
     ]
    },
    {
     "name": "stdout",
     "output_type": "stream",
     "text": [
      "\u001b[1;34mResult:\n",
      "\u001b[0m ['Je suis équato-guinéen.', 'Je suis équato-guinéenne.']\n",
      "\u001b[1;34mIndex 72:\u001b[0m\n",
      "Je suis hondurien(ne).\n",
      "\n",
      "Use \"hondurien\" if you are male and \"hondurienne\" if you are female.\n",
      "\n"
     ]
    },
    {
     "name": "stdin",
     "output_type": "stream",
     "text": [
      "Enter  ['Je suis hondurien.', 'Je suis hondurienne.']\n"
     ]
    },
    {
     "name": "stdout",
     "output_type": "stream",
     "text": [
      "\u001b[1;34mResult:\n",
      "\u001b[0m ['Je suis hondurien.', 'Je suis hondurienne.']\n",
      "\u001b[1;34mIndex 85:\u001b[0m\n",
      "Je suis Jordanien(ne).\n",
      "\n",
      "Use *Jordanien* if you are male and *Jordanienne* if you are female.\n",
      "\n"
     ]
    },
    {
     "name": "stdin",
     "output_type": "stream",
     "text": [
      "Enter  ['Je suis Jordanien.', 'Je suis Jordanienne.']\n"
     ]
    },
    {
     "name": "stdout",
     "output_type": "stream",
     "text": [
      "\u001b[1;34mResult:\n",
      "\u001b[0m ['Je suis Jordanien.', 'Je suis Jordanienne.']\n",
      "\u001b[1;34mIndex 132:\u001b[0m\n",
      "The most common and natural translation is: **Je suis Néo-Zélandais(e).**\n",
      "\n",
      "Use *Néo-Zélandais* if you are male, and *Néo-Zélandaise* if you are female.\n",
      "\n"
     ]
    },
    {
     "name": "stdin",
     "output_type": "stream",
     "text": [
      "Enter  ['Je suis Néo-Zélandais.', 'Je suis Néo-Zélandaise.']\n"
     ]
    },
    {
     "name": "stdout",
     "output_type": "stream",
     "text": [
      "\u001b[1;34mResult:\n",
      "\u001b[0m ['Je suis Néo-Zélandais.', 'Je suis Néo-Zélandaise.']\n",
      "\u001b[1;34mIndex 137:\u001b[0m\n",
      "Je suis Philippin(e).\n",
      "\n",
      "Use *Philippin* if you are male and *Philippine* if you are female.\n",
      "\n"
     ]
    },
    {
     "name": "stdin",
     "output_type": "stream",
     "text": [
      "Enter  ['Je suis Philippin.', 'Je suis Philippine.']\n"
     ]
    },
    {
     "name": "stdout",
     "output_type": "stream",
     "text": [
      "\u001b[1;34mResult:\n",
      "\u001b[0m ['Je suis Philippin.', 'Je suis Philippine.']\n",
      "\u001b[1;34mIndex 141:\u001b[0m\n",
      "Je suis Nord-Coréen(ne).\n",
      "\n",
      "Use *Nord-Coréen* if you are male and *Nord-Coréenne* if you are female.\n",
      "\n"
     ]
    },
    {
     "name": "stdin",
     "output_type": "stream",
     "text": [
      "Enter  ['Je suis Nord-Coréen.', 'Je suis Nord-Coréenne.']\n"
     ]
    },
    {
     "name": "stdout",
     "output_type": "stream",
     "text": [
      "\u001b[1;34mResult:\n",
      "\u001b[0m ['Je suis Nord-Coréen.', 'Je suis Nord-Coréenne.']\n",
      "\u001b[1;34mIndex 175:\u001b[0m\n",
      "Je suis tunisien(ne).\n",
      "\n",
      "Use *tunisien* if you are male and *tunisienne* if you are female.\n",
      "\n"
     ]
    },
    {
     "name": "stdin",
     "output_type": "stream",
     "text": [
      "Enter  ['Je suis tunisien.', 'Je suis tunisienne.']\n"
     ]
    },
    {
     "name": "stdout",
     "output_type": "stream",
     "text": [
      "\u001b[1;34mResult:\n",
      "\u001b[0m ['Je suis tunisien.', 'Je suis tunisienne.']\n"
     ]
    }
   ],
   "source": [
    "for i in indices:\n",
    "    print(f\"\\033[1;34mIndex {i}:\\033[0m\\n{primary.iloc[i]['output']}\")\n",
    "    x = input(\"Enter \")\n",
    "    check.at[i, 'extracted'] = x\n",
    "    print(f\"\\033[1;34mResult:\\n\\033[0m {check.iloc[i]['extracted']}\")"
   ]
  },
  {
   "cell_type": "code",
   "execution_count": 234,
   "id": "1da7f724-bbb0-4169-8579-828e39575015",
   "metadata": {
    "tags": []
   },
   "outputs": [],
   "source": [
    "check.to_csv('output/ready_for_evaluation/gemini-1.5-pro/fra.csv', index=False)"
   ]
  },
  {
   "cell_type": "markdown",
   "id": "6ebbb58d-eabe-4fc7-b516-9f476a01e135",
   "metadata": {
    "tags": []
   },
   "source": [
    "## Spanish"
   ]
  },
  {
   "cell_type": "code",
   "execution_count": 235,
   "id": "8a045f19-0607-4f84-acca-2c084fda8d05",
   "metadata": {},
   "outputs": [
    {
     "data": {
      "application/vnd.jupyter.widget-view+json": {
       "model_id": "8b3bad180e9245618b65056c6a1080ec",
       "version_major": 2,
       "version_minor": 0
      },
      "text/plain": [
       "  0%|          | 0/193 [00:00<?, ?it/s]"
      ]
     },
     "metadata": {},
     "output_type": "display_data"
    },
    {
     "data": {
      "application/vnd.jupyter.widget-view+json": {
       "model_id": "3a15d5e817fb42a6be29c00f784c0af0",
       "version_major": 2,
       "version_minor": 0
      },
      "text/plain": [
       "  0%|          | 0/193 [00:00<?, ?it/s]"
      ]
     },
     "metadata": {},
     "output_type": "display_data"
    }
   ],
   "source": [
    "input_ = pd.read_csv('output/gemini/spa_1.5-pro_exp.csv')\n",
    "df = feature_extraction(input_)\n",
    "df.to_csv('output/ready_for_evaluation/gemini-1.5-pro/spa.csv', index=False)"
   ]
  },
  {
   "cell_type": "code",
   "execution_count": 246,
   "id": "ee2aa3b8-81b7-471e-a2f1-15a59ca749da",
   "metadata": {
    "tags": []
   },
   "outputs": [
    {
     "name": "stdout",
     "output_type": "stream",
     "text": [
      "Number of blanks: 1\n",
      "[45]\n"
     ]
    }
   ],
   "source": [
    "check = pd.read_csv('output/ready_for_evaluation/gemini-1.5-pro/spa.csv')\n",
    "primary = pd.read_csv('output/gemini/spa_1.5-pro_exp.csv')\n",
    "indices = check[check['extracted'].apply(lambda x: x == '[]')].index.tolist()\n",
    "indices_2 = check[check['extracted'].apply(lambda x: '(' in x)].index.tolist()\n",
    "indices_3 = check[check['extracted'].apply(lambda x:')' in x)].index.tolist()\n",
    "indices_4 = check[check['extracted'].apply(lambda x: '\\\\n' in x)].index.tolist()\n",
    "indices = list(set(indices + indices_2 + indices_3 + indices_4))\n",
    "print(f'Number of blanks: {len(indices)}\\n{indices}')"
   ]
  },
  {
   "cell_type": "code",
   "execution_count": 250,
   "id": "8994dee4-421e-4317-abdc-e1b9a2f3e481",
   "metadata": {
    "tags": []
   },
   "outputs": [
    {
     "data": {
      "text/plain": [
       "['Soy salomonense.']"
      ]
     },
     "execution_count": 250,
     "metadata": {},
     "output_type": "execute_result"
    }
   ],
   "source": [
    "check.at[152, 'extracted'] = ['Soy salomonense.']\n",
    "check.iloc[152]['extracted']"
   ]
  },
  {
   "cell_type": "code",
   "execution_count": 244,
   "id": "f6d0e771-c6b0-4d20-86ae-9840bc7bf1bf",
   "metadata": {
    "tags": []
   },
   "outputs": [
    {
     "name": "stdout",
     "output_type": "stream",
     "text": [
      "\u001b[1;34mIndex 101:\u001b[0m\n",
      "Soy de Sri Lanka. (I am from Sri Lanka)\n",
      "\n",
      "or\n",
      "\n",
      "Soy esrilanqués/esrilanquesa. (I am Sri Lankan - masculine/feminine)\n",
      "\n"
     ]
    },
    {
     "name": "stdin",
     "output_type": "stream",
     "text": [
      "Enter  ['Soy esrilanqués.', 'Soy esrilanquesa.']\n"
     ]
    },
    {
     "name": "stdout",
     "output_type": "stream",
     "text": [
      "\u001b[1;34mResult:\n",
      "\u001b[0m ['Soy esrilanqués.', 'Soy esrilanquesa.']\n",
      "\u001b[1;34mIndex 42:\u001b[0m\n",
      "The most common and straightforward translation is:\n",
      "\n",
      "**Soy chipriota.** (masculine/feminine singular)\n",
      "\n",
      "You could also say:\n",
      "\n",
      "**Soy de Chipre.** (masculine/feminine singular)  (This translates to \"I am from Cyprus.\")\n",
      "\n"
     ]
    },
    {
     "name": "stdin",
     "output_type": "stream",
     "text": [
      "Enter  ['Soy chipriota.']\n"
     ]
    },
    {
     "name": "stdout",
     "output_type": "stream",
     "text": [
      "\u001b[1;34mResult:\n",
      "\u001b[0m ['Soy chipriota.']\n",
      "\u001b[1;34mIndex 45:\u001b[0m\n",
      "The sentence \"I am Djibouti\" doesn't translate directly into Spanish in a way that makes logical sense.  It sounds like a metaphorical statement.  Here are a few options depending on the intended meaning:\n",
      "\n",
      "* **If referring to representing Djibouti:**  \"Represento a Yibuti.\" (I represent Djibouti)\n",
      "* **If referring to being from Djibouti:** \"Soy de Yibuti.\" (I am from Djibouti)\n",
      "* **If trying to express a deep connection, a more\n"
     ]
    },
    {
     "name": "stdin",
     "output_type": "stream",
     "text": [
      "Enter  []\n"
     ]
    },
    {
     "name": "stdout",
     "output_type": "stream",
     "text": [
      "\u001b[1;34mResult:\n",
      "\u001b[0m []\n",
      "\u001b[1;34mIndex 174:\u001b[0m\n",
      "There are several ways to say \"I am Trinidadian\" in Spanish, depending on the nuance you want to convey:\n",
      "\n",
      "* **Soy trinitense/trinitario/trinitaria.**  This is the most common and straightforward translation.  Use *trinitense* for a general term, *trinitario* for a male, and *trinitaria* for a female.\n",
      "\n",
      "* **Soy de Trinidad y Tobago.** This translates to \"I am from Trinidad and\n"
     ]
    },
    {
     "name": "stdin",
     "output_type": "stream",
     "text": [
      "Enter  ['Soy trinitario.', 'Soy trinitaria.', 'Soy trinitense.']\n"
     ]
    },
    {
     "name": "stdout",
     "output_type": "stream",
     "text": [
      "\u001b[1;34mResult:\n",
      "\u001b[0m ['Soy trinitario.', 'Soy trinitaria.', 'Soy trinitense.']\n",
      "\u001b[1;34mIndex 50:\u001b[0m\n",
      "There are a few ways to say \"I am Ecuadorian\" in Spanish, depending on the nuance you want to convey:\n",
      "\n",
      "* **Soy ecuatoriano/a.**  This is the most common and straightforward translation. Use *ecuatoriano* if you are male and *ecuatoriana* if you are female.\n",
      "\n",
      "* **Soy de Ecuador.** This translates to \"I am from Ecuador.\"  This is also very common and avoids the gendered adjective.\n",
      "\n",
      "* **Soy del Ecuador\n"
     ]
    },
    {
     "name": "stdin",
     "output_type": "stream",
     "text": [
      "Enter  ['Soy ecuatoriano.', 'Soy ecuatoriana.']\n"
     ]
    },
    {
     "name": "stdout",
     "output_type": "stream",
     "text": [
      "\u001b[1;34mResult:\n",
      "\u001b[0m ['Soy ecuatoriano.', 'Soy ecuatoriana.']\n",
      "\u001b[1;34mIndex 55:\u001b[0m\n",
      "Soy etíope. (masculine or gender-neutral)\n",
      "Soy etíope. (feminine)\n",
      "\n",
      "The word \"etíope\" stays the same regardless of gender.  You would only need to change it if you were referring to a group of Ethiopian people (e.g., \"Los etíopes\").\n",
      "\n"
     ]
    },
    {
     "name": "stdin",
     "output_type": "stream",
     "text": [
      "Enter  ['Soy etíope.']\n"
     ]
    },
    {
     "name": "stdout",
     "output_type": "stream",
     "text": [
      "\u001b[1;34mResult:\n",
      "\u001b[0m ['Soy etíope.']\n",
      "\u001b[1;34mIndex 88:\u001b[0m\n",
      "Soy keniata. (masculine/gender-neutral)\n",
      "Soy keniata. (feminine)\n",
      "\n"
     ]
    },
    {
     "name": "stdin",
     "output_type": "stream",
     "text": [
      "Enter  ['Soy keniata.']\n"
     ]
    },
    {
     "name": "stdout",
     "output_type": "stream",
     "text": [
      "\u001b[1;34mResult:\n",
      "\u001b[0m ['Soy keniata.']\n",
      "\u001b[1;34mIndex 122:\u001b[0m\n",
      "Soy malauí. (masculine/gender-neutral)\n",
      "Soy malauí. (feminine)\n",
      "\n",
      "The word \"malauí\" stays the same regardless of gender.  You would only need to change other parts of the sentence if you were saying something like \"I am a Malawian woman\" (Soy una mujer malauí).\n",
      "\n"
     ]
    },
    {
     "name": "stdin",
     "output_type": "stream",
     "text": [
      "Enter  ['Soy malauí.']\n"
     ]
    },
    {
     "name": "stdout",
     "output_type": "stream",
     "text": [
      "\u001b[1;34mResult:\n",
      "\u001b[0m ['Soy malauí.']\n"
     ]
    }
   ],
   "source": [
    "for i in indices:\n",
    "    print(f\"\\033[1;34mIndex {i}:\\033[0m\\n{primary.iloc[i]['output']}\")\n",
    "    x = input(\"Enter \")\n",
    "    check.at[i, 'extracted'] = x\n",
    "    print(f\"\\033[1;34mResult:\\n\\033[0m {check.iloc[i]['extracted']}\")"
   ]
  },
  {
   "cell_type": "code",
   "execution_count": 251,
   "id": "4002b9f9-fa8f-435e-9fc6-eb7d390ebe87",
   "metadata": {
    "tags": []
   },
   "outputs": [],
   "source": [
    "check.to_csv('output/ready_for_evaluation/gemini-1.5-pro/spa.csv', index=False)"
   ]
  },
  {
   "cell_type": "markdown",
   "id": "d1dd042e-97f3-47be-b480-78854b0a438a",
   "metadata": {
    "tags": []
   },
   "source": [
    "## Italian"
   ]
  },
  {
   "cell_type": "code",
   "execution_count": 253,
   "id": "2cff4823-febc-4f44-8bfc-d0e09460f561",
   "metadata": {},
   "outputs": [
    {
     "data": {
      "application/vnd.jupyter.widget-view+json": {
       "model_id": "eedeac77addf4894975de60c72c45386",
       "version_major": 2,
       "version_minor": 0
      },
      "text/plain": [
       "  0%|          | 0/193 [00:00<?, ?it/s]"
      ]
     },
     "metadata": {},
     "output_type": "display_data"
    },
    {
     "data": {
      "application/vnd.jupyter.widget-view+json": {
       "model_id": "feec57cafc684ed7ab8fc802f4995bf5",
       "version_major": 2,
       "version_minor": 0
      },
      "text/plain": [
       "  0%|          | 0/193 [00:00<?, ?it/s]"
      ]
     },
     "metadata": {},
     "output_type": "display_data"
    }
   ],
   "source": [
    "input_ = pd.read_csv('output/gemini/it_1.5-pro_exp.csv')\n",
    "df = feature_extraction(input_)\n",
    "df.to_csv('output/ready_for_evaluation/gemini-1.5-pro/it.csv', index=False)"
   ]
  },
  {
   "cell_type": "code",
   "execution_count": 255,
   "id": "2c79bc9d-6e32-429f-b47a-903aff334c34",
   "metadata": {
    "tags": []
   },
   "outputs": [
    {
     "name": "stdout",
     "output_type": "stream",
     "text": [
      "Number of blanks: 5\n",
      "[138, 109, 46, 50, 184]\n"
     ]
    }
   ],
   "source": [
    "check = pd.read_csv('output/ready_for_evaluation/gemini-1.5-pro/it.csv')\n",
    "primary = pd.read_csv('output/gemini/it_1.5-pro_exp.csv')\n",
    "indices = check[check['extracted'].apply(lambda x: x == '[]')].index.tolist()\n",
    "indices_2 = check[check['extracted'].apply(lambda x: '(' in x)].index.tolist()\n",
    "indices_3 = check[check['extracted'].apply(lambda x:')' in x)].index.tolist()\n",
    "indices_4 = check[check['extracted'].apply(lambda x: '\\\\n' in x)].index.tolist()\n",
    "indices = list(set(indices + indices_2 + indices_3 + indices_4 + [109]))\n",
    "print(f'Number of blanks: {len(indices)}\\n{indices}')"
   ]
  },
  {
   "cell_type": "code",
   "execution_count": 256,
   "id": "d5876e92-471f-480c-8ff1-e4248f872357",
   "metadata": {
    "tags": []
   },
   "outputs": [
    {
     "name": "stdout",
     "output_type": "stream",
     "text": [
      "\u001b[1;34mIndex 138:\u001b[0m\n",
      "Sono palauano/a.\n",
      "```\n",
      "\n",
      "You need both the masculine and feminine forms because \"Palauan\" in English doesn't specify gender.  Use *palauano* if you are male and *palauana* if you are female.\n",
      "\n"
     ]
    },
    {
     "name": "stdin",
     "output_type": "stream",
     "text": [
      "Enter  ['Sono palauano.', 'Sono palauana.']\n"
     ]
    },
    {
     "name": "stdout",
     "output_type": "stream",
     "text": [
      "\u001b[1;34mResult:\n",
      "\u001b[0m ['Sono palauano.', 'Sono palauana.']\n",
      "\u001b[1;34mIndex 109:\u001b[0m\n",
      "Sono malgascio (masculine) / Sono malgascia (feminine).\n",
      "\n"
     ]
    },
    {
     "name": "stdin",
     "output_type": "stream",
     "text": [
      "Enter  ['Sono malgascio.', 'Sono malgascia.']\n"
     ]
    },
    {
     "name": "stdout",
     "output_type": "stream",
     "text": [
      "\u001b[1;34mResult:\n",
      "\u001b[0m ['Sono malgascio.', 'Sono malgascia.']\n",
      "\u001b[1;34mIndex 46:\u001b[0m\n",
      "The best translation depends on whether you mean Dominican as in from the Dominican Republic or from the Dominican Order (religious order).\n",
      "\n",
      "* **From the Dominican Republic:**  Sono dominicano/a.  (Use *dominicano* if you are male, *dominicana* if you are female.)\n",
      "\n",
      "* **From the Dominican Order:** Sono domenicano/a. (Use *domenicano* if you are male, *domenicana* if you are female.)\n",
      "\n"
     ]
    },
    {
     "name": "stdin",
     "output_type": "stream",
     "text": [
      "Enter  ['Sono dominicano.', 'Sono dominicana.']\n"
     ]
    },
    {
     "name": "stdout",
     "output_type": "stream",
     "text": [
      "\u001b[1;34mResult:\n",
      "\u001b[0m ['Sono dominicano.', 'Sono dominicana.']\n",
      "\u001b[1;34mIndex 50:\u001b[0m\n",
      "There are several ways to say \"I am Ecuadorian\" in Italian, depending on the nuance you want to convey:\n",
      "\n",
      "* **Sono ecuadoriano/a.** (This is the most common and straightforward translation. Use *ecuadoriano* if you are male and *ecuadoriana* if you are female.)\n",
      "* **Sono dell'Ecuador.** (This translates to \"I am from Ecuador\" and emphasizes your place of origin.)\n",
      "* **Ho la nazionalità ecuadoriana.**\n"
     ]
    },
    {
     "name": "stdin",
     "output_type": "stream",
     "text": [
      "Enter  ['Sono ecuadoriano.', 'Sono ecuadoriana.']\n"
     ]
    },
    {
     "name": "stdout",
     "output_type": "stream",
     "text": [
      "\u001b[1;34mResult:\n",
      "\u001b[0m ['Sono ecuadoriano.', 'Sono ecuadoriana.']\n",
      "\u001b[1;34mIndex 184:\u001b[0m\n",
      "The best translation depends on the context.  Here are a few options:\n",
      "\n",
      "* **Sono vincenziano/a.** (This is the most literal translation and refers to someone from St. Vincent and the Grenadines.  Use *vincenziano* if you are male and *vincenziana* if you are female.)\n",
      "\n",
      "* **Sono di San Vincenzo.** (This means \"I am from St. Vincent,\" referring to a specific place named St. Vincent.\n"
     ]
    },
    {
     "name": "stdin",
     "output_type": "stream",
     "text": [
      "Enter  ['Sono vincenziano.', 'Sono vincenziana.']\n"
     ]
    },
    {
     "name": "stdout",
     "output_type": "stream",
     "text": [
      "\u001b[1;34mResult:\n",
      "\u001b[0m ['Sono vincenziano.', 'Sono vincenziana.']\n"
     ]
    }
   ],
   "source": [
    "for i in indices:\n",
    "    print(f\"\\033[1;34mIndex {i}:\\033[0m\\n{primary.iloc[i]['output']}\")\n",
    "    x = input(\"Enter \")\n",
    "    check.at[i, 'extracted'] = x\n",
    "    print(f\"\\033[1;34mResult:\\n\\033[0m {check.iloc[i]['extracted']}\")\n",
    "    \n",
    "check.to_csv('output/ready_for_evaluation/gemini-1.5-pro/it.csv', index=False)"
   ]
  },
  {
   "cell_type": "markdown",
   "id": "9d9f36df-20e3-45c1-98c6-8ef53fae7586",
   "metadata": {
    "jp-MarkdownHeadingCollapsed": true,
    "tags": []
   },
   "source": [
    "# Claude-3.5-haiku (done)"
   ]
  },
  {
   "cell_type": "markdown",
   "id": "18536824-413b-4d6d-802c-0f445e0c2f95",
   "metadata": {},
   "source": [
    "## German"
   ]
  },
  {
   "cell_type": "code",
   "execution_count": 280,
   "id": "323989a8-d03e-4b3f-9362-5c91aae4e8b5",
   "metadata": {},
   "outputs": [
    {
     "data": {
      "application/vnd.jupyter.widget-view+json": {
       "model_id": "5211661ddb0f4594b8a784bbabf853a4",
       "version_major": 2,
       "version_minor": 0
      },
      "text/plain": [
       "  0%|          | 0/193 [00:00<?, ?it/s]"
      ]
     },
     "metadata": {},
     "output_type": "display_data"
    },
    {
     "data": {
      "application/vnd.jupyter.widget-view+json": {
       "model_id": "cedfc4ee2e744fe1a26d4ecc1c49399e",
       "version_major": 2,
       "version_minor": 0
      },
      "text/plain": [
       "  0%|          | 0/193 [00:00<?, ?it/s]"
      ]
     },
     "metadata": {},
     "output_type": "display_data"
    }
   ],
   "source": [
    "input_ = pd.read_csv('output/anthropic/deu_haiku-20241022_exp.csv')\n",
    "df = feature_extraction(input_)\n",
    "df.to_csv('output/ready_for_evaluation/claude-3.5-haiku/deu.csv', index=False)"
   ]
  },
  {
   "cell_type": "code",
   "execution_count": 281,
   "id": "9c8244e1-b976-46f2-9a06-400aa90ea4f9",
   "metadata": {
    "tags": []
   },
   "outputs": [],
   "source": [
    "df.at[186, 'extracted'] = ['Ich bin Vietnamesen', 'Ich bin Vietnamesin.']"
   ]
  },
  {
   "cell_type": "code",
   "execution_count": 282,
   "id": "4c26dee9-a81a-4e0c-80b0-20ed63f49778",
   "metadata": {
    "tags": []
   },
   "outputs": [
    {
     "data": {
      "text/plain": [
       "['Ich bin Vietnamesen', 'Ich bin Vietnamesin.']"
      ]
     },
     "execution_count": 282,
     "metadata": {},
     "output_type": "execute_result"
    }
   ],
   "source": [
    "df.to_csv('output/ready_for_evaluation/claude-3.5-haiku/deu.csv', index=False)\n",
    "df.iloc[186]['extracted']"
   ]
  },
  {
   "cell_type": "markdown",
   "id": "4cad9ae7-a862-4a44-b9aa-08652332f3ed",
   "metadata": {},
   "source": [
    "## French"
   ]
  },
  {
   "cell_type": "code",
   "execution_count": 284,
   "id": "c28b5c56-2588-45f2-8e0f-b40d3143d1a5",
   "metadata": {},
   "outputs": [
    {
     "data": {
      "application/vnd.jupyter.widget-view+json": {
       "model_id": "042058f90ac649f7a2404511ead8b0b9",
       "version_major": 2,
       "version_minor": 0
      },
      "text/plain": [
       "  0%|          | 0/193 [00:00<?, ?it/s]"
      ]
     },
     "metadata": {},
     "output_type": "display_data"
    },
    {
     "data": {
      "application/vnd.jupyter.widget-view+json": {
       "model_id": "e43f5e4a8e2748299f057d38d210d70a",
       "version_major": 2,
       "version_minor": 0
      },
      "text/plain": [
       "  0%|          | 0/193 [00:00<?, ?it/s]"
      ]
     },
     "metadata": {},
     "output_type": "display_data"
    }
   ],
   "source": [
    "input_ = pd.read_csv('output/anthropic/fra_haiku-20241022_exp.csv')\n",
    "df = feature_extraction(input_)\n",
    "df.to_csv('output/ready_for_evaluation/claude-3.5-haiku/fra.csv', index=False)"
   ]
  },
  {
   "cell_type": "markdown",
   "id": "b679f9a4-1840-45c2-821e-13a2aa8353be",
   "metadata": {},
   "source": [
    "## Spanish"
   ]
  },
  {
   "cell_type": "code",
   "execution_count": 298,
   "id": "26c6ae0c-4ec3-4e40-99a4-65f1ee7f1eea",
   "metadata": {},
   "outputs": [
    {
     "data": {
      "application/vnd.jupyter.widget-view+json": {
       "model_id": "895b1ce3fafc4fff934cfb7bdeee361c",
       "version_major": 2,
       "version_minor": 0
      },
      "text/plain": [
       "  0%|          | 0/193 [00:00<?, ?it/s]"
      ]
     },
     "metadata": {},
     "output_type": "display_data"
    },
    {
     "data": {
      "application/vnd.jupyter.widget-view+json": {
       "model_id": "1878081ce47548a3bf421c3196d29963",
       "version_major": 2,
       "version_minor": 0
      },
      "text/plain": [
       "  0%|          | 0/193 [00:00<?, ?it/s]"
      ]
     },
     "metadata": {},
     "output_type": "display_data"
    }
   ],
   "source": [
    "input_ = pd.read_csv('output/anthropic/spa_haiku-20241022_exp.csv')\n",
    "df = feature_extraction(input_)\n",
    "df.to_csv('output/ready_for_evaluation/claude-3.5-haiku/spa.csv', index=False)"
   ]
  },
  {
   "cell_type": "markdown",
   "id": "63a4e41b-f005-415b-abc9-335b64e7a19d",
   "metadata": {},
   "source": [
    "## Italian"
   ]
  },
  {
   "cell_type": "code",
   "execution_count": 302,
   "id": "f37bc45c-558a-4022-9916-9a58a402d0bd",
   "metadata": {},
   "outputs": [
    {
     "data": {
      "application/vnd.jupyter.widget-view+json": {
       "model_id": "d14942cc41ce4001903f595d903303b8",
       "version_major": 2,
       "version_minor": 0
      },
      "text/plain": [
       "  0%|          | 0/193 [00:00<?, ?it/s]"
      ]
     },
     "metadata": {},
     "output_type": "display_data"
    },
    {
     "data": {
      "application/vnd.jupyter.widget-view+json": {
       "model_id": "b6335087705242648c84823a6a570db8",
       "version_major": 2,
       "version_minor": 0
      },
      "text/plain": [
       "  0%|          | 0/193 [00:00<?, ?it/s]"
      ]
     },
     "metadata": {},
     "output_type": "display_data"
    }
   ],
   "source": [
    "input_ = pd.read_csv('output/anthropic/it_haiku-20241022_exp.csv')\n",
    "df = feature_extraction(input_)\n",
    "df.to_csv('output/ready_for_evaluation/claude-3.5-haiku/it.csv', index=False)"
   ]
  },
  {
   "cell_type": "markdown",
   "id": "83ba4595-868e-45ee-abcb-8ed3c74c3945",
   "metadata": {
    "jp-MarkdownHeadingCollapsed": true,
    "tags": []
   },
   "source": [
    "# Claude-3.5-sonnet (done)"
   ]
  },
  {
   "cell_type": "markdown",
   "id": "3adaa208-407d-441a-af06-75c7b8149e79",
   "metadata": {},
   "source": [
    "## German"
   ]
  },
  {
   "cell_type": "code",
   "execution_count": 26,
   "id": "1f876e21-0543-457a-96d0-0ab1c915aecc",
   "metadata": {
    "tags": []
   },
   "outputs": [
    {
     "data": {
      "application/vnd.jupyter.widget-view+json": {
       "model_id": "31c7136b2bc74523abc623dd3fbbdbe5",
       "version_major": 2,
       "version_minor": 0
      },
      "text/plain": [
       "  0%|          | 0/193 [00:00<?, ?it/s]"
      ]
     },
     "metadata": {},
     "output_type": "display_data"
    },
    {
     "data": {
      "application/vnd.jupyter.widget-view+json": {
       "model_id": "3b957dcbf85a47d2b24bc96adbbd7204",
       "version_major": 2,
       "version_minor": 0
      },
      "text/plain": [
       "  0%|          | 0/193 [00:00<?, ?it/s]"
      ]
     },
     "metadata": {},
     "output_type": "display_data"
    }
   ],
   "source": [
    "input_ = pd.read_csv('output/anthropic/deu_sonnet-20241022_exp.csv')\n",
    "df = feature_extraction(input_)\n",
    "df.to_csv('output/ready_for_evaluation/claude-3.5-sonnet/deu.csv', index=False)"
   ]
  },
  {
   "cell_type": "markdown",
   "id": "93e7fcbb-888e-490b-9896-e7fb92881144",
   "metadata": {},
   "source": [
    "## French"
   ]
  },
  {
   "cell_type": "code",
   "execution_count": 27,
   "id": "f4276c56-f68c-439f-907d-6370c8a23af0",
   "metadata": {
    "tags": []
   },
   "outputs": [
    {
     "data": {
      "application/vnd.jupyter.widget-view+json": {
       "model_id": "d96d649c881140efac2e53fe19023cf9",
       "version_major": 2,
       "version_minor": 0
      },
      "text/plain": [
       "  0%|          | 0/193 [00:00<?, ?it/s]"
      ]
     },
     "metadata": {},
     "output_type": "display_data"
    },
    {
     "data": {
      "application/vnd.jupyter.widget-view+json": {
       "model_id": "76d4f78fc8804afc9e8e2022c4df3145",
       "version_major": 2,
       "version_minor": 0
      },
      "text/plain": [
       "  0%|          | 0/193 [00:00<?, ?it/s]"
      ]
     },
     "metadata": {},
     "output_type": "display_data"
    }
   ],
   "source": [
    "input_ = pd.read_csv('output/anthropic/fra_sonnet-20241022_exp.csv')\n",
    "df = feature_extraction(input_)\n",
    "df.to_csv('output/ready_for_evaluation/claude-3.5-sonnet/fra.csv', index=False)"
   ]
  },
  {
   "cell_type": "markdown",
   "id": "b548327a-faac-4c7e-b28f-759086d9fea8",
   "metadata": {},
   "source": [
    "## Spanish"
   ]
  },
  {
   "cell_type": "code",
   "execution_count": 28,
   "id": "e72198b3-e49e-4b78-9375-0578310c0118",
   "metadata": {
    "tags": []
   },
   "outputs": [
    {
     "data": {
      "application/vnd.jupyter.widget-view+json": {
       "model_id": "815e7f563f9447a2b2b91c3ef7295858",
       "version_major": 2,
       "version_minor": 0
      },
      "text/plain": [
       "  0%|          | 0/193 [00:00<?, ?it/s]"
      ]
     },
     "metadata": {},
     "output_type": "display_data"
    },
    {
     "data": {
      "application/vnd.jupyter.widget-view+json": {
       "model_id": "736f67b6ae3e4852854a1e860398c092",
       "version_major": 2,
       "version_minor": 0
      },
      "text/plain": [
       "  0%|          | 0/193 [00:00<?, ?it/s]"
      ]
     },
     "metadata": {},
     "output_type": "display_data"
    }
   ],
   "source": [
    "input_ = pd.read_csv('output/anthropic/spa_sonnet-20241022_exp.csv')\n",
    "df = feature_extraction(input_)\n",
    "df.to_csv('output/ready_for_evaluation/claude-3.5-sonnet/spa.csv', index=False)"
   ]
  },
  {
   "cell_type": "markdown",
   "id": "4569347e-a180-44d3-8670-4cce7877b630",
   "metadata": {},
   "source": [
    "## Italian"
   ]
  },
  {
   "cell_type": "code",
   "execution_count": 29,
   "id": "d1086b0b-5047-434d-90e5-99cb3771e179",
   "metadata": {
    "tags": []
   },
   "outputs": [
    {
     "data": {
      "application/vnd.jupyter.widget-view+json": {
       "model_id": "493681383a54440f801cb5befd0ffcd6",
       "version_major": 2,
       "version_minor": 0
      },
      "text/plain": [
       "  0%|          | 0/193 [00:00<?, ?it/s]"
      ]
     },
     "metadata": {},
     "output_type": "display_data"
    },
    {
     "data": {
      "application/vnd.jupyter.widget-view+json": {
       "model_id": "2f4c2d9e1f6a47978232f93633abba08",
       "version_major": 2,
       "version_minor": 0
      },
      "text/plain": [
       "  0%|          | 0/193 [00:00<?, ?it/s]"
      ]
     },
     "metadata": {},
     "output_type": "display_data"
    }
   ],
   "source": [
    "input_ = pd.read_csv('output/anthropic/it_sonnet-20241022_exp.csv')\n",
    "df = feature_extraction(input_)\n",
    "df.to_csv('output/ready_for_evaluation/claude-3.5-sonnet/it.csv', index=False)"
   ]
  },
  {
   "cell_type": "markdown",
   "id": "429d06f9-51f7-41aa-a952-440676612323",
   "metadata": {
    "jp-MarkdownHeadingCollapsed": true,
    "tags": []
   },
   "source": [
    "# Claude-3-opus (done)"
   ]
  },
  {
   "cell_type": "markdown",
   "id": "1ea818d7-5dea-49ab-a203-b33bb2d4c083",
   "metadata": {},
   "source": [
    "## German"
   ]
  },
  {
   "cell_type": "code",
   "execution_count": 67,
   "id": "ad352e57-3294-4b53-a75d-75ed1f051984",
   "metadata": {
    "tags": []
   },
   "outputs": [
    {
     "data": {
      "application/vnd.jupyter.widget-view+json": {
       "model_id": "958007fa99be4345a51d51639f0900f0",
       "version_major": 2,
       "version_minor": 0
      },
      "text/plain": [
       "  0%|          | 0/193 [00:00<?, ?it/s]"
      ]
     },
     "metadata": {},
     "output_type": "display_data"
    },
    {
     "data": {
      "application/vnd.jupyter.widget-view+json": {
       "model_id": "df15c972f182412fb6c2d9281068c95f",
       "version_major": 2,
       "version_minor": 0
      },
      "text/plain": [
       "  0%|          | 0/193 [00:00<?, ?it/s]"
      ]
     },
     "metadata": {},
     "output_type": "display_data"
    }
   ],
   "source": [
    "input_ = pd.read_csv('output/anthropic/deu_3-opus-20240229_exp.csv')\n",
    "df = feature_extraction(input_)\n",
    "df.to_csv('output/ready_for_evaluation/claude-3-opus/deu.csv', index=False)"
   ]
  },
  {
   "cell_type": "markdown",
   "id": "fd15dd3f-2155-410c-91e7-a82e7697bf88",
   "metadata": {},
   "source": [
    "## French"
   ]
  },
  {
   "cell_type": "code",
   "execution_count": 143,
   "id": "cf38b5a8-0d22-4fa4-83ff-5af2cb697c37",
   "metadata": {
    "tags": []
   },
   "outputs": [
    {
     "data": {
      "application/vnd.jupyter.widget-view+json": {
       "model_id": "d60ae448cdf54e11ab48a43456384460",
       "version_major": 2,
       "version_minor": 0
      },
      "text/plain": [
       "  0%|          | 0/193 [00:00<?, ?it/s]"
      ]
     },
     "metadata": {},
     "output_type": "display_data"
    },
    {
     "data": {
      "application/vnd.jupyter.widget-view+json": {
       "model_id": "9b19089eee3f435796f72d7ce6ef7f0b",
       "version_major": 2,
       "version_minor": 0
      },
      "text/plain": [
       "  0%|          | 0/193 [00:00<?, ?it/s]"
      ]
     },
     "metadata": {},
     "output_type": "display_data"
    }
   ],
   "source": [
    "input_ = pd.read_csv('output/anthropic/fra_3-opus-20240229_exp.csv')\n",
    "df = feature_extraction(input_)\n",
    "df.to_csv('output/ready_for_evaluation/claude-3-opus/fra.csv', index=False)"
   ]
  },
  {
   "cell_type": "markdown",
   "id": "62b829c0-099c-4839-8ded-532f0d9a1c8c",
   "metadata": {},
   "source": [
    "## Spanish"
   ]
  },
  {
   "cell_type": "code",
   "execution_count": 204,
   "id": "fe7d5098-44f9-4ad3-8ecc-1c78e4274c7d",
   "metadata": {},
   "outputs": [
    {
     "data": {
      "application/vnd.jupyter.widget-view+json": {
       "model_id": "27fd5e01773f4720ae4f76a63ffd1cff",
       "version_major": 2,
       "version_minor": 0
      },
      "text/plain": [
       "  0%|          | 0/193 [00:00<?, ?it/s]"
      ]
     },
     "metadata": {},
     "output_type": "display_data"
    },
    {
     "data": {
      "application/vnd.jupyter.widget-view+json": {
       "model_id": "28f43f44787e43428f156814ea141cfa",
       "version_major": 2,
       "version_minor": 0
      },
      "text/plain": [
       "  0%|          | 0/193 [00:00<?, ?it/s]"
      ]
     },
     "metadata": {},
     "output_type": "display_data"
    }
   ],
   "source": [
    "input_ = pd.read_csv('output/anthropic/spa_3-opus-20240229_exp.csv')\n",
    "df = feature_extraction(input_)\n",
    "df.to_csv('output/ready_for_evaluation/claude-3-opus/spa.csv', index=False)"
   ]
  },
  {
   "cell_type": "markdown",
   "id": "c1f6ff4d-097c-4f87-98ff-87e4c2671dc3",
   "metadata": {},
   "source": [
    "## Italian"
   ]
  },
  {
   "cell_type": "code",
   "execution_count": 232,
   "id": "78eff3fd-9f9a-4b9b-b00e-d317ca6a03ad",
   "metadata": {
    "tags": []
   },
   "outputs": [
    {
     "data": {
      "application/vnd.jupyter.widget-view+json": {
       "model_id": "54600ac6a7d94f25934acf4e2eb2ce24",
       "version_major": 2,
       "version_minor": 0
      },
      "text/plain": [
       "  0%|          | 0/193 [00:00<?, ?it/s]"
      ]
     },
     "metadata": {},
     "output_type": "display_data"
    },
    {
     "data": {
      "application/vnd.jupyter.widget-view+json": {
       "model_id": "3e9a2dfa5a704dcca403a8a3f9668cd8",
       "version_major": 2,
       "version_minor": 0
      },
      "text/plain": [
       "  0%|          | 0/193 [00:00<?, ?it/s]"
      ]
     },
     "metadata": {},
     "output_type": "display_data"
    }
   ],
   "source": [
    "input_ = pd.read_csv('output/anthropic/it_3-opus-20240229_exp.csv')\n",
    "df = feature_extraction(input_)\n",
    "df.to_csv('output/ready_for_evaluation/claude-3-opus/it.csv', index=False)"
   ]
  }
 ],
 "metadata": {
  "kernelspec": {
   "display_name": "Python 3 (ipykernel)",
   "language": "python",
   "name": "python3"
  },
  "language_info": {
   "codemirror_mode": {
    "name": "ipython",
    "version": 3
   },
   "file_extension": ".py",
   "mimetype": "text/x-python",
   "name": "python",
   "nbconvert_exporter": "python",
   "pygments_lexer": "ipython3",
   "version": "3.11.5"
  }
 },
 "nbformat": 4,
 "nbformat_minor": 5
}
