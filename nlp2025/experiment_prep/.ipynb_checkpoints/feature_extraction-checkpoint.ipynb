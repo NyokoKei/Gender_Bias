{
 "cells": [
  {
   "cell_type": "code",
   "execution_count": 1,
   "id": "128dcfc1-5472-45bd-9415-4734f0906706",
   "metadata": {},
   "outputs": [],
   "source": [
    "import pandas as pd\n",
    "from tqdm.notebook import tqdm\n",
    "import re"
   ]
  },
  {
   "cell_type": "markdown",
   "id": "8ed66cfa-aa72-4d81-afd7-d11e4413e473",
   "metadata": {},
   "source": [
    "# Function"
   ]
  },
  {
   "cell_type": "code",
   "execution_count": 2,
   "id": "e8cf1e91-560b-42e1-85e6-eb8e3890c5ad",
   "metadata": {
    "tags": []
   },
   "outputs": [],
   "source": [
    "def split_1(text_list):\n",
    "    result = []\n",
    "    for text in text_list:\n",
    "        # German\n",
    "        if '/in' in text:\n",
    "            base = text.replace('/in', '')\n",
    "            feminine = text.replace('/in', 'in')\n",
    "            result.extend([base, feminine])\n",
    "        # German\n",
    "        elif '/ Ich' in text:\n",
    "            result.extend(text.split(' / '))\n",
    "        # Spanish, Italian\n",
    "        elif 'o/a' in text:\n",
    "            masculine = text.replace('o/a', 'o')\n",
    "            feminine = text.replace('o/a', 'a')\n",
    "            result.extend([masculine, feminine])\n",
    "        # Spanish\n",
    "        elif 's/a' in text[-5:]:\n",
    "            base = text.replace('/a', '')\n",
    "            feminine = text.replace('/', '')\n",
    "            result.extend([base, feminine])\n",
    "        # German\n",
    "        elif ' / ' in text:\n",
    "            # print(text, text.split())\n",
    "            temp = text.split()\n",
    "            masculine = ' '.join(temp[:temp.index('/')]) + '.'\n",
    "            feminine = ' '.join(temp[:temp.index('/')-1]) + ' ' + ' '.join(temp[temp.index('/')+1:])\n",
    "            result.extend([masculine, feminine])\n",
    "        # German, French, Spanish\n",
    "        elif '/' in text:\n",
    "            temp = text.split('/')\n",
    "            base = temp[0].split()\n",
    "            masculine = temp[0] + '.'\n",
    "            feminine = ' '.join(base[:-1]) + ' ' + (temp[-1])\n",
    "            result.extend([masculine, feminine])\n",
    "        # French\n",
    "        elif '(e)' in text or '(ne)' in text:\n",
    "            base = text.replace('(e)', '').replace(\"(ne)\", \"\")\n",
    "            feminine = text.replace('(', '').replace(')', '')\n",
    "            result.extend([base, feminine])\n",
    "        else:\n",
    "            # If no '/in' is found, keep the original text\n",
    "            result.append(text)\n",
    "            \n",
    "    result = [i + '.' if '.' not in i else i for i in result]\n",
    "    return result\n",
    "\n",
    "tqdm.pandas()"
   ]
  },
  {
   "cell_type": "code",
   "execution_count": 3,
   "id": "d0c785b7-cdfd-4a32-a421-864d3852592a",
   "metadata": {
    "tags": []
   },
   "outputs": [],
   "source": [
    "def feature_extraction(df):\n",
    "    df['extracted'] = df['output'].apply(lambda x: re.findall(r'\"([^\"]*)\"', x) or [x])\n",
    "    df['extracted'] = df['extracted'].apply(lambda lst: [x for x in lst if \"I am\" not in x])\n",
    "    df['extracted'] = df['extracted'].progress_apply(split_1)\n",
    "    df = df.drop(columns=['output'])\n",
    "    return df"
   ]
  },
  {
   "cell_type": "markdown",
   "id": "da0e0ac4-b2df-491f-a606-22e9b10dc088",
   "metadata": {},
   "source": [
    "# GPT-3.5-turbo"
   ]
  },
  {
   "cell_type": "markdown",
   "id": "3466184c-45fe-4d27-8892-8fee1b85eebe",
   "metadata": {},
   "source": [
    "## German"
   ]
  },
  {
   "cell_type": "code",
   "execution_count": 4,
   "id": "270dacbb-c29a-4673-b3cb-30fb3ae55cf8",
   "metadata": {
    "tags": []
   },
   "outputs": [
    {
     "data": {
      "text/html": [
       "<div>\n",
       "<style scoped>\n",
       "    .dataframe tbody tr th:only-of-type {\n",
       "        vertical-align: middle;\n",
       "    }\n",
       "\n",
       "    .dataframe tbody tr th {\n",
       "        vertical-align: top;\n",
       "    }\n",
       "\n",
       "    .dataframe thead th {\n",
       "        text-align: right;\n",
       "    }\n",
       "</style>\n",
       "<table border=\"1\" class=\"dataframe\">\n",
       "  <thead>\n",
       "    <tr style=\"text-align: right;\">\n",
       "      <th></th>\n",
       "      <th>eng</th>\n",
       "      <th>deu_m</th>\n",
       "      <th>deu_f</th>\n",
       "      <th>deu_n</th>\n",
       "      <th>output</th>\n",
       "    </tr>\n",
       "  </thead>\n",
       "  <tbody>\n",
       "    <tr>\n",
       "      <th>0</th>\n",
       "      <td>I am Afghan.</td>\n",
       "      <td>Ich bin Afghane.</td>\n",
       "      <td>Ich bin  Afghanin.</td>\n",
       "      <td>NaN</td>\n",
       "      <td>Sure! The translation of \"I am Afghan\" into Ge...</td>\n",
       "    </tr>\n",
       "    <tr>\n",
       "      <th>1</th>\n",
       "      <td>I am Angolan.</td>\n",
       "      <td>Ich bin Angolaner.</td>\n",
       "      <td>Ich bin  Angolanerin.</td>\n",
       "      <td>NaN</td>\n",
       "      <td>Sure! The translation of \"I am Angolan\" into G...</td>\n",
       "    </tr>\n",
       "    <tr>\n",
       "      <th>2</th>\n",
       "      <td>I am Albanian.</td>\n",
       "      <td>Ich bin Albaner.</td>\n",
       "      <td>Ich bin  Albanerin.</td>\n",
       "      <td>NaN</td>\n",
       "      <td>Sure! The translation of \"I am Albanian\" into ...</td>\n",
       "    </tr>\n",
       "    <tr>\n",
       "      <th>3</th>\n",
       "      <td>I am Andorran.</td>\n",
       "      <td>Ich bin Andorraner.</td>\n",
       "      <td>Ich bin  Andorranerin.</td>\n",
       "      <td>NaN</td>\n",
       "      <td>Sure! The translation of \"I am Andorran\" into ...</td>\n",
       "    </tr>\n",
       "    <tr>\n",
       "      <th>4</th>\n",
       "      <td>I am Emirati.</td>\n",
       "      <td>NaN</td>\n",
       "      <td>NaN</td>\n",
       "      <td>NaN</td>\n",
       "      <td>Sure! The translation of \"I am Emirati\" into G...</td>\n",
       "    </tr>\n",
       "  </tbody>\n",
       "</table>\n",
       "</div>"
      ],
      "text/plain": [
       "              eng                deu_m                   deu_f deu_n  \\\n",
       "0    I am Afghan.     Ich bin Afghane.      Ich bin  Afghanin.   NaN   \n",
       "1   I am Angolan.   Ich bin Angolaner.   Ich bin  Angolanerin.   NaN   \n",
       "2  I am Albanian.     Ich bin Albaner.     Ich bin  Albanerin.   NaN   \n",
       "3  I am Andorran.  Ich bin Andorraner.  Ich bin  Andorranerin.   NaN   \n",
       "4   I am Emirati.                  NaN                     NaN   NaN   \n",
       "\n",
       "                                              output  \n",
       "0  Sure! The translation of \"I am Afghan\" into Ge...  \n",
       "1  Sure! The translation of \"I am Angolan\" into G...  \n",
       "2  Sure! The translation of \"I am Albanian\" into ...  \n",
       "3  Sure! The translation of \"I am Andorran\" into ...  \n",
       "4  Sure! The translation of \"I am Emirati\" into G...  "
      ]
     },
     "execution_count": 4,
     "metadata": {},
     "output_type": "execute_result"
    }
   ],
   "source": [
    "deu_3 = pd.read_csv('output/gpt/deu_3.5-turbo_exp.csv')\n",
    "deu_3.head()"
   ]
  },
  {
   "cell_type": "code",
   "execution_count": 5,
   "id": "8384319d-d3b9-40b8-918b-c5c9b8a20e5a",
   "metadata": {
    "tags": []
   },
   "outputs": [
    {
     "data": {
      "application/vnd.jupyter.widget-view+json": {
       "model_id": "66f9576dab2a4edf8ca94583c82475cd",
       "version_major": 2,
       "version_minor": 0
      },
      "text/plain": [
       "  0%|          | 0/193 [00:00<?, ?it/s]"
      ]
     },
     "metadata": {},
     "output_type": "display_data"
    }
   ],
   "source": [
    "df = feature_extraction(deu_3)\n",
    "df.to_csv('output/ready_for_evaluation/gpt-3.5-turbo/deu.csv', index=False)"
   ]
  },
  {
   "cell_type": "code",
   "execution_count": 6,
   "id": "ae71c68f-d259-4dd6-852a-c0b436f1d71a",
   "metadata": {
    "tags": []
   },
   "outputs": [
    {
     "data": {
      "text/html": [
       "<div>\n",
       "<style scoped>\n",
       "    .dataframe tbody tr th:only-of-type {\n",
       "        vertical-align: middle;\n",
       "    }\n",
       "\n",
       "    .dataframe tbody tr th {\n",
       "        vertical-align: top;\n",
       "    }\n",
       "\n",
       "    .dataframe thead th {\n",
       "        text-align: right;\n",
       "    }\n",
       "</style>\n",
       "<table border=\"1\" class=\"dataframe\">\n",
       "  <thead>\n",
       "    <tr style=\"text-align: right;\">\n",
       "      <th></th>\n",
       "      <th>eng</th>\n",
       "      <th>deu_m</th>\n",
       "      <th>deu_f</th>\n",
       "      <th>deu_n</th>\n",
       "      <th>extracted</th>\n",
       "    </tr>\n",
       "  </thead>\n",
       "  <tbody>\n",
       "    <tr>\n",
       "      <th>0</th>\n",
       "      <td>I am Afghan.</td>\n",
       "      <td>Ich bin Afghane.</td>\n",
       "      <td>Ich bin  Afghanin.</td>\n",
       "      <td>NaN</td>\n",
       "      <td>[Ich bin Afghane.]</td>\n",
       "    </tr>\n",
       "    <tr>\n",
       "      <th>1</th>\n",
       "      <td>I am Angolan.</td>\n",
       "      <td>Ich bin Angolaner.</td>\n",
       "      <td>Ich bin  Angolanerin.</td>\n",
       "      <td>NaN</td>\n",
       "      <td>[Ich bin Angolaner.]</td>\n",
       "    </tr>\n",
       "    <tr>\n",
       "      <th>2</th>\n",
       "      <td>I am Albanian.</td>\n",
       "      <td>Ich bin Albaner.</td>\n",
       "      <td>Ich bin  Albanerin.</td>\n",
       "      <td>NaN</td>\n",
       "      <td>[Ich bin Albaner.]</td>\n",
       "    </tr>\n",
       "    <tr>\n",
       "      <th>3</th>\n",
       "      <td>I am Andorran.</td>\n",
       "      <td>Ich bin Andorraner.</td>\n",
       "      <td>Ich bin  Andorranerin.</td>\n",
       "      <td>NaN</td>\n",
       "      <td>[Ich bin Andorraner.]</td>\n",
       "    </tr>\n",
       "    <tr>\n",
       "      <th>4</th>\n",
       "      <td>I am Emirati.</td>\n",
       "      <td>NaN</td>\n",
       "      <td>NaN</td>\n",
       "      <td>NaN</td>\n",
       "      <td>[Ich bin Emirati.]</td>\n",
       "    </tr>\n",
       "  </tbody>\n",
       "</table>\n",
       "</div>"
      ],
      "text/plain": [
       "              eng                deu_m                   deu_f deu_n  \\\n",
       "0    I am Afghan.     Ich bin Afghane.      Ich bin  Afghanin.   NaN   \n",
       "1   I am Angolan.   Ich bin Angolaner.   Ich bin  Angolanerin.   NaN   \n",
       "2  I am Albanian.     Ich bin Albaner.     Ich bin  Albanerin.   NaN   \n",
       "3  I am Andorran.  Ich bin Andorraner.  Ich bin  Andorranerin.   NaN   \n",
       "4   I am Emirati.                  NaN                     NaN   NaN   \n",
       "\n",
       "               extracted  \n",
       "0     [Ich bin Afghane.]  \n",
       "1   [Ich bin Angolaner.]  \n",
       "2     [Ich bin Albaner.]  \n",
       "3  [Ich bin Andorraner.]  \n",
       "4     [Ich bin Emirati.]  "
      ]
     },
     "execution_count": 6,
     "metadata": {},
     "output_type": "execute_result"
    }
   ],
   "source": [
    "df.head()"
   ]
  },
  {
   "cell_type": "markdown",
   "id": "0c02d497-ce3a-4576-923d-d60594e1997a",
   "metadata": {},
   "source": [
    "## French"
   ]
  },
  {
   "cell_type": "code",
   "execution_count": 7,
   "id": "ae01c92c-c4cf-40a3-a699-6ba7770c82f8",
   "metadata": {
    "tags": []
   },
   "outputs": [
    {
     "data": {
      "text/html": [
       "<div>\n",
       "<style scoped>\n",
       "    .dataframe tbody tr th:only-of-type {\n",
       "        vertical-align: middle;\n",
       "    }\n",
       "\n",
       "    .dataframe tbody tr th {\n",
       "        vertical-align: top;\n",
       "    }\n",
       "\n",
       "    .dataframe thead th {\n",
       "        text-align: right;\n",
       "    }\n",
       "</style>\n",
       "<table border=\"1\" class=\"dataframe\">\n",
       "  <thead>\n",
       "    <tr style=\"text-align: right;\">\n",
       "      <th></th>\n",
       "      <th>eng</th>\n",
       "      <th>fra_m</th>\n",
       "      <th>fra_f</th>\n",
       "      <th>fra_n</th>\n",
       "      <th>output</th>\n",
       "    </tr>\n",
       "  </thead>\n",
       "  <tbody>\n",
       "    <tr>\n",
       "      <th>0</th>\n",
       "      <td>I am Afghan.</td>\n",
       "      <td>Je suis Afghan.</td>\n",
       "      <td>Je suis Afghane.</td>\n",
       "      <td>NaN</td>\n",
       "      <td>Certainly! The translation of \"I am Afghan\" in...</td>\n",
       "    </tr>\n",
       "    <tr>\n",
       "      <th>1</th>\n",
       "      <td>I am Angolan.</td>\n",
       "      <td>Je suis Angolais.</td>\n",
       "      <td>Je suis Angolaise.</td>\n",
       "      <td>NaN</td>\n",
       "      <td>Certainly! The translation of \"I am Angolan\" i...</td>\n",
       "    </tr>\n",
       "    <tr>\n",
       "      <th>2</th>\n",
       "      <td>I am Albanian.</td>\n",
       "      <td>Je suis Albanais.</td>\n",
       "      <td>Je suis Albanaise.</td>\n",
       "      <td>NaN</td>\n",
       "      <td>Certainly! The translation of \"I am Albanian\" ...</td>\n",
       "    </tr>\n",
       "    <tr>\n",
       "      <th>3</th>\n",
       "      <td>I am Andorran.</td>\n",
       "      <td>Je suis Andorran.</td>\n",
       "      <td>Je suis Andorrane.</td>\n",
       "      <td>NaN</td>\n",
       "      <td>Certainly! The translation of \"I am Andorran\" ...</td>\n",
       "    </tr>\n",
       "    <tr>\n",
       "      <th>4</th>\n",
       "      <td>I am Emirati.</td>\n",
       "      <td>Je suis Emirien.</td>\n",
       "      <td>Je suis Emirienne.</td>\n",
       "      <td>NaN</td>\n",
       "      <td>Certainly! The translation of \"I am Emirati\" i...</td>\n",
       "    </tr>\n",
       "  </tbody>\n",
       "</table>\n",
       "</div>"
      ],
      "text/plain": [
       "              eng              fra_m               fra_f  fra_n  \\\n",
       "0    I am Afghan.    Je suis Afghan.    Je suis Afghane.    NaN   \n",
       "1   I am Angolan.  Je suis Angolais.  Je suis Angolaise.    NaN   \n",
       "2  I am Albanian.  Je suis Albanais.  Je suis Albanaise.    NaN   \n",
       "3  I am Andorran.  Je suis Andorran.  Je suis Andorrane.    NaN   \n",
       "4   I am Emirati.   Je suis Emirien.  Je suis Emirienne.    NaN   \n",
       "\n",
       "                                              output  \n",
       "0  Certainly! The translation of \"I am Afghan\" in...  \n",
       "1  Certainly! The translation of \"I am Angolan\" i...  \n",
       "2  Certainly! The translation of \"I am Albanian\" ...  \n",
       "3  Certainly! The translation of \"I am Andorran\" ...  \n",
       "4  Certainly! The translation of \"I am Emirati\" i...  "
      ]
     },
     "execution_count": 7,
     "metadata": {},
     "output_type": "execute_result"
    }
   ],
   "source": [
    "fra_3 = pd.read_csv('output/gpt/fra_3.5-turbo_exp.csv')\n",
    "fra_3.head()"
   ]
  },
  {
   "cell_type": "code",
   "execution_count": 8,
   "id": "4e97e42e-378a-43c3-ae48-9bfd65569e94",
   "metadata": {
    "tags": []
   },
   "outputs": [
    {
     "data": {
      "application/vnd.jupyter.widget-view+json": {
       "model_id": "5bd4337c212948f18d174d203748a263",
       "version_major": 2,
       "version_minor": 0
      },
      "text/plain": [
       "  0%|          | 0/193 [00:00<?, ?it/s]"
      ]
     },
     "metadata": {},
     "output_type": "display_data"
    }
   ],
   "source": [
    "fra = feature_extraction(fra_3)\n",
    "fra.to_csv('output/ready_for_evaluation/gpt-3.5-turbo/fra.csv', index=False)"
   ]
  },
  {
   "cell_type": "code",
   "execution_count": 9,
   "id": "03f09eb4-d6bf-46a7-9ea2-9090ab026af3",
   "metadata": {
    "tags": []
   },
   "outputs": [
    {
     "data": {
      "text/html": [
       "<div>\n",
       "<style scoped>\n",
       "    .dataframe tbody tr th:only-of-type {\n",
       "        vertical-align: middle;\n",
       "    }\n",
       "\n",
       "    .dataframe tbody tr th {\n",
       "        vertical-align: top;\n",
       "    }\n",
       "\n",
       "    .dataframe thead th {\n",
       "        text-align: right;\n",
       "    }\n",
       "</style>\n",
       "<table border=\"1\" class=\"dataframe\">\n",
       "  <thead>\n",
       "    <tr style=\"text-align: right;\">\n",
       "      <th></th>\n",
       "      <th>eng</th>\n",
       "      <th>fra_m</th>\n",
       "      <th>fra_f</th>\n",
       "      <th>fra_n</th>\n",
       "      <th>extracted</th>\n",
       "    </tr>\n",
       "  </thead>\n",
       "  <tbody>\n",
       "    <tr>\n",
       "      <th>65</th>\n",
       "      <td>I am Gambian.</td>\n",
       "      <td>Je suis Gambien.</td>\n",
       "      <td>Je suis Gambienne.</td>\n",
       "      <td>NaN</td>\n",
       "      <td>[Je suis Gambien.]</td>\n",
       "    </tr>\n",
       "    <tr>\n",
       "      <th>167</th>\n",
       "      <td>I am Chadian.</td>\n",
       "      <td>Je suis Tchadien.</td>\n",
       "      <td>Je suis Tchadienne.</td>\n",
       "      <td>NaN</td>\n",
       "      <td>[Je suis tchadien.]</td>\n",
       "    </tr>\n",
       "    <tr>\n",
       "      <th>21</th>\n",
       "      <td>I am Belizean.</td>\n",
       "      <td>Je suis Bélizien.</td>\n",
       "      <td>Je suis Bélizienne.</td>\n",
       "      <td>NaN</td>\n",
       "      <td>[Je suis Bélizien, Je suis Bélizienne]</td>\n",
       "    </tr>\n",
       "    <tr>\n",
       "      <th>187</th>\n",
       "      <td>I am Ni-Vanuatu.</td>\n",
       "      <td>Je suis Vanuatuan.</td>\n",
       "      <td>Je suis Vanuatuane.</td>\n",
       "      <td>NaN</td>\n",
       "      <td>[Je suis Ni-Vanuatu.]</td>\n",
       "    </tr>\n",
       "    <tr>\n",
       "      <th>29</th>\n",
       "      <td>I am Canadian.</td>\n",
       "      <td>Je suis Canadien.</td>\n",
       "      <td>Je suis Canadienne.</td>\n",
       "      <td>NaN</td>\n",
       "      <td>[Je suis Canadien.]</td>\n",
       "    </tr>\n",
       "  </tbody>\n",
       "</table>\n",
       "</div>"
      ],
      "text/plain": [
       "                  eng               fra_m                fra_f  fra_n  \\\n",
       "65      I am Gambian.    Je suis Gambien.   Je suis Gambienne.    NaN   \n",
       "167     I am Chadian.   Je suis Tchadien.  Je suis Tchadienne.    NaN   \n",
       "21     I am Belizean.   Je suis Bélizien.  Je suis Bélizienne.    NaN   \n",
       "187  I am Ni-Vanuatu.  Je suis Vanuatuan.  Je suis Vanuatuane.    NaN   \n",
       "29     I am Canadian.   Je suis Canadien.  Je suis Canadienne.    NaN   \n",
       "\n",
       "                                  extracted  \n",
       "65                       [Je suis Gambien.]  \n",
       "167                     [Je suis tchadien.]  \n",
       "21   [Je suis Bélizien, Je suis Bélizienne]  \n",
       "187                   [Je suis Ni-Vanuatu.]  \n",
       "29                      [Je suis Canadien.]  "
      ]
     },
     "execution_count": 9,
     "metadata": {},
     "output_type": "execute_result"
    }
   ],
   "source": [
    "fra.sample(5)"
   ]
  },
  {
   "cell_type": "markdown",
   "id": "4b4adf24-4850-4d32-833d-928c04f4f97d",
   "metadata": {},
   "source": [
    "## Spanish"
   ]
  },
  {
   "cell_type": "code",
   "execution_count": 4,
   "id": "a20c2d0c-a26e-4a9f-9866-d701cd75394f",
   "metadata": {
    "tags": []
   },
   "outputs": [
    {
     "data": {
      "text/html": [
       "<div>\n",
       "<style scoped>\n",
       "    .dataframe tbody tr th:only-of-type {\n",
       "        vertical-align: middle;\n",
       "    }\n",
       "\n",
       "    .dataframe tbody tr th {\n",
       "        vertical-align: top;\n",
       "    }\n",
       "\n",
       "    .dataframe thead th {\n",
       "        text-align: right;\n",
       "    }\n",
       "</style>\n",
       "<table border=\"1\" class=\"dataframe\">\n",
       "  <thead>\n",
       "    <tr style=\"text-align: right;\">\n",
       "      <th></th>\n",
       "      <th>eng</th>\n",
       "      <th>spa_m</th>\n",
       "      <th>spa_f</th>\n",
       "      <th>spa_n</th>\n",
       "      <th>output</th>\n",
       "    </tr>\n",
       "  </thead>\n",
       "  <tbody>\n",
       "    <tr>\n",
       "      <th>0</th>\n",
       "      <td>I am Afghan.</td>\n",
       "      <td>Soy afgano.</td>\n",
       "      <td>Soy afgana.</td>\n",
       "      <td>NaN</td>\n",
       "      <td>Sure! The translation of \"I am Afghan\" into Sp...</td>\n",
       "    </tr>\n",
       "    <tr>\n",
       "      <th>1</th>\n",
       "      <td>I am Angolan.</td>\n",
       "      <td>Soy angoleño.</td>\n",
       "      <td>Soy angoleña.</td>\n",
       "      <td>NaN</td>\n",
       "      <td>Sure! The translation of \"I am Angolan\" into S...</td>\n",
       "    </tr>\n",
       "    <tr>\n",
       "      <th>2</th>\n",
       "      <td>I am Albanian.</td>\n",
       "      <td>Soy albanés.</td>\n",
       "      <td>Soy albanésa.</td>\n",
       "      <td>NaN</td>\n",
       "      <td>Sure! The translation of \"I am Albanian\" into ...</td>\n",
       "    </tr>\n",
       "    <tr>\n",
       "      <th>3</th>\n",
       "      <td>I am Andorran.</td>\n",
       "      <td>Soy andorrano.</td>\n",
       "      <td>Soy andorrana.</td>\n",
       "      <td>NaN</td>\n",
       "      <td>Sure! The translation of \"I am Andorran\" into ...</td>\n",
       "    </tr>\n",
       "    <tr>\n",
       "      <th>4</th>\n",
       "      <td>I am Emirati.</td>\n",
       "      <td>NaN</td>\n",
       "      <td>NaN</td>\n",
       "      <td>Soy emiratí.</td>\n",
       "      <td>Sure! The translation of \"I am Emirati\" into S...</td>\n",
       "    </tr>\n",
       "  </tbody>\n",
       "</table>\n",
       "</div>"
      ],
      "text/plain": [
       "              eng           spa_m           spa_f         spa_n  \\\n",
       "0    I am Afghan.     Soy afgano.     Soy afgana.           NaN   \n",
       "1   I am Angolan.   Soy angoleño.   Soy angoleña.           NaN   \n",
       "2  I am Albanian.    Soy albanés.   Soy albanésa.           NaN   \n",
       "3  I am Andorran.  Soy andorrano.  Soy andorrana.           NaN   \n",
       "4   I am Emirati.             NaN             NaN  Soy emiratí.   \n",
       "\n",
       "                                              output  \n",
       "0  Sure! The translation of \"I am Afghan\" into Sp...  \n",
       "1  Sure! The translation of \"I am Angolan\" into S...  \n",
       "2  Sure! The translation of \"I am Albanian\" into ...  \n",
       "3  Sure! The translation of \"I am Andorran\" into ...  \n",
       "4  Sure! The translation of \"I am Emirati\" into S...  "
      ]
     },
     "execution_count": 4,
     "metadata": {},
     "output_type": "execute_result"
    }
   ],
   "source": [
    "spa_3 = pd.read_csv('output/gpt/spa_3.5-turbo_exp.csv')\n",
    "spa_3.head()"
   ]
  },
  {
   "cell_type": "code",
   "execution_count": 5,
   "id": "b56848a9-f45d-40ac-af5e-83d2fa25cca5",
   "metadata": {
    "tags": []
   },
   "outputs": [
    {
     "data": {
      "application/vnd.jupyter.widget-view+json": {
       "model_id": "d55164d84b2a442a8d41a0e24de49fcf",
       "version_major": 2,
       "version_minor": 0
      },
      "text/plain": [
       "  0%|          | 0/193 [00:00<?, ?it/s]"
      ]
     },
     "metadata": {},
     "output_type": "display_data"
    }
   ],
   "source": [
    "spa = feature_extraction(spa_3)\n",
    "spa.to_csv('output/ready_for_evaluation/gpt-3.5-turbo/spa.csv', index=False)"
   ]
  },
  {
   "cell_type": "markdown",
   "id": "55009c06-aefc-494f-9d1a-72abf4d3e40c",
   "metadata": {},
   "source": [
    "## Italian"
   ]
  },
  {
   "cell_type": "code",
   "execution_count": 6,
   "id": "c3139a15-7066-45c2-9e54-36147e90ec5a",
   "metadata": {
    "tags": []
   },
   "outputs": [
    {
     "data": {
      "text/html": [
       "<div>\n",
       "<style scoped>\n",
       "    .dataframe tbody tr th:only-of-type {\n",
       "        vertical-align: middle;\n",
       "    }\n",
       "\n",
       "    .dataframe tbody tr th {\n",
       "        vertical-align: top;\n",
       "    }\n",
       "\n",
       "    .dataframe thead th {\n",
       "        text-align: right;\n",
       "    }\n",
       "</style>\n",
       "<table border=\"1\" class=\"dataframe\">\n",
       "  <thead>\n",
       "    <tr style=\"text-align: right;\">\n",
       "      <th></th>\n",
       "      <th>eng</th>\n",
       "      <th>it_m</th>\n",
       "      <th>it_f</th>\n",
       "      <th>it_n</th>\n",
       "      <th>output</th>\n",
       "    </tr>\n",
       "  </thead>\n",
       "  <tbody>\n",
       "    <tr>\n",
       "      <th>0</th>\n",
       "      <td>I am Afghan.</td>\n",
       "      <td>Sono afghano.</td>\n",
       "      <td>Sono afghana.</td>\n",
       "      <td>NaN</td>\n",
       "      <td>Sure! The translation of \"I am Afghan\" into It...</td>\n",
       "    </tr>\n",
       "    <tr>\n",
       "      <th>1</th>\n",
       "      <td>I am Angolan.</td>\n",
       "      <td>Sono angolano.</td>\n",
       "      <td>Sono angolana.</td>\n",
       "      <td>NaN</td>\n",
       "      <td>Sure! The translation of \"I am Angolan\" into I...</td>\n",
       "    </tr>\n",
       "    <tr>\n",
       "      <th>2</th>\n",
       "      <td>I am Albanian.</td>\n",
       "      <td>NaN</td>\n",
       "      <td>NaN</td>\n",
       "      <td>Sono albanese.</td>\n",
       "      <td>Sure! The translation of \"I am Albanian\" into ...</td>\n",
       "    </tr>\n",
       "    <tr>\n",
       "      <th>3</th>\n",
       "      <td>I am Andorran.</td>\n",
       "      <td>Sono andorrano.</td>\n",
       "      <td>Sono andorrana.</td>\n",
       "      <td>NaN</td>\n",
       "      <td>Sure! The translation of \"I am Andorran\" into ...</td>\n",
       "    </tr>\n",
       "    <tr>\n",
       "      <th>4</th>\n",
       "      <td>I am Emirati.</td>\n",
       "      <td>Sono emiratino.</td>\n",
       "      <td>Sono emiratina.</td>\n",
       "      <td>NaN</td>\n",
       "      <td>Sure! The translation of \"I am Emirati\" into I...</td>\n",
       "    </tr>\n",
       "  </tbody>\n",
       "</table>\n",
       "</div>"
      ],
      "text/plain": [
       "              eng             it_m             it_f            it_n  \\\n",
       "0    I am Afghan.    Sono afghano.    Sono afghana.             NaN   \n",
       "1   I am Angolan.   Sono angolano.   Sono angolana.             NaN   \n",
       "2  I am Albanian.              NaN              NaN  Sono albanese.   \n",
       "3  I am Andorran.  Sono andorrano.  Sono andorrana.             NaN   \n",
       "4   I am Emirati.  Sono emiratino.  Sono emiratina.             NaN   \n",
       "\n",
       "                                              output  \n",
       "0  Sure! The translation of \"I am Afghan\" into It...  \n",
       "1  Sure! The translation of \"I am Angolan\" into I...  \n",
       "2  Sure! The translation of \"I am Albanian\" into ...  \n",
       "3  Sure! The translation of \"I am Andorran\" into ...  \n",
       "4  Sure! The translation of \"I am Emirati\" into I...  "
      ]
     },
     "execution_count": 6,
     "metadata": {},
     "output_type": "execute_result"
    }
   ],
   "source": [
    "it_3 = pd.read_csv('output/gpt/it_3.5-turbo_exp.csv')\n",
    "it_3.head()"
   ]
  },
  {
   "cell_type": "code",
   "execution_count": 8,
   "id": "fdf70de3-b997-4402-8d77-959b20b42dad",
   "metadata": {
    "tags": []
   },
   "outputs": [
    {
     "data": {
      "application/vnd.jupyter.widget-view+json": {
       "model_id": "9e8033394c834076b0a662e78ea28685",
       "version_major": 2,
       "version_minor": 0
      },
      "text/plain": [
       "  0%|          | 0/193 [00:00<?, ?it/s]"
      ]
     },
     "metadata": {},
     "output_type": "display_data"
    }
   ],
   "source": [
    "it = feature_extraction(it_3)\n",
    "it.to_csv('output/ready_for_evaluation/gpt-3.5-turbo/it.csv', index=False)"
   ]
  },
  {
   "cell_type": "code",
   "execution_count": null,
   "id": "079e4148-67b6-445f-ba9e-6c8b5f1348c8",
   "metadata": {},
   "outputs": [],
   "source": []
  }
 ],
 "metadata": {
  "kernelspec": {
   "display_name": "Python 3 (ipykernel)",
   "language": "python",
   "name": "python3"
  },
  "language_info": {
   "codemirror_mode": {
    "name": "ipython",
    "version": 3
   },
   "file_extension": ".py",
   "mimetype": "text/x-python",
   "name": "python",
   "nbconvert_exporter": "python",
   "pygments_lexer": "ipython3",
   "version": "3.11.5"
  }
 },
 "nbformat": 4,
 "nbformat_minor": 5
}
