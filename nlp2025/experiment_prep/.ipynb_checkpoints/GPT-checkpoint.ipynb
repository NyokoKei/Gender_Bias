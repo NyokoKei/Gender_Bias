{
 "cells": [
  {
   "cell_type": "code",
   "execution_count": 1,
   "id": "cb06986d-81b6-4f1a-8b06-d7500d2fd29c",
   "metadata": {
    "tags": []
   },
   "outputs": [
    {
     "data": {
      "text/html": [
       "<div>\n",
       "<style scoped>\n",
       "    .dataframe tbody tr th:only-of-type {\n",
       "        vertical-align: middle;\n",
       "    }\n",
       "\n",
       "    .dataframe tbody tr th {\n",
       "        vertical-align: top;\n",
       "    }\n",
       "\n",
       "    .dataframe thead th {\n",
       "        text-align: right;\n",
       "    }\n",
       "</style>\n",
       "<table border=\"1\" class=\"dataframe\">\n",
       "  <thead>\n",
       "    <tr style=\"text-align: right;\">\n",
       "      <th></th>\n",
       "      <th>name</th>\n",
       "      <th>demonym</th>\n",
       "      <th>sentence</th>\n",
       "    </tr>\n",
       "  </thead>\n",
       "  <tbody>\n",
       "    <tr>\n",
       "      <th>0</th>\n",
       "      <td>Afghanistan</td>\n",
       "      <td>Afghan</td>\n",
       "      <td>{'eng': {'m': None, 'f': None, 'n': 'I am Afgh...</td>\n",
       "    </tr>\n",
       "    <tr>\n",
       "      <th>1</th>\n",
       "      <td>Angola</td>\n",
       "      <td>Angolan</td>\n",
       "      <td>{'eng': {'m': None, 'f': None, 'n': 'I am Ango...</td>\n",
       "    </tr>\n",
       "    <tr>\n",
       "      <th>2</th>\n",
       "      <td>Albania</td>\n",
       "      <td>Albanian</td>\n",
       "      <td>{'eng': {'m': None, 'f': None, 'n': 'I am Alba...</td>\n",
       "    </tr>\n",
       "    <tr>\n",
       "      <th>3</th>\n",
       "      <td>Andorra</td>\n",
       "      <td>Andorran</td>\n",
       "      <td>{'eng': {'m': None, 'f': None, 'n': 'I am Ando...</td>\n",
       "    </tr>\n",
       "    <tr>\n",
       "      <th>4</th>\n",
       "      <td>United Arab Emirates</td>\n",
       "      <td>Emirati</td>\n",
       "      <td>{'eng': {'m': None, 'f': None, 'n': 'I am Emir...</td>\n",
       "    </tr>\n",
       "  </tbody>\n",
       "</table>\n",
       "</div>"
      ],
      "text/plain": [
       "                   name   demonym  \\\n",
       "0           Afghanistan    Afghan   \n",
       "1                Angola   Angolan   \n",
       "2               Albania  Albanian   \n",
       "3               Andorra  Andorran   \n",
       "4  United Arab Emirates   Emirati   \n",
       "\n",
       "                                            sentence  \n",
       "0  {'eng': {'m': None, 'f': None, 'n': 'I am Afgh...  \n",
       "1  {'eng': {'m': None, 'f': None, 'n': 'I am Ango...  \n",
       "2  {'eng': {'m': None, 'f': None, 'n': 'I am Alba...  \n",
       "3  {'eng': {'m': None, 'f': None, 'n': 'I am Ando...  \n",
       "4  {'eng': {'m': None, 'f': None, 'n': 'I am Emir...  "
      ]
     },
     "execution_count": 1,
     "metadata": {},
     "output_type": "execute_result"
    }
   ],
   "source": [
    "import pandas as pd\n",
    "import ast\n",
    "\n",
    "df = pd.read_csv('output/dataset.csv')\n",
    "df['sentence'] = df['sentence'].apply(lambda x: ast.literal_eval(x)) # str to dict\n",
    "df.head()"
   ]
  },
  {
   "cell_type": "code",
   "execution_count": 4,
   "id": "055da317-1f68-4dcc-b029-02169ad28efe",
   "metadata": {
    "tags": []
   },
   "outputs": [
    {
     "data": {
      "text/plain": [
       "['I am Afghan.',\n",
       " 'I am Angolan.',\n",
       " 'I am Albanian.',\n",
       " 'I am Andorran.',\n",
       " 'I am Emirati.',\n",
       " 'I am Argentine.',\n",
       " 'I am Armenian.',\n",
       " 'I am Antiguan.',\n",
       " 'I am Australian.',\n",
       " 'I am Austrian.']"
      ]
     },
     "execution_count": 4,
     "metadata": {},
     "output_type": "execute_result"
    }
   ],
   "source": [
    "source_sentence = [x.get('eng', {}).get('n') for x in df['sentence']]\n",
    "source_sentence[:10]"
   ]
  },
  {
   "cell_type": "code",
   "execution_count": null,
   "id": "5b1b9106-b116-4e06-85ec-f8a0d534fefb",
   "metadata": {},
   "outputs": [],
   "source": []
  }
 ],
 "metadata": {
  "kernelspec": {
   "display_name": "Python 3 (ipykernel)",
   "language": "python",
   "name": "python3"
  },
  "language_info": {
   "codemirror_mode": {
    "name": "ipython",
    "version": 3
   },
   "file_extension": ".py",
   "mimetype": "text/x-python",
   "name": "python",
   "nbconvert_exporter": "python",
   "pygments_lexer": "ipython3",
   "version": "3.11.5"
  }
 },
 "nbformat": 4,
 "nbformat_minor": 5
}
