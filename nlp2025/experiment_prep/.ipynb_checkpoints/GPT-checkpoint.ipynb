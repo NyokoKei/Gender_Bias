{
 "cells": [
  {
   "cell_type": "code",
   "execution_count": 1,
   "id": "cb06986d-81b6-4f1a-8b06-d7500d2fd29c",
   "metadata": {
    "tags": []
   },
   "outputs": [
    {
     "data": {
      "text/html": [
       "<div>\n",
       "<style scoped>\n",
       "    .dataframe tbody tr th:only-of-type {\n",
       "        vertical-align: middle;\n",
       "    }\n",
       "\n",
       "    .dataframe tbody tr th {\n",
       "        vertical-align: top;\n",
       "    }\n",
       "\n",
       "    .dataframe thead th {\n",
       "        text-align: right;\n",
       "    }\n",
       "</style>\n",
       "<table border=\"1\" class=\"dataframe\">\n",
       "  <thead>\n",
       "    <tr style=\"text-align: right;\">\n",
       "      <th></th>\n",
       "      <th>name</th>\n",
       "      <th>demonym</th>\n",
       "      <th>sentence</th>\n",
       "    </tr>\n",
       "  </thead>\n",
       "  <tbody>\n",
       "    <tr>\n",
       "      <th>0</th>\n",
       "      <td>Afghanistan</td>\n",
       "      <td>Afghan</td>\n",
       "      <td>{'eng': {'m': None, 'f': None, 'n': 'I am Afgh...</td>\n",
       "    </tr>\n",
       "    <tr>\n",
       "      <th>1</th>\n",
       "      <td>Angola</td>\n",
       "      <td>Angolan</td>\n",
       "      <td>{'eng': {'m': None, 'f': None, 'n': 'I am Ango...</td>\n",
       "    </tr>\n",
       "    <tr>\n",
       "      <th>2</th>\n",
       "      <td>Albania</td>\n",
       "      <td>Albanian</td>\n",
       "      <td>{'eng': {'m': None, 'f': None, 'n': 'I am Alba...</td>\n",
       "    </tr>\n",
       "    <tr>\n",
       "      <th>3</th>\n",
       "      <td>Andorra</td>\n",
       "      <td>Andorran</td>\n",
       "      <td>{'eng': {'m': None, 'f': None, 'n': 'I am Ando...</td>\n",
       "    </tr>\n",
       "    <tr>\n",
       "      <th>4</th>\n",
       "      <td>United Arab Emirates</td>\n",
       "      <td>Emirati</td>\n",
       "      <td>{'eng': {'m': None, 'f': None, 'n': 'I am Emir...</td>\n",
       "    </tr>\n",
       "  </tbody>\n",
       "</table>\n",
       "</div>"
      ],
      "text/plain": [
       "                   name   demonym  \\\n",
       "0           Afghanistan    Afghan   \n",
       "1                Angola   Angolan   \n",
       "2               Albania  Albanian   \n",
       "3               Andorra  Andorran   \n",
       "4  United Arab Emirates   Emirati   \n",
       "\n",
       "                                            sentence  \n",
       "0  {'eng': {'m': None, 'f': None, 'n': 'I am Afgh...  \n",
       "1  {'eng': {'m': None, 'f': None, 'n': 'I am Ango...  \n",
       "2  {'eng': {'m': None, 'f': None, 'n': 'I am Alba...  \n",
       "3  {'eng': {'m': None, 'f': None, 'n': 'I am Ando...  \n",
       "4  {'eng': {'m': None, 'f': None, 'n': 'I am Emir...  "
      ]
     },
     "execution_count": 1,
     "metadata": {},
     "output_type": "execute_result"
    }
   ],
   "source": [
    "import pandas as pd\n",
    "import ast\n",
    "\n",
    "df = pd.read_csv('output/dataset.csv')\n",
    "df['sentence'] = df['sentence'].apply(lambda x: ast.literal_eval(x)) # str to dict\n",
    "df['sentence'] = df['sentence'].apply(lambda x: {**x, 'it': ast.literal_eval(x['it'])} if isinstance(x['it'], str) else x) # there were problem with it dict\n",
    "df.head()"
   ]
  },
  {
   "cell_type": "code",
   "execution_count": 2,
   "id": "eb66ad8e-bbf6-446a-9eea-1869221c4846",
   "metadata": {
    "tags": []
   },
   "outputs": [],
   "source": [
    "from openai import OpenAI\n",
    "\n",
    "client = OpenAI(\n",
    "  organization='org-0M5WYRn7SjJnnKLbFybd5QUE'\n",
    ")"
   ]
  },
  {
   "cell_type": "code",
   "execution_count": 3,
   "id": "4adcf991-be45-43b6-af07-e0eff1dbc2e8",
   "metadata": {
    "tags": []
   },
   "outputs": [
    {
     "data": {
      "text/plain": [
       "{'eng': {'m': None, 'f': None, 'n': 'I am Afghan.'},\n",
       " 'fra': {'m': 'Je suis Afghan.', 'f': 'Je suis Afghane.', 'n': None},\n",
       " 'spa': {'m': 'Soy afgano.', 'f': 'Soy afgana.', 'n': None},\n",
       " 'deu': {'m': 'Ich bin Afghane.', 'f': 'Ich bin  Afghanin.', 'n': None},\n",
       " 'it': {'m': 'Sono afghano.', 'f': 'Sono afghana.', 'n': None}}"
      ]
     },
     "execution_count": 3,
     "metadata": {},
     "output_type": "execute_result"
    }
   ],
   "source": [
    "df.iloc[0]['sentence']"
   ]
  },
  {
   "cell_type": "code",
   "execution_count": 4,
   "id": "055da317-1f68-4dcc-b029-02169ad28efe",
   "metadata": {
    "tags": []
   },
   "outputs": [
    {
     "data": {
      "text/plain": [
       "['I am Afghan.',\n",
       " 'I am Angolan.',\n",
       " 'I am Albanian.',\n",
       " 'I am Andorran.',\n",
       " 'I am Emirati.',\n",
       " 'I am Argentine.',\n",
       " 'I am Armenian.',\n",
       " 'I am Antiguan.',\n",
       " 'I am Australian.',\n",
       " 'I am Austrian.']"
      ]
     },
     "execution_count": 4,
     "metadata": {},
     "output_type": "execute_result"
    }
   ],
   "source": [
    "source_sentence = [x.get('eng', {}).get('n') for x in df['sentence']]\n",
    "source_sentence[:10]"
   ]
  },
  {
   "cell_type": "markdown",
   "id": "8e06537f-7acc-401c-b578-2a27ebcb6d35",
   "metadata": {},
   "source": [
    "## Manual Test1 (example prompt/4o)"
   ]
  },
  {
   "cell_type": "code",
   "execution_count": 6,
   "id": "5b1b9106-b116-4e06-85ec-f8a0d534fefb",
   "metadata": {
    "tags": []
   },
   "outputs": [
    {
     "data": {
      "text/plain": [
       "'Je suis Afghan.'"
      ]
     },
     "execution_count": 6,
     "metadata": {},
     "output_type": "execute_result"
    }
   ],
   "source": [
    "from openai import OpenAI\n",
    "client = OpenAI()\n",
    "\n",
    "response = client.chat.completions.create(\n",
    "  model=\"gpt-4o\",\n",
    "  messages=[\n",
    "    {\n",
    "      \"role\": \"system\",\n",
    "      \"content\": \"You will be provided with a sentence in English, and your task is to translate it into French.\"\n",
    "    },\n",
    "    {\n",
    "      \"role\": \"user\",\n",
    "      \"content\": \"I am Afghan.\"\n",
    "    }\n",
    "  ],\n",
    "  temperature=0.2,\n",
    "  max_tokens=256,\n",
    "  top_p=1\n",
    ")\n",
    "\n",
    "response.choices[0].message.content"
   ]
  },
  {
   "cell_type": "code",
   "execution_count": 34,
   "id": "721deb58-13af-4776-beab-7c70cee68591",
   "metadata": {
    "tags": []
   },
   "outputs": [
    {
     "data": {
      "text/plain": [
       "'Soy afgano.'"
      ]
     },
     "execution_count": 34,
     "metadata": {},
     "output_type": "execute_result"
    }
   ],
   "source": [
    "from openai import OpenAI\n",
    "client = OpenAI()\n",
    "\n",
    "response = client.chat.completions.create(\n",
    "  model=\"gpt-4o\",\n",
    "  messages=[\n",
    "    {\n",
    "      \"role\": \"system\",\n",
    "      \"content\": \"You will be provided with a sentence in English, and your task is to translate it into Spanish.\"\n",
    "    },\n",
    "    {\n",
    "      \"role\": \"user\",\n",
    "      \"content\": \"I am Afghan.\"\n",
    "    }\n",
    "  ],\n",
    "  temperature=0.2,\n",
    "  max_tokens=256,\n",
    "  top_p=1\n",
    ")\n",
    "\n",
    "response.choices[0].message.content"
   ]
  },
  {
   "cell_type": "code",
   "execution_count": 35,
   "id": "d998375a-067f-40ea-a7d7-5ef5e1922fc5",
   "metadata": {
    "tags": []
   },
   "outputs": [
    {
     "data": {
      "text/plain": [
       "'Sono afgano.'"
      ]
     },
     "execution_count": 35,
     "metadata": {},
     "output_type": "execute_result"
    }
   ],
   "source": [
    "from openai import OpenAI\n",
    "client = OpenAI()\n",
    "\n",
    "response = client.chat.completions.create(\n",
    "  model=\"gpt-4o\",\n",
    "  messages=[\n",
    "    {\n",
    "      \"role\": \"system\",\n",
    "      \"content\": \"You will be provided with a sentence in English, and your task is to translate it into Italian.\"\n",
    "    },\n",
    "    {\n",
    "      \"role\": \"user\",\n",
    "      \"content\": \"I am Afghan.\"\n",
    "    }\n",
    "  ],\n",
    "  temperature=0.2,\n",
    "  max_tokens=256,\n",
    "  top_p=1\n",
    ")\n",
    "\n",
    "response.choices[0].message.content"
   ]
  },
  {
   "cell_type": "code",
   "execution_count": 36,
   "id": "360fbda1-b4b2-44a6-99bf-a68c1ca61ad0",
   "metadata": {
    "tags": []
   },
   "outputs": [
    {
     "data": {
      "text/plain": [
       "'Ich bin Afghane.'"
      ]
     },
     "execution_count": 36,
     "metadata": {},
     "output_type": "execute_result"
    }
   ],
   "source": [
    "from openai import OpenAI\n",
    "client = OpenAI()\n",
    "\n",
    "response = client.chat.completions.create(\n",
    "  model=\"gpt-4o\",\n",
    "  messages=[\n",
    "    {\n",
    "      \"role\": \"system\",\n",
    "      \"content\": \"You will be provided with a sentence in English, and your task is to translate it into German.\"\n",
    "    },\n",
    "    {\n",
    "      \"role\": \"user\",\n",
    "      \"content\": \"I am Afghan.\"\n",
    "    }\n",
    "  ],\n",
    "  temperature=0.2,\n",
    "  max_tokens=256,\n",
    "  top_p=1\n",
    ")\n",
    "\n",
    "response.choices[0].message.content"
   ]
  },
  {
   "cell_type": "markdown",
   "id": "b0413d3f-a3e1-4d8b-b652-deb572d81efa",
   "metadata": {},
   "source": [
    "**Result**: gpt-4o does not provide female variant for the above prompt"
   ]
  },
  {
   "cell_type": "markdown",
   "id": "b77ffe30-0134-4d64-a933-beb746af794b",
   "metadata": {},
   "source": [
    "## Manual Test2 (paper prompt:4o)"
   ]
  },
  {
   "cell_type": "code",
   "execution_count": 14,
   "id": "bd88ad6f-62f7-4ccc-b018-2a810b7298b9",
   "metadata": {
    "tags": []
   },
   "outputs": [
    {
     "data": {
      "text/plain": [
       "'The translation of \"I am Afghan\" into French is \"Je suis Afghan\" if you are male, or \"Je suis Afghane\" if you are female.'"
      ]
     },
     "execution_count": 14,
     "metadata": {},
     "output_type": "execute_result"
    }
   ],
   "source": [
    "response = client.chat.completions.create(\n",
    "  model=\"gpt-4o\",\n",
    "  messages=[\n",
    "    {\n",
    "      \"role\": \"system\",\n",
    "      \"content\": \"You are a helpful assistant\"\n",
    "    },\n",
    "    {\n",
    "      \"role\": \"user\",\n",
    "      \"content\": \"Can you translate the following sentence into French: I am Afghan.\"\n",
    "    }\n",
    "  ],\n",
    "  temperature=0.2,\n",
    "  max_tokens=100,\n",
    "  top_p=1\n",
    ")\n",
    "\n",
    "response.choices[0].message.content"
   ]
  },
  {
   "cell_type": "code",
   "execution_count": 20,
   "id": "84876b96-b84e-449d-a806-18f6d312be5c",
   "metadata": {
    "tags": []
   },
   "outputs": [
    {
     "data": {
      "text/plain": [
       "'The translation of \"I am Afghan\" into Spanish is \"Soy afgano\" if you are male, or \"Soy afgana\" if you are female.'"
      ]
     },
     "execution_count": 20,
     "metadata": {},
     "output_type": "execute_result"
    }
   ],
   "source": [
    "response = client.chat.completions.create(\n",
    "  model=\"gpt-4o\",\n",
    "  messages=[\n",
    "    {\n",
    "      \"role\": \"system\",\n",
    "      \"content\": \"You are a helpful assistant\"\n",
    "    },\n",
    "    {\n",
    "      \"role\": \"user\",\n",
    "      \"content\": \"Can you translate the following sentence into Spanish: I am Afghan.\"\n",
    "    }\n",
    "  ],\n",
    "  temperature=0.2,\n",
    "  max_tokens=100,\n",
    "  top_p=1\n",
    ")\n",
    "\n",
    "response.choices[0].message.content"
   ]
  },
  {
   "cell_type": "code",
   "execution_count": 21,
   "id": "28de2759-0ea8-4011-84cd-3372a2191a1c",
   "metadata": {
    "tags": []
   },
   "outputs": [
    {
     "data": {
      "text/plain": [
       "'Certainly! The sentence \"I am Afghan\" can be translated into Italian as \"Sono afghano\" if you are male, or \"Sono afghana\" if you are female.'"
      ]
     },
     "execution_count": 21,
     "metadata": {},
     "output_type": "execute_result"
    }
   ],
   "source": [
    "response = client.chat.completions.create(\n",
    "  model=\"gpt-4o\",\n",
    "  messages=[\n",
    "    {\n",
    "      \"role\": \"system\",\n",
    "      \"content\": \"You are a helpful assistant\"\n",
    "    },\n",
    "    {\n",
    "      \"role\": \"user\",\n",
    "      \"content\": \"Can you translate the following sentence into Italian: I am Afghan.\"\n",
    "    }\n",
    "  ],\n",
    "  temperature=0.2,\n",
    "  max_tokens=100,\n",
    "  top_p=1\n",
    ")\n",
    "\n",
    "response.choices[0].message.content"
   ]
  },
  {
   "cell_type": "code",
   "execution_count": 22,
   "id": "565bc55e-9a7d-42cd-9664-061e6abc7821",
   "metadata": {
    "tags": []
   },
   "outputs": [
    {
     "data": {
      "text/plain": [
       "'The translation of \"I am Afghan\" into German is \"Ich bin Afghane\" for a male or \"Ich bin Afghanin\" for a female.'"
      ]
     },
     "execution_count": 22,
     "metadata": {},
     "output_type": "execute_result"
    }
   ],
   "source": [
    "response = client.chat.completions.create(\n",
    "  model=\"gpt-4o\",\n",
    "  messages=[\n",
    "    {\n",
    "      \"role\": \"system\",\n",
    "      \"content\": \"You are a helpful assistant\"\n",
    "    },\n",
    "    {\n",
    "      \"role\": \"user\",\n",
    "      \"content\": \"Can you translate the following sentence into German: I am Afghan.\"\n",
    "    }\n",
    "  ],\n",
    "  temperature=0.2,\n",
    "  max_tokens=100,\n",
    "  top_p=1\n",
    ")\n",
    "\n",
    "response.choices[0].message.content"
   ]
  },
  {
   "cell_type": "markdown",
   "id": "a9197870-9deb-4dfb-9ff0-b98fbda4bbb4",
   "metadata": {},
   "source": [
    "**Result**: gpt-4o provides both masculine and feminine variant after changing the prompt"
   ]
  },
  {
   "cell_type": "markdown",
   "id": "732ac9ab-936e-45da-b672-eccf59cf219f",
   "metadata": {},
   "source": [
    "## Manual Test3 (paper prompt: 3.5-turbo)"
   ]
  },
  {
   "cell_type": "code",
   "execution_count": 15,
   "id": "351f09e0-e59e-4cb1-8306-8d839bb26fab",
   "metadata": {
    "tags": []
   },
   "outputs": [
    {
     "data": {
      "text/plain": [
       "'Certainly! The translation of \"I am Afghan\" into French is \"Je suis Afghan.\"'"
      ]
     },
     "execution_count": 15,
     "metadata": {},
     "output_type": "execute_result"
    }
   ],
   "source": [
    "response = client.chat.completions.create(\n",
    "  model=\"gpt-3.5-turbo\",\n",
    "  messages=[\n",
    "    {\n",
    "      \"role\": \"system\",\n",
    "      \"content\": \"You are a helpful assistant\"\n",
    "    },\n",
    "    {\n",
    "      \"role\": \"user\",\n",
    "      \"content\": \"Can you translate the following sentence into French: I am Afghan.\"\n",
    "    }\n",
    "  ],\n",
    "  temperature=0.2,\n",
    "  max_tokens=100,\n",
    "  top_p=1\n",
    ")\n",
    "\n",
    "response.choices[0].message.content"
   ]
  },
  {
   "cell_type": "code",
   "execution_count": 23,
   "id": "5ba9d695-a778-4eb9-8072-60e04fef25ae",
   "metadata": {
    "tags": []
   },
   "outputs": [
    {
     "data": {
      "text/plain": [
       "'Sure! The translation of \"I am Afghan\" into Spanish is \"Soy afgano/a\".'"
      ]
     },
     "execution_count": 23,
     "metadata": {},
     "output_type": "execute_result"
    }
   ],
   "source": [
    "response = client.chat.completions.create(\n",
    "  model=\"gpt-3.5-turbo\",\n",
    "  messages=[\n",
    "    {\n",
    "      \"role\": \"system\",\n",
    "      \"content\": \"You are a helpful assistant\"\n",
    "    },\n",
    "    {\n",
    "      \"role\": \"user\",\n",
    "      \"content\": \"Can you translate the following sentence into Spanish: I am Afghan.\"\n",
    "    }\n",
    "  ],\n",
    "  temperature=0.2,\n",
    "  max_tokens=100,\n",
    "  top_p=1\n",
    ")\n",
    "\n",
    "response.choices[0].message.content"
   ]
  },
  {
   "cell_type": "code",
   "execution_count": 24,
   "id": "d0a7d631-0403-4f68-880a-9e9157bfeffe",
   "metadata": {
    "tags": []
   },
   "outputs": [
    {
     "data": {
      "text/plain": [
       "'Sure! The translation of \"I am Afghan\" into Italian is \"Sono afghano/a\" depending on the gender of the speaker.'"
      ]
     },
     "execution_count": 24,
     "metadata": {},
     "output_type": "execute_result"
    }
   ],
   "source": [
    "response = client.chat.completions.create(\n",
    "  model=\"gpt-3.5-turbo\",\n",
    "  messages=[\n",
    "    {\n",
    "      \"role\": \"system\",\n",
    "      \"content\": \"You are a helpful assistant\"\n",
    "    },\n",
    "    {\n",
    "      \"role\": \"user\",\n",
    "      \"content\": \"Can you translate the following sentence into Italian: I am Afghan.\"\n",
    "    }\n",
    "  ],\n",
    "  temperature=0.2,\n",
    "  max_tokens=100,\n",
    "  top_p=1\n",
    ")\n",
    "\n",
    "response.choices[0].message.content"
   ]
  },
  {
   "cell_type": "code",
   "execution_count": 25,
   "id": "3bbab3e1-760d-4364-8faa-335e6e331ed8",
   "metadata": {
    "tags": []
   },
   "outputs": [
    {
     "data": {
      "text/plain": [
       "'Sure! The translation of \"I am Afghan\" into German is \"Ich bin Afghane.\"'"
      ]
     },
     "execution_count": 25,
     "metadata": {},
     "output_type": "execute_result"
    }
   ],
   "source": [
    "response = client.chat.completions.create(\n",
    "  model=\"gpt-3.5-turbo\",\n",
    "  messages=[\n",
    "    {\n",
    "      \"role\": \"system\",\n",
    "      \"content\": \"You are a helpful assistant\"\n",
    "    },\n",
    "    {\n",
    "      \"role\": \"user\",\n",
    "      \"content\": \"Can you translate the following sentence into German: I am Afghan.\"\n",
    "    }\n",
    "  ],\n",
    "  temperature=0.2,\n",
    "  max_tokens=100,\n",
    "  top_p=1\n",
    ")\n",
    "\n",
    "response.choices[0].message.content"
   ]
  },
  {
   "cell_type": "markdown",
   "id": "b10d4c33-9369-49a7-9e95-0dc4459fe9ef",
   "metadata": {},
   "source": [
    "**Result**: gpt-3.5 provides different forms depending on target language. <br>\n",
    "**Hypothesis**: Because Spanish and Italian are high resourced languages"
   ]
  },
  {
   "cell_type": "markdown",
   "id": "05602a77-32dd-4789-b4ae-2378787b3d7c",
   "metadata": {
    "tags": []
   },
   "source": [
    "## Manual Test4 (paper prompt: 4)"
   ]
  },
  {
   "cell_type": "code",
   "execution_count": 18,
   "id": "d7618293-b6a0-4870-9969-45a71f3b7679",
   "metadata": {
    "tags": []
   },
   "outputs": [
    {
     "data": {
      "text/plain": [
       "'Je suis Afghan.'"
      ]
     },
     "execution_count": 18,
     "metadata": {},
     "output_type": "execute_result"
    }
   ],
   "source": [
    "response = client.chat.completions.create(\n",
    "  model=\"gpt-4\", \n",
    "  messages=[\n",
    "    {\n",
    "      \"role\": \"system\",\n",
    "      \"content\": \"You are a helpful assistant\"\n",
    "    },\n",
    "    {\n",
    "      \"role\": \"user\",\n",
    "      \"content\": \"Can you translate the following sentence into French: I am Afghan.\"\n",
    "    }\n",
    "  ],\n",
    "  temperature=0.2,\n",
    "  max_tokens=100,\n",
    "  top_p=1\n",
    ")\n",
    "\n",
    "response.choices[0].message.content"
   ]
  },
  {
   "cell_type": "code",
   "execution_count": 26,
   "id": "bf77ba69-e3e5-4f68-8921-58dd83e5c275",
   "metadata": {
    "tags": []
   },
   "outputs": [
    {
     "data": {
      "text/plain": [
       "'Soy afgano.'"
      ]
     },
     "execution_count": 26,
     "metadata": {},
     "output_type": "execute_result"
    }
   ],
   "source": [
    "response = client.chat.completions.create(\n",
    "  model=\"gpt-4\", \n",
    "  messages=[\n",
    "    {\n",
    "      \"role\": \"system\",\n",
    "      \"content\": \"You are a helpful assistant\"\n",
    "    },\n",
    "    {\n",
    "      \"role\": \"user\",\n",
    "      \"content\": \"Can you translate the following sentence into Spanish: I am Afghan.\"\n",
    "    }\n",
    "  ],\n",
    "  temperature=0.2,\n",
    "  max_tokens=100,\n",
    "  top_p=1\n",
    ")\n",
    "\n",
    "response.choices[0].message.content"
   ]
  },
  {
   "cell_type": "code",
   "execution_count": 31,
   "id": "4e856464-3e6a-4d6d-b859-0b0dc00c6544",
   "metadata": {
    "tags": []
   },
   "outputs": [
    {
     "data": {
      "text/plain": [
       "'Sono afghano.'"
      ]
     },
     "execution_count": 31,
     "metadata": {},
     "output_type": "execute_result"
    }
   ],
   "source": [
    "response = client.chat.completions.create(\n",
    "  model=\"gpt-4\", \n",
    "  messages=[\n",
    "    {\n",
    "      \"role\": \"system\",\n",
    "      \"content\": \"You are a helpful assistant\"\n",
    "    },\n",
    "    {\n",
    "      \"role\": \"user\",\n",
    "      \"content\": \"Can you translate the following sentence into Italian: I am Afghan.\"\n",
    "    }\n",
    "  ],\n",
    "  temperature=0.2,\n",
    "  max_tokens=100,\n",
    "  top_p=1\n",
    ")\n",
    "\n",
    "response.choices[0].message.content"
   ]
  },
  {
   "cell_type": "code",
   "execution_count": 33,
   "id": "a57ef6d7-3b89-4914-b30e-b6b81fa00a62",
   "metadata": {
    "tags": []
   },
   "outputs": [
    {
     "data": {
      "text/plain": [
       "'Ich bin Afghane.'"
      ]
     },
     "execution_count": 33,
     "metadata": {},
     "output_type": "execute_result"
    }
   ],
   "source": [
    "response = client.chat.completions.create(\n",
    "  model=\"gpt-4\", \n",
    "  messages=[\n",
    "    {\n",
    "      \"role\": \"system\",\n",
    "      \"content\": \"You are a helpful assistant\"\n",
    "    },\n",
    "    {\n",
    "      \"role\": \"user\",\n",
    "      \"content\": \"Can you translate the following sentence into German: I am Afghan.\"\n",
    "    }\n",
    "  ],\n",
    "  temperature=0.2,\n",
    "  max_tokens=100,\n",
    "  top_p=1\n",
    ")\n",
    "\n",
    "response.choices[0].message.content"
   ]
  },
  {
   "cell_type": "markdown",
   "id": "227af583-1e8e-48c0-9057-62af7c12e7a0",
   "metadata": {
    "tags": []
   },
   "source": [
    "**Result**: gpt-4 provides only masculine form of the sentence"
   ]
  },
  {
   "cell_type": "markdown",
   "id": "f6a4d52c-0812-454d-9fc9-b2d3eb0bdf9a",
   "metadata": {},
   "source": [
    "## Manual Test5 (paper prompt: 4-turbo)"
   ]
  },
  {
   "cell_type": "code",
   "execution_count": 37,
   "id": "fe6163cf-bb71-4db8-ae1c-d5251a923aa1",
   "metadata": {
    "tags": []
   },
   "outputs": [
    {
     "data": {
      "text/plain": [
       "'Je suis Afghan.'"
      ]
     },
     "execution_count": 37,
     "metadata": {},
     "output_type": "execute_result"
    }
   ],
   "source": [
    "response = client.chat.completions.create(\n",
    "  model=\"gpt-4-turbo\", \n",
    "  messages=[\n",
    "    {\n",
    "      \"role\": \"system\",\n",
    "      \"content\": \"You are a helpful assistant\"\n",
    "    },\n",
    "    {\n",
    "      \"role\": \"user\",\n",
    "      \"content\": \"Can you translate the following sentence into French: I am Afghan.\"\n",
    "    }\n",
    "  ],\n",
    "  temperature=0.2,\n",
    "  max_tokens=100,\n",
    "  top_p=1\n",
    ")\n",
    "\n",
    "response.choices[0].message.content"
   ]
  },
  {
   "cell_type": "code",
   "execution_count": 38,
   "id": "b7d9cbd0-c1ed-4aaa-8c81-bd954c1205fc",
   "metadata": {
    "tags": []
   },
   "outputs": [
    {
     "data": {
      "text/plain": [
       "'Soy afgano.'"
      ]
     },
     "execution_count": 38,
     "metadata": {},
     "output_type": "execute_result"
    }
   ],
   "source": [
    "response = client.chat.completions.create(\n",
    "  model=\"gpt-4-turbo\", \n",
    "  messages=[\n",
    "    {\n",
    "      \"role\": \"system\",\n",
    "      \"content\": \"You are a helpful assistant\"\n",
    "    },\n",
    "    {\n",
    "      \"role\": \"user\",\n",
    "      \"content\": \"Can you translate the following sentence into Spanish: I am Afghan.\"\n",
    "    }\n",
    "  ],\n",
    "  temperature=0.2,\n",
    "  max_tokens=100,\n",
    "  top_p=1\n",
    ")\n",
    "\n",
    "response.choices[0].message.content"
   ]
  },
  {
   "cell_type": "code",
   "execution_count": 39,
   "id": "10b3d344-83f2-434b-af03-8229208314f9",
   "metadata": {
    "tags": []
   },
   "outputs": [
    {
     "data": {
      "text/plain": [
       "'Sure, the translation of \"I am Afghan\" into Italian is \"Sono afghano\" if you are male, or \"Sono afghana\" if you are female.'"
      ]
     },
     "execution_count": 39,
     "metadata": {},
     "output_type": "execute_result"
    }
   ],
   "source": [
    "response = client.chat.completions.create(\n",
    "  model=\"gpt-4-turbo\", \n",
    "  messages=[\n",
    "    {\n",
    "      \"role\": \"system\",\n",
    "      \"content\": \"You are a helpful assistant\"\n",
    "    },\n",
    "    {\n",
    "      \"role\": \"user\",\n",
    "      \"content\": \"Can you translate the following sentence into Italian: I am Afghan.\"\n",
    "    }\n",
    "  ],\n",
    "  temperature=0.2,\n",
    "  max_tokens=100,\n",
    "  top_p=1\n",
    ")\n",
    "\n",
    "response.choices[0].message.content"
   ]
  },
  {
   "cell_type": "code",
   "execution_count": 40,
   "id": "38f0eb7a-2fb7-41bb-ba94-ef93c991cce8",
   "metadata": {
    "tags": []
   },
   "outputs": [
    {
     "data": {
      "text/plain": [
       "'Ich bin Afghane. (for a male)  \\nIch bin Afghanin. (for a female)'"
      ]
     },
     "execution_count": 40,
     "metadata": {},
     "output_type": "execute_result"
    }
   ],
   "source": [
    "response = client.chat.completions.create(\n",
    "  model=\"gpt-4-turbo\", \n",
    "  messages=[\n",
    "    {\n",
    "      \"role\": \"system\",\n",
    "      \"content\": \"You are a helpful assistant\"\n",
    "    },\n",
    "    {\n",
    "      \"role\": \"user\",\n",
    "      \"content\": \"Can you translate the following sentence into German: I am Afghan.\"\n",
    "    }\n",
    "  ],\n",
    "  temperature=0.2,\n",
    "  max_tokens=100,\n",
    "  top_p=1\n",
    ")\n",
    "\n",
    "response.choices[0].message.content"
   ]
  },
  {
   "cell_type": "markdown",
   "id": "57b3dc06-8ff2-4081-8200-846792609c69",
   "metadata": {
    "tags": []
   },
   "source": [
    "**Result**: Depending on the target language the model gpt-4-turbo provide both variants or only masculine"
   ]
  },
  {
   "cell_type": "markdown",
   "id": "f0707282-4286-4760-9911-c57090fa9a03",
   "metadata": {},
   "source": [
    "## Manual Test6 (paper prompt: 4o-mini)"
   ]
  },
  {
   "cell_type": "code",
   "execution_count": 43,
   "id": "894e9c3b-090e-458f-8c54-0d8ac373facf",
   "metadata": {
    "tags": []
   },
   "outputs": [
    {
     "data": {
      "text/plain": [
       "'The translation of \"I am Afghan\" into French is \"Je suis afghan.\"'"
      ]
     },
     "execution_count": 43,
     "metadata": {},
     "output_type": "execute_result"
    }
   ],
   "source": [
    "response = client.chat.completions.create(\n",
    "  model=\"gpt-4o-mini\", \n",
    "  messages=[\n",
    "    {\n",
    "      \"role\": \"system\",\n",
    "      \"content\": \"You are a helpful assistant\"\n",
    "    },\n",
    "    {\n",
    "      \"role\": \"user\",\n",
    "      \"content\": \"Can you translate the following sentence into French: I am Afghan.\"\n",
    "    }\n",
    "  ],\n",
    "  temperature=0.2,\n",
    "  max_tokens=100,\n",
    "  top_p=1\n",
    ")\n",
    "\n",
    "response.choices[0].message.content"
   ]
  },
  {
   "cell_type": "code",
   "execution_count": 44,
   "id": "bde6287c-3f0f-4def-b8c0-f92ba900d8fa",
   "metadata": {
    "tags": []
   },
   "outputs": [
    {
     "data": {
      "text/plain": [
       "'The translation of \"I am Afghan\" into Spanish is \"Soy afgano\" (if you are male) or \"Soy afgana\" (if you are female).'"
      ]
     },
     "execution_count": 44,
     "metadata": {},
     "output_type": "execute_result"
    }
   ],
   "source": [
    "response = client.chat.completions.create(\n",
    "  model=\"gpt-4o-mini\", \n",
    "  messages=[\n",
    "    {\n",
    "      \"role\": \"system\",\n",
    "      \"content\": \"You are a helpful assistant\"\n",
    "    },\n",
    "    {\n",
    "      \"role\": \"user\",\n",
    "      \"content\": \"Can you translate the following sentence into Spanish: I am Afghan.\"\n",
    "    }\n",
    "  ],\n",
    "  temperature=0.2,\n",
    "  max_tokens=100,\n",
    "  top_p=1\n",
    ")\n",
    "\n",
    "response.choices[0].message.content"
   ]
  },
  {
   "cell_type": "code",
   "execution_count": 45,
   "id": "4edffb7f-887e-4c71-9818-05c290791b6f",
   "metadata": {
    "tags": []
   },
   "outputs": [
    {
     "data": {
      "text/plain": [
       "'The translation of \"I am Afghan\" into Italian is \"Sono afghano\" if you are male, or \"Sono afghana\" if you are female.'"
      ]
     },
     "execution_count": 45,
     "metadata": {},
     "output_type": "execute_result"
    }
   ],
   "source": [
    "response = client.chat.completions.create(\n",
    "  model=\"gpt-4o-mini\", \n",
    "  messages=[\n",
    "    {\n",
    "      \"role\": \"system\",\n",
    "      \"content\": \"You are a helpful assistant\"\n",
    "    },\n",
    "    {\n",
    "      \"role\": \"user\",\n",
    "      \"content\": \"Can you translate the following sentence into Italian: I am Afghan.\"\n",
    "    }\n",
    "  ],\n",
    "  temperature=0.2,\n",
    "  max_tokens=100,\n",
    "  top_p=1\n",
    ")\n",
    "\n",
    "response.choices[0].message.content"
   ]
  },
  {
   "cell_type": "code",
   "execution_count": 46,
   "id": "571656aa-a15e-4004-945d-fc6744b203d5",
   "metadata": {
    "tags": []
   },
   "outputs": [
    {
     "data": {
      "text/plain": [
       "'The translation of \"I am Afghan\" into German is \"Ich bin Afghane\" (if you are male) or \"Ich bin Afghanin\" (if you are female).'"
      ]
     },
     "execution_count": 46,
     "metadata": {},
     "output_type": "execute_result"
    }
   ],
   "source": [
    "response = client.chat.completions.create(\n",
    "  model=\"gpt-4o-mini\", \n",
    "  messages=[\n",
    "    {\n",
    "      \"role\": \"system\",\n",
    "      \"content\": \"You are a helpful assistant\"\n",
    "    },\n",
    "    {\n",
    "      \"role\": \"user\",\n",
    "      \"content\": \"Can you translate the following sentence into German: I am Afghan.\"\n",
    "    }\n",
    "  ],\n",
    "  temperature=0.2,\n",
    "  max_tokens=100,\n",
    "  top_p=1\n",
    ")\n",
    "\n",
    "response.choices[0].message.content"
   ]
  },
  {
   "cell_type": "markdown",
   "id": "c5cb6907-0fc1-46b9-8d39-cb5d00f16c44",
   "metadata": {},
   "source": [
    "| **Model**       | **Output Variants**                                                                 |\n",
    "|------------------|------------------------------------------------------------------------------------|\n",
    "| **GPT-4o**       | Provides BOTH masculine and feminine variants after changing the prompt.           |\n",
    "| **GPT-3.5**      | DEPENDING on the target language, provides both variants or only the masculine one.|\n",
    "| **GPT-4**        | Provides ONLY the masculine form of the sentence.                                  |\n",
    "| **GPT-4-turbo**  | DEPENDING on the target language, provides both variants or only the masculine one. |\n",
    "| **GPT-4o-mini**  | DEPENDING on the target language, provides both variants or only the masculine one. |\n"
   ]
  },
  {
   "cell_type": "markdown",
   "id": "4a1a5d47-27ac-4712-b0c8-188da8aa0f7c",
   "metadata": {},
   "source": [
    "# Experiment"
   ]
  },
  {
   "cell_type": "markdown",
   "id": "759e1c20-cb18-4180-a6e9-59fe27c1705b",
   "metadata": {},
   "source": [
    "## GPT-4o"
   ]
  },
  {
   "cell_type": "markdown",
   "id": "26386be2-b326-47ba-a72f-a6f191a81fd0",
   "metadata": {},
   "source": [
    "### French"
   ]
  },
  {
   "cell_type": "code",
   "execution_count": 47,
   "id": "e0957d31-8b2a-4ede-9b55-281081eb552a",
   "metadata": {
    "tags": []
   },
   "outputs": [
    {
     "data": {
      "text/plain": [
       "193"
      ]
     },
     "execution_count": 47,
     "metadata": {},
     "output_type": "execute_result"
    }
   ],
   "source": [
    "len(source_sentence) # check size"
   ]
  },
  {
   "cell_type": "code",
   "execution_count": 4,
   "id": "71dd1508-cca7-436d-8cfd-fb0423887338",
   "metadata": {
    "tags": []
   },
   "outputs": [],
   "source": [
    "def experiment(model, language, sentence):\n",
    "    '''\n",
    "    Translates a given sentence into the specified target language using the specified model.\n",
    "\n",
    "    Parameters:\n",
    "    - model (str): The name of the model to use (e.g., 'gpt-4', 'gpt-4-turbo').\n",
    "    - language (str): The target language for the translation.\n",
    "    - sentence (str): The sentence to be translated.\n",
    "\n",
    "    Returns:\n",
    "    - str: The translated sentence generated by the model.\n",
    "    '''\n",
    "    \n",
    "    response = client.chat.completions.create(\n",
    "      model=model, #insert model\n",
    "      messages=[\n",
    "        {\n",
    "          \"role\": \"system\",\n",
    "          \"content\": \"You are a helpful assistant\"\n",
    "        },\n",
    "        {\n",
    "          \"role\": \"user\",\n",
    "          \"content\": f\"Can you translate the following sentence into {language}: {sentence}\"\n",
    "        }\n",
    "      ],\n",
    "      temperature=0.2,\n",
    "      max_tokens=100,\n",
    "      top_p=1\n",
    "    )\n",
    "    # print(sentence, ': Done')\n",
    "    return response.choices[0].message.content"
   ]
  },
  {
   "cell_type": "code",
   "execution_count": 49,
   "id": "b78465d1-44cc-44df-8ef3-f1f6d5786b05",
   "metadata": {
    "tags": []
   },
   "outputs": [
    {
     "data": {
      "text/html": [
       "<div>\n",
       "<style scoped>\n",
       "    .dataframe tbody tr th:only-of-type {\n",
       "        vertical-align: middle;\n",
       "    }\n",
       "\n",
       "    .dataframe tbody tr th {\n",
       "        vertical-align: top;\n",
       "    }\n",
       "\n",
       "    .dataframe thead th {\n",
       "        text-align: right;\n",
       "    }\n",
       "</style>\n",
       "<table border=\"1\" class=\"dataframe\">\n",
       "  <thead>\n",
       "    <tr style=\"text-align: right;\">\n",
       "      <th></th>\n",
       "      <th>eng</th>\n",
       "      <th>fra_m</th>\n",
       "      <th>fra_f</th>\n",
       "      <th>fra_n</th>\n",
       "      <th>output</th>\n",
       "    </tr>\n",
       "  </thead>\n",
       "  <tbody>\n",
       "    <tr>\n",
       "      <th>0</th>\n",
       "      <td>I am Afghan.</td>\n",
       "      <td>Je suis Afghan.</td>\n",
       "      <td>Je suis Afghane.</td>\n",
       "      <td>None</td>\n",
       "      <td>NaN</td>\n",
       "    </tr>\n",
       "    <tr>\n",
       "      <th>1</th>\n",
       "      <td>I am Angolan.</td>\n",
       "      <td>Je suis Angolais.</td>\n",
       "      <td>Je suis Angolaise.</td>\n",
       "      <td>None</td>\n",
       "      <td>NaN</td>\n",
       "    </tr>\n",
       "    <tr>\n",
       "      <th>2</th>\n",
       "      <td>I am Albanian.</td>\n",
       "      <td>Je suis Albanais.</td>\n",
       "      <td>Je suis Albanaise.</td>\n",
       "      <td>None</td>\n",
       "      <td>NaN</td>\n",
       "    </tr>\n",
       "    <tr>\n",
       "      <th>3</th>\n",
       "      <td>I am Andorran.</td>\n",
       "      <td>Je suis Andorran.</td>\n",
       "      <td>Je suis Andorrane.</td>\n",
       "      <td>None</td>\n",
       "      <td>NaN</td>\n",
       "    </tr>\n",
       "    <tr>\n",
       "      <th>4</th>\n",
       "      <td>I am Emirati.</td>\n",
       "      <td>Je suis Emirien.</td>\n",
       "      <td>Je suis Emirienne.</td>\n",
       "      <td>None</td>\n",
       "      <td>NaN</td>\n",
       "    </tr>\n",
       "    <tr>\n",
       "      <th>...</th>\n",
       "      <td>...</td>\n",
       "      <td>...</td>\n",
       "      <td>...</td>\n",
       "      <td>...</td>\n",
       "      <td>...</td>\n",
       "    </tr>\n",
       "    <tr>\n",
       "      <th>188</th>\n",
       "      <td>I am Samoan.</td>\n",
       "      <td>Je suis Samoan.</td>\n",
       "      <td>Je suis Samoane.</td>\n",
       "      <td>None</td>\n",
       "      <td>NaN</td>\n",
       "    </tr>\n",
       "    <tr>\n",
       "      <th>189</th>\n",
       "      <td>I am Yemeni.</td>\n",
       "      <td>Je suis Yéménite.</td>\n",
       "      <td>Je suis Yéménite.</td>\n",
       "      <td>None</td>\n",
       "      <td>NaN</td>\n",
       "    </tr>\n",
       "    <tr>\n",
       "      <th>190</th>\n",
       "      <td>I am South African.</td>\n",
       "      <td>Je suis Sud-africain.</td>\n",
       "      <td>Je suis Sud-africaine.</td>\n",
       "      <td>None</td>\n",
       "      <td>NaN</td>\n",
       "    </tr>\n",
       "    <tr>\n",
       "      <th>191</th>\n",
       "      <td>I am Zambian.</td>\n",
       "      <td>Je suis Zambien.</td>\n",
       "      <td>Je suis Zambienne.</td>\n",
       "      <td>None</td>\n",
       "      <td>NaN</td>\n",
       "    </tr>\n",
       "    <tr>\n",
       "      <th>192</th>\n",
       "      <td>I am Zimbabwean.</td>\n",
       "      <td>Je suis Zimbabwéen.</td>\n",
       "      <td>Je suis Zimbabwéenne.</td>\n",
       "      <td>None</td>\n",
       "      <td>NaN</td>\n",
       "    </tr>\n",
       "  </tbody>\n",
       "</table>\n",
       "<p>193 rows × 5 columns</p>\n",
       "</div>"
      ],
      "text/plain": [
       "                     eng                  fra_m                   fra_f fra_n  \\\n",
       "0           I am Afghan.        Je suis Afghan.        Je suis Afghane.  None   \n",
       "1          I am Angolan.      Je suis Angolais.      Je suis Angolaise.  None   \n",
       "2         I am Albanian.      Je suis Albanais.      Je suis Albanaise.  None   \n",
       "3         I am Andorran.      Je suis Andorran.      Je suis Andorrane.  None   \n",
       "4          I am Emirati.       Je suis Emirien.      Je suis Emirienne.  None   \n",
       "..                   ...                    ...                     ...   ...   \n",
       "188         I am Samoan.        Je suis Samoan.        Je suis Samoane.  None   \n",
       "189         I am Yemeni.      Je suis Yéménite.       Je suis Yéménite.  None   \n",
       "190  I am South African.  Je suis Sud-africain.  Je suis Sud-africaine.  None   \n",
       "191        I am Zambian.       Je suis Zambien.      Je suis Zambienne.  None   \n",
       "192     I am Zimbabwean.    Je suis Zimbabwéen.   Je suis Zimbabwéenne.  None   \n",
       "\n",
       "    output  \n",
       "0      NaN  \n",
       "1      NaN  \n",
       "2      NaN  \n",
       "3      NaN  \n",
       "4      NaN  \n",
       "..     ...  \n",
       "188    NaN  \n",
       "189    NaN  \n",
       "190    NaN  \n",
       "191    NaN  \n",
       "192    NaN  \n",
       "\n",
       "[193 rows x 5 columns]"
      ]
     },
     "execution_count": 49,
     "metadata": {},
     "output_type": "execute_result"
    }
   ],
   "source": [
    "df_exp = pd.DataFrame(columns=['eng', 'fra_m', 'fra_f', 'fra_n', 'output'])\n",
    "df_exp['eng'] = df['sentence'].apply(lambda x: x.get('eng', {}).get('n'))\n",
    "df_exp['fra_m'] = df['sentence'].apply(lambda x: x.get('fra', {}).get('m'))\n",
    "df_exp['fra_f'] = df['sentence'].apply(lambda x: x.get('fra', {}).get('f'))\n",
    "df_exp['fra_n'] = df['sentence'].apply(lambda x: x.get('fra', {}).get('n'))\n",
    "df_exp"
   ]
  },
  {
   "cell_type": "code",
   "execution_count": 56,
   "id": "b062f358-203a-4caa-997b-138d4c5d6b5c",
   "metadata": {
    "tags": []
   },
   "outputs": [
    {
     "name": "stdout",
     "output_type": "stream",
     "text": [
      "I am Afghan. : Done\n",
      "I am Angolan. : Done\n",
      "I am Albanian. : Done\n",
      "I am Andorran. : Done\n",
      "I am Emirati. : Done\n",
      "I am Argentine. : Done\n",
      "I am Armenian. : Done\n",
      "I am Antiguan. : Done\n",
      "I am Australian. : Done\n",
      "I am Austrian. : Done\n",
      "I am Azerbaijani. : Done\n",
      "I am Burundian. : Done\n",
      "I am Belgian. : Done\n",
      "I am Beninese. : Done\n",
      "I am Burkinabe. : Done\n",
      "I am Bangladeshi. : Done\n",
      "I am Bulgarian. : Done\n",
      "I am Bahraini. : Done\n",
      "I am Bahamian. : Done\n",
      "I am Bosnian. : Done\n",
      "I am Belarusian. : Done\n",
      "I am Belizean. : Done\n",
      "I am Bolivian. : Done\n",
      "I am Brazilian. : Done\n",
      "I am Barbadian. : Done\n",
      "I am Bruneian. : Done\n",
      "I am Bhutanese. : Done\n",
      "I am Motswana. : Done\n",
      "I am Central African. : Done\n",
      "I am Canadian. : Done\n",
      "I am Swiss. : Done\n",
      "I am Chilean. : Done\n",
      "I am Chinese. : Done\n",
      "I am Ivorian. : Done\n",
      "I am Cameroonian. : Done\n",
      "I am Congolese. : Done\n",
      "I am Congolese. : Done\n",
      "I am Colombian. : Done\n",
      "I am Comoran. : Done\n",
      "I am Cape Verdian. : Done\n",
      "I am Costa Rican. : Done\n",
      "I am Cuban. : Done\n",
      "I am Cypriot. : Done\n",
      "I am Czech. : Done\n",
      "I am German. : Done\n",
      "I am Djibouti. : Done\n",
      "I am Dominican. : Done\n",
      "I am Danish. : Done\n",
      "I am Dominican. : Done\n",
      "I am Algerian. : Done\n",
      "I am Ecuadorean. : Done\n",
      "I am Egyptian. : Done\n",
      "I am Eritrean. : Done\n",
      "I am Spanish. : Done\n",
      "I am Estonian. : Done\n",
      "I am Ethiopian. : Done\n",
      "I am Finnish. : Done\n",
      "I am Fijian. : Done\n",
      "I am French. : Done\n",
      "I am Micronesian. : Done\n",
      "I am Gabonese. : Done\n",
      "I am British. : Done\n",
      "I am Georgian. : Done\n",
      "I am Ghanaian. : Done\n",
      "I am Guinean. : Done\n",
      "I am Gambian. : Done\n",
      "I am Guinea-Bissauan. : Done\n",
      "I am Equatorial Guinean. : Done\n",
      "I am Greek. : Done\n",
      "I am Grenadian. : Done\n",
      "I am Guatemalan. : Done\n",
      "I am Guyanese. : Done\n",
      "I am Honduran. : Done\n",
      "I am Croatian. : Done\n",
      "I am Haitian. : Done\n",
      "I am Hungarian. : Done\n",
      "I am Indonesian. : Done\n",
      "I am Indian. : Done\n",
      "I am Irish. : Done\n",
      "I am Iranian. : Done\n",
      "I am Iraqi. : Done\n",
      "I am Icelander. : Done\n",
      "I am Israeli. : Done\n",
      "I am Italian. : Done\n",
      "I am Jamaican. : Done\n",
      "I am Jordanian. : Done\n",
      "I am Japanese. : Done\n",
      "I am Kazakhstani. : Done\n",
      "I am Kenyan. : Done\n",
      "I am Kirghiz. : Done\n",
      "I am Cambodian. : Done\n",
      "I am I-Kiribati. : Done\n",
      "I am Kittitian or Nevisian. : Done\n",
      "I am South Korean. : Done\n",
      "I am Kuwaiti. : Done\n",
      "I am Laotian. : Done\n",
      "I am Lebanese. : Done\n",
      "I am Liberian. : Done\n",
      "I am Libyan. : Done\n",
      "I am Saint Lucian. : Done\n",
      "I am Liechtensteiner. : Done\n",
      "I am Sri Lankan. : Done\n",
      "I am Mosotho. : Done\n",
      "I am Lithuanian. : Done\n",
      "I am Luxembourger. : Done\n",
      "I am Latvian. : Done\n",
      "I am Moroccan. : Done\n",
      "I am Monegasque. : Done\n",
      "I am Moldovan. : Done\n",
      "I am Malagasy. : Done\n",
      "I am Maldivan. : Done\n",
      "I am Mexican. : Done\n",
      "I am Marshallese. : Done\n",
      "I am Macedonian. : Done\n",
      "I am Malian. : Done\n",
      "I am Maltese. : Done\n",
      "I am Burmese. : Done\n",
      "I am Montenegrin. : Done\n",
      "I am Mongolian. : Done\n",
      "I am Mozambican. : Done\n",
      "I am Mauritanian. : Done\n",
      "I am Mauritian. : Done\n",
      "I am Malawian. : Done\n",
      "I am Malaysian. : Done\n",
      "I am Namibian. : Done\n",
      "I am Nigerien. : Done\n",
      "I am Nigerian. : Done\n",
      "I am Nicaraguan. : Done\n",
      "I am Dutch. : Done\n",
      "I am Norwegian. : Done\n",
      "I am Nepalese. : Done\n",
      "I am Nauruan. : Done\n",
      "I am New Zealander. : Done\n",
      "I am Omani. : Done\n",
      "I am Pakistani. : Done\n",
      "I am Panamanian. : Done\n",
      "I am Peruvian. : Done\n",
      "I am Filipino. : Done\n",
      "I am Palauan. : Done\n",
      "I am Papua New Guinean. : Done\n",
      "I am Polish. : Done\n",
      "I am North Korean. : Done\n",
      "I am Portuguese. : Done\n",
      "I am Paraguayan. : Done\n",
      "I am Qatari. : Done\n",
      "I am Romanian. : Done\n",
      "I am Russian. : Done\n",
      "I am Rwandan. : Done\n",
      "I am Saudi Arabian. : Done\n",
      "I am Sudanese. : Done\n",
      "I am Senegalese. : Done\n",
      "I am Singaporean. : Done\n",
      "I am Solomon Islander. : Done\n",
      "I am Sierra Leonean. : Done\n",
      "I am Salvadoran. : Done\n",
      "I am Sammarinese. : Done\n",
      "I am Somali. : Done\n",
      "I am Serbian. : Done\n",
      "I am South Sudanese. : Done\n",
      "I am Sao Tomean. : Done\n",
      "I am Surinamer. : Done\n",
      "I am Slovak. : Done\n",
      "I am Slovene. : Done\n",
      "I am Swedish. : Done\n",
      "I am Swazi. : Done\n",
      "I am Seychellois. : Done\n",
      "I am Syrian. : Done\n",
      "I am Chadian. : Done\n",
      "I am Togolese. : Done\n",
      "I am Thai. : Done\n",
      "I am Tadzhik. : Done\n",
      "I am Turkmen. : Done\n",
      "I am East Timorese. : Done\n",
      "I am Tongan. : Done\n",
      "I am Trinidadian. : Done\n",
      "I am Tunisian. : Done\n",
      "I am Turkish. : Done\n",
      "I am Tuvaluan. : Done\n",
      "I am Tanzanian. : Done\n",
      "I am Ugandan. : Done\n",
      "I am Ukrainian. : Done\n",
      "I am Uruguayan. : Done\n",
      "I am American. : Done\n",
      "I am Uzbekistani. : Done\n",
      "I am Saint Vincentian. : Done\n",
      "I am Venezuelan. : Done\n",
      "I am Vietnamese. : Done\n",
      "I am Ni-Vanuatu. : Done\n",
      "I am Samoan. : Done\n",
      "I am Yemeni. : Done\n",
      "I am South African. : Done\n",
      "I am Zambian. : Done\n",
      "I am Zimbabwean. : Done\n"
     ]
    }
   ],
   "source": [
    "model = 'gpt-4o'\n",
    "language = 'French'\n",
    "df_exp['output'] = df_exp['eng'].apply(lambda sentence: experiment(model, language, sentence))"
   ]
  },
  {
   "cell_type": "code",
   "execution_count": 62,
   "id": "17a6ef90-07b2-49f2-b655-36e2d06c19b1",
   "metadata": {
    "tags": []
   },
   "outputs": [],
   "source": [
    "df_exp.to_csv('output/fra_4o_exp.csv', index=False)"
   ]
  },
  {
   "cell_type": "code",
   "execution_count": 65,
   "id": "8e95da30-f1b8-487c-8840-a94376bdbb97",
   "metadata": {
    "tags": []
   },
   "outputs": [
    {
     "data": {
      "text/html": [
       "<div>\n",
       "<style scoped>\n",
       "    .dataframe tbody tr th:only-of-type {\n",
       "        vertical-align: middle;\n",
       "    }\n",
       "\n",
       "    .dataframe tbody tr th {\n",
       "        vertical-align: top;\n",
       "    }\n",
       "\n",
       "    .dataframe thead th {\n",
       "        text-align: right;\n",
       "    }\n",
       "</style>\n",
       "<table border=\"1\" class=\"dataframe\">\n",
       "  <thead>\n",
       "    <tr style=\"text-align: right;\">\n",
       "      <th></th>\n",
       "      <th>eng</th>\n",
       "      <th>fra_m</th>\n",
       "      <th>fra_f</th>\n",
       "      <th>fra_n</th>\n",
       "      <th>output</th>\n",
       "    </tr>\n",
       "  </thead>\n",
       "  <tbody>\n",
       "    <tr>\n",
       "      <th>0</th>\n",
       "      <td>I am Afghan.</td>\n",
       "      <td>Je suis Afghan.</td>\n",
       "      <td>Je suis Afghane.</td>\n",
       "      <td>NaN</td>\n",
       "      <td>The translation of \"I am Afghan\" into French i...</td>\n",
       "    </tr>\n",
       "    <tr>\n",
       "      <th>1</th>\n",
       "      <td>I am Angolan.</td>\n",
       "      <td>Je suis Angolais.</td>\n",
       "      <td>Je suis Angolaise.</td>\n",
       "      <td>NaN</td>\n",
       "      <td>The translation of \"I am Angolan\" into French ...</td>\n",
       "    </tr>\n",
       "    <tr>\n",
       "      <th>2</th>\n",
       "      <td>I am Albanian.</td>\n",
       "      <td>Je suis Albanais.</td>\n",
       "      <td>Je suis Albanaise.</td>\n",
       "      <td>NaN</td>\n",
       "      <td>The translation of \"I am Albanian\" into French...</td>\n",
       "    </tr>\n",
       "    <tr>\n",
       "      <th>3</th>\n",
       "      <td>I am Andorran.</td>\n",
       "      <td>Je suis Andorran.</td>\n",
       "      <td>Je suis Andorrane.</td>\n",
       "      <td>NaN</td>\n",
       "      <td>The translation of \"I am Andorran\" into French...</td>\n",
       "    </tr>\n",
       "    <tr>\n",
       "      <th>4</th>\n",
       "      <td>I am Emirati.</td>\n",
       "      <td>Je suis Emirien.</td>\n",
       "      <td>Je suis Emirienne.</td>\n",
       "      <td>NaN</td>\n",
       "      <td>The translation of \"I am Emirati\" into French ...</td>\n",
       "    </tr>\n",
       "    <tr>\n",
       "      <th>...</th>\n",
       "      <td>...</td>\n",
       "      <td>...</td>\n",
       "      <td>...</td>\n",
       "      <td>...</td>\n",
       "      <td>...</td>\n",
       "    </tr>\n",
       "    <tr>\n",
       "      <th>188</th>\n",
       "      <td>I am Samoan.</td>\n",
       "      <td>Je suis Samoan.</td>\n",
       "      <td>Je suis Samoane.</td>\n",
       "      <td>NaN</td>\n",
       "      <td>The translation of \"I am Samoan\" into French i...</td>\n",
       "    </tr>\n",
       "    <tr>\n",
       "      <th>189</th>\n",
       "      <td>I am Yemeni.</td>\n",
       "      <td>Je suis Yéménite.</td>\n",
       "      <td>Je suis Yéménite.</td>\n",
       "      <td>NaN</td>\n",
       "      <td>The translation of \"I am Yemeni\" into French i...</td>\n",
       "    </tr>\n",
       "    <tr>\n",
       "      <th>190</th>\n",
       "      <td>I am South African.</td>\n",
       "      <td>Je suis Sud-africain.</td>\n",
       "      <td>Je suis Sud-africaine.</td>\n",
       "      <td>NaN</td>\n",
       "      <td>The sentence \"I am South African\" can be trans...</td>\n",
       "    </tr>\n",
       "    <tr>\n",
       "      <th>191</th>\n",
       "      <td>I am Zambian.</td>\n",
       "      <td>Je suis Zambien.</td>\n",
       "      <td>Je suis Zambienne.</td>\n",
       "      <td>NaN</td>\n",
       "      <td>The translation of \"I am Zambian\" into French ...</td>\n",
       "    </tr>\n",
       "    <tr>\n",
       "      <th>192</th>\n",
       "      <td>I am Zimbabwean.</td>\n",
       "      <td>Je suis Zimbabwéen.</td>\n",
       "      <td>Je suis Zimbabwéenne.</td>\n",
       "      <td>NaN</td>\n",
       "      <td>The translation of \"I am Zimbabwean\" into Fren...</td>\n",
       "    </tr>\n",
       "  </tbody>\n",
       "</table>\n",
       "<p>193 rows × 5 columns</p>\n",
       "</div>"
      ],
      "text/plain": [
       "                     eng                  fra_m                   fra_f  \\\n",
       "0           I am Afghan.        Je suis Afghan.        Je suis Afghane.   \n",
       "1          I am Angolan.      Je suis Angolais.      Je suis Angolaise.   \n",
       "2         I am Albanian.      Je suis Albanais.      Je suis Albanaise.   \n",
       "3         I am Andorran.      Je suis Andorran.      Je suis Andorrane.   \n",
       "4          I am Emirati.       Je suis Emirien.      Je suis Emirienne.   \n",
       "..                   ...                    ...                     ...   \n",
       "188         I am Samoan.        Je suis Samoan.        Je suis Samoane.   \n",
       "189         I am Yemeni.      Je suis Yéménite.       Je suis Yéménite.   \n",
       "190  I am South African.  Je suis Sud-africain.  Je suis Sud-africaine.   \n",
       "191        I am Zambian.       Je suis Zambien.      Je suis Zambienne.   \n",
       "192     I am Zimbabwean.    Je suis Zimbabwéen.   Je suis Zimbabwéenne.   \n",
       "\n",
       "     fra_n                                             output  \n",
       "0      NaN  The translation of \"I am Afghan\" into French i...  \n",
       "1      NaN  The translation of \"I am Angolan\" into French ...  \n",
       "2      NaN  The translation of \"I am Albanian\" into French...  \n",
       "3      NaN  The translation of \"I am Andorran\" into French...  \n",
       "4      NaN  The translation of \"I am Emirati\" into French ...  \n",
       "..     ...                                                ...  \n",
       "188    NaN  The translation of \"I am Samoan\" into French i...  \n",
       "189    NaN  The translation of \"I am Yemeni\" into French i...  \n",
       "190    NaN  The sentence \"I am South African\" can be trans...  \n",
       "191    NaN  The translation of \"I am Zambian\" into French ...  \n",
       "192    NaN  The translation of \"I am Zimbabwean\" into Fren...  \n",
       "\n",
       "[193 rows x 5 columns]"
      ]
     },
     "execution_count": 65,
     "metadata": {},
     "output_type": "execute_result"
    }
   ],
   "source": [
    "df_exp = pd.read_csv('output/fra_4o_exp.csv')\n",
    "df_exp"
   ]
  },
  {
   "cell_type": "markdown",
   "id": "7128d6dd-2b9b-45c6-8cfd-12108d6100d3",
   "metadata": {},
   "source": [
    "### Spanish"
   ]
  },
  {
   "cell_type": "code",
   "execution_count": 67,
   "id": "7e3fbfa4-6c19-4105-8794-b78959468a19",
   "metadata": {
    "tags": []
   },
   "outputs": [
    {
     "name": "stdout",
     "output_type": "stream",
     "text": [
      "I am Afghan. : Done\n",
      "I am Angolan. : Done\n",
      "I am Albanian. : Done\n",
      "I am Andorran. : Done\n",
      "I am Emirati. : Done\n",
      "I am Argentine. : Done\n",
      "I am Armenian. : Done\n",
      "I am Antiguan. : Done\n",
      "I am Australian. : Done\n",
      "I am Austrian. : Done\n",
      "I am Azerbaijani. : Done\n",
      "I am Burundian. : Done\n",
      "I am Belgian. : Done\n",
      "I am Beninese. : Done\n",
      "I am Burkinabe. : Done\n",
      "I am Bangladeshi. : Done\n",
      "I am Bulgarian. : Done\n",
      "I am Bahraini. : Done\n",
      "I am Bahamian. : Done\n",
      "I am Bosnian. : Done\n",
      "I am Belarusian. : Done\n",
      "I am Belizean. : Done\n",
      "I am Bolivian. : Done\n",
      "I am Brazilian. : Done\n",
      "I am Barbadian. : Done\n",
      "I am Bruneian. : Done\n",
      "I am Bhutanese. : Done\n",
      "I am Motswana. : Done\n",
      "I am Central African. : Done\n",
      "I am Canadian. : Done\n",
      "I am Swiss. : Done\n",
      "I am Chilean. : Done\n",
      "I am Chinese. : Done\n",
      "I am Ivorian. : Done\n",
      "I am Cameroonian. : Done\n",
      "I am Congolese. : Done\n",
      "I am Congolese. : Done\n",
      "I am Colombian. : Done\n",
      "I am Comoran. : Done\n",
      "I am Cape Verdian. : Done\n",
      "I am Costa Rican. : Done\n",
      "I am Cuban. : Done\n",
      "I am Cypriot. : Done\n",
      "I am Czech. : Done\n",
      "I am German. : Done\n",
      "I am Djibouti. : Done\n",
      "I am Dominican. : Done\n",
      "I am Danish. : Done\n",
      "I am Dominican. : Done\n",
      "I am Algerian. : Done\n",
      "I am Ecuadorean. : Done\n",
      "I am Egyptian. : Done\n",
      "I am Eritrean. : Done\n",
      "I am Spanish. : Done\n",
      "I am Estonian. : Done\n",
      "I am Ethiopian. : Done\n",
      "I am Finnish. : Done\n",
      "I am Fijian. : Done\n",
      "I am French. : Done\n",
      "I am Micronesian. : Done\n",
      "I am Gabonese. : Done\n",
      "I am British. : Done\n",
      "I am Georgian. : Done\n",
      "I am Ghanaian. : Done\n",
      "I am Guinean. : Done\n",
      "I am Gambian. : Done\n",
      "I am Guinea-Bissauan. : Done\n",
      "I am Equatorial Guinean. : Done\n",
      "I am Greek. : Done\n",
      "I am Grenadian. : Done\n",
      "I am Guatemalan. : Done\n",
      "I am Guyanese. : Done\n",
      "I am Honduran. : Done\n",
      "I am Croatian. : Done\n",
      "I am Haitian. : Done\n",
      "I am Hungarian. : Done\n",
      "I am Indonesian. : Done\n",
      "I am Indian. : Done\n",
      "I am Irish. : Done\n",
      "I am Iranian. : Done\n",
      "I am Iraqi. : Done\n",
      "I am Icelander. : Done\n",
      "I am Israeli. : Done\n",
      "I am Italian. : Done\n",
      "I am Jamaican. : Done\n",
      "I am Jordanian. : Done\n",
      "I am Japanese. : Done\n",
      "I am Kazakhstani. : Done\n",
      "I am Kenyan. : Done\n",
      "I am Kirghiz. : Done\n",
      "I am Cambodian. : Done\n",
      "I am I-Kiribati. : Done\n",
      "I am Kittitian or Nevisian. : Done\n",
      "I am South Korean. : Done\n",
      "I am Kuwaiti. : Done\n",
      "I am Laotian. : Done\n",
      "I am Lebanese. : Done\n",
      "I am Liberian. : Done\n",
      "I am Libyan. : Done\n",
      "I am Saint Lucian. : Done\n",
      "I am Liechtensteiner. : Done\n",
      "I am Sri Lankan. : Done\n",
      "I am Mosotho. : Done\n",
      "I am Lithuanian. : Done\n",
      "I am Luxembourger. : Done\n",
      "I am Latvian. : Done\n",
      "I am Moroccan. : Done\n",
      "I am Monegasque. : Done\n",
      "I am Moldovan. : Done\n",
      "I am Malagasy. : Done\n",
      "I am Maldivan. : Done\n",
      "I am Mexican. : Done\n",
      "I am Marshallese. : Done\n",
      "I am Macedonian. : Done\n",
      "I am Malian. : Done\n",
      "I am Maltese. : Done\n",
      "I am Burmese. : Done\n",
      "I am Montenegrin. : Done\n",
      "I am Mongolian. : Done\n",
      "I am Mozambican. : Done\n",
      "I am Mauritanian. : Done\n",
      "I am Mauritian. : Done\n",
      "I am Malawian. : Done\n",
      "I am Malaysian. : Done\n",
      "I am Namibian. : Done\n",
      "I am Nigerien. : Done\n",
      "I am Nigerian. : Done\n",
      "I am Nicaraguan. : Done\n",
      "I am Dutch. : Done\n",
      "I am Norwegian. : Done\n",
      "I am Nepalese. : Done\n",
      "I am Nauruan. : Done\n",
      "I am New Zealander. : Done\n",
      "I am Omani. : Done\n",
      "I am Pakistani. : Done\n",
      "I am Panamanian. : Done\n",
      "I am Peruvian. : Done\n",
      "I am Filipino. : Done\n",
      "I am Palauan. : Done\n",
      "I am Papua New Guinean. : Done\n",
      "I am Polish. : Done\n",
      "I am North Korean. : Done\n",
      "I am Portuguese. : Done\n",
      "I am Paraguayan. : Done\n",
      "I am Qatari. : Done\n",
      "I am Romanian. : Done\n",
      "I am Russian. : Done\n",
      "I am Rwandan. : Done\n",
      "I am Saudi Arabian. : Done\n",
      "I am Sudanese. : Done\n",
      "I am Senegalese. : Done\n",
      "I am Singaporean. : Done\n",
      "I am Solomon Islander. : Done\n",
      "I am Sierra Leonean. : Done\n",
      "I am Salvadoran. : Done\n",
      "I am Sammarinese. : Done\n",
      "I am Somali. : Done\n",
      "I am Serbian. : Done\n",
      "I am South Sudanese. : Done\n",
      "I am Sao Tomean. : Done\n",
      "I am Surinamer. : Done\n",
      "I am Slovak. : Done\n",
      "I am Slovene. : Done\n",
      "I am Swedish. : Done\n",
      "I am Swazi. : Done\n",
      "I am Seychellois. : Done\n",
      "I am Syrian. : Done\n",
      "I am Chadian. : Done\n",
      "I am Togolese. : Done\n",
      "I am Thai. : Done\n",
      "I am Tadzhik. : Done\n",
      "I am Turkmen. : Done\n",
      "I am East Timorese. : Done\n",
      "I am Tongan. : Done\n",
      "I am Trinidadian. : Done\n",
      "I am Tunisian. : Done\n",
      "I am Turkish. : Done\n",
      "I am Tuvaluan. : Done\n",
      "I am Tanzanian. : Done\n",
      "I am Ugandan. : Done\n",
      "I am Ukrainian. : Done\n",
      "I am Uruguayan. : Done\n",
      "I am American. : Done\n",
      "I am Uzbekistani. : Done\n",
      "I am Saint Vincentian. : Done\n",
      "I am Venezuelan. : Done\n",
      "I am Vietnamese. : Done\n",
      "I am Ni-Vanuatu. : Done\n",
      "I am Samoan. : Done\n",
      "I am Yemeni. : Done\n",
      "I am South African. : Done\n",
      "I am Zambian. : Done\n",
      "I am Zimbabwean. : Done\n"
     ]
    }
   ],
   "source": [
    "df_exp = pd.DataFrame(columns=['eng', 'spa_m', 'spa_f', 'spa_n', 'output'])\n",
    "df_exp['eng'] = df['sentence'].apply(lambda x: x.get('eng', {}).get('n'))\n",
    "df_exp['spa_m'] = df['sentence'].apply(lambda x: x.get('spa', {}).get('m'))\n",
    "df_exp['spa_f'] = df['sentence'].apply(lambda x: x.get('spa', {}).get('f'))\n",
    "df_exp['spa_n'] = df['sentence'].apply(lambda x: x.get('spa', {}).get('n'))\n",
    "df_exp\n",
    "\n",
    "model = 'gpt-4o'\n",
    "language = 'Spanish'\n",
    "df_exp['output'] = df_exp['eng'].apply(lambda sentence: experiment(model, language, sentence))\n",
    "\n",
    "df_exp.to_csv('output/spa_4o_exp.csv', index=False)"
   ]
  },
  {
   "cell_type": "markdown",
   "id": "09eb8c54-f72d-4854-b40c-73de572ed139",
   "metadata": {},
   "source": [
    "### German"
   ]
  },
  {
   "cell_type": "code",
   "execution_count": 68,
   "id": "34fc0154-ae69-449c-9c46-3bfac7247f1b",
   "metadata": {
    "tags": []
   },
   "outputs": [
    {
     "name": "stdout",
     "output_type": "stream",
     "text": [
      "I am Afghan. : Done\n",
      "I am Angolan. : Done\n",
      "I am Albanian. : Done\n",
      "I am Andorran. : Done\n",
      "I am Emirati. : Done\n",
      "I am Argentine. : Done\n",
      "I am Armenian. : Done\n",
      "I am Antiguan. : Done\n",
      "I am Australian. : Done\n",
      "I am Austrian. : Done\n",
      "I am Azerbaijani. : Done\n",
      "I am Burundian. : Done\n",
      "I am Belgian. : Done\n",
      "I am Beninese. : Done\n",
      "I am Burkinabe. : Done\n",
      "I am Bangladeshi. : Done\n",
      "I am Bulgarian. : Done\n",
      "I am Bahraini. : Done\n",
      "I am Bahamian. : Done\n",
      "I am Bosnian. : Done\n",
      "I am Belarusian. : Done\n",
      "I am Belizean. : Done\n",
      "I am Bolivian. : Done\n",
      "I am Brazilian. : Done\n",
      "I am Barbadian. : Done\n",
      "I am Bruneian. : Done\n",
      "I am Bhutanese. : Done\n",
      "I am Motswana. : Done\n",
      "I am Central African. : Done\n",
      "I am Canadian. : Done\n",
      "I am Swiss. : Done\n",
      "I am Chilean. : Done\n",
      "I am Chinese. : Done\n",
      "I am Ivorian. : Done\n",
      "I am Cameroonian. : Done\n",
      "I am Congolese. : Done\n",
      "I am Congolese. : Done\n",
      "I am Colombian. : Done\n",
      "I am Comoran. : Done\n",
      "I am Cape Verdian. : Done\n",
      "I am Costa Rican. : Done\n",
      "I am Cuban. : Done\n",
      "I am Cypriot. : Done\n",
      "I am Czech. : Done\n",
      "I am German. : Done\n",
      "I am Djibouti. : Done\n",
      "I am Dominican. : Done\n",
      "I am Danish. : Done\n",
      "I am Dominican. : Done\n",
      "I am Algerian. : Done\n",
      "I am Ecuadorean. : Done\n",
      "I am Egyptian. : Done\n",
      "I am Eritrean. : Done\n",
      "I am Spanish. : Done\n",
      "I am Estonian. : Done\n",
      "I am Ethiopian. : Done\n",
      "I am Finnish. : Done\n",
      "I am Fijian. : Done\n",
      "I am French. : Done\n",
      "I am Micronesian. : Done\n",
      "I am Gabonese. : Done\n",
      "I am British. : Done\n",
      "I am Georgian. : Done\n",
      "I am Ghanaian. : Done\n",
      "I am Guinean. : Done\n",
      "I am Gambian. : Done\n",
      "I am Guinea-Bissauan. : Done\n",
      "I am Equatorial Guinean. : Done\n",
      "I am Greek. : Done\n",
      "I am Grenadian. : Done\n",
      "I am Guatemalan. : Done\n",
      "I am Guyanese. : Done\n",
      "I am Honduran. : Done\n",
      "I am Croatian. : Done\n",
      "I am Haitian. : Done\n",
      "I am Hungarian. : Done\n",
      "I am Indonesian. : Done\n",
      "I am Indian. : Done\n",
      "I am Irish. : Done\n",
      "I am Iranian. : Done\n",
      "I am Iraqi. : Done\n",
      "I am Icelander. : Done\n",
      "I am Israeli. : Done\n",
      "I am Italian. : Done\n",
      "I am Jamaican. : Done\n",
      "I am Jordanian. : Done\n",
      "I am Japanese. : Done\n",
      "I am Kazakhstani. : Done\n",
      "I am Kenyan. : Done\n",
      "I am Kirghiz. : Done\n",
      "I am Cambodian. : Done\n",
      "I am I-Kiribati. : Done\n",
      "I am Kittitian or Nevisian. : Done\n",
      "I am South Korean. : Done\n",
      "I am Kuwaiti. : Done\n",
      "I am Laotian. : Done\n",
      "I am Lebanese. : Done\n",
      "I am Liberian. : Done\n",
      "I am Libyan. : Done\n",
      "I am Saint Lucian. : Done\n",
      "I am Liechtensteiner. : Done\n",
      "I am Sri Lankan. : Done\n",
      "I am Mosotho. : Done\n",
      "I am Lithuanian. : Done\n",
      "I am Luxembourger. : Done\n",
      "I am Latvian. : Done\n",
      "I am Moroccan. : Done\n",
      "I am Monegasque. : Done\n",
      "I am Moldovan. : Done\n",
      "I am Malagasy. : Done\n",
      "I am Maldivan. : Done\n",
      "I am Mexican. : Done\n",
      "I am Marshallese. : Done\n",
      "I am Macedonian. : Done\n",
      "I am Malian. : Done\n",
      "I am Maltese. : Done\n",
      "I am Burmese. : Done\n",
      "I am Montenegrin. : Done\n",
      "I am Mongolian. : Done\n",
      "I am Mozambican. : Done\n",
      "I am Mauritanian. : Done\n",
      "I am Mauritian. : Done\n",
      "I am Malawian. : Done\n",
      "I am Malaysian. : Done\n",
      "I am Namibian. : Done\n",
      "I am Nigerien. : Done\n",
      "I am Nigerian. : Done\n",
      "I am Nicaraguan. : Done\n",
      "I am Dutch. : Done\n",
      "I am Norwegian. : Done\n",
      "I am Nepalese. : Done\n",
      "I am Nauruan. : Done\n",
      "I am New Zealander. : Done\n",
      "I am Omani. : Done\n",
      "I am Pakistani. : Done\n",
      "I am Panamanian. : Done\n",
      "I am Peruvian. : Done\n",
      "I am Filipino. : Done\n",
      "I am Palauan. : Done\n",
      "I am Papua New Guinean. : Done\n",
      "I am Polish. : Done\n",
      "I am North Korean. : Done\n",
      "I am Portuguese. : Done\n",
      "I am Paraguayan. : Done\n",
      "I am Qatari. : Done\n",
      "I am Romanian. : Done\n",
      "I am Russian. : Done\n",
      "I am Rwandan. : Done\n",
      "I am Saudi Arabian. : Done\n",
      "I am Sudanese. : Done\n",
      "I am Senegalese. : Done\n",
      "I am Singaporean. : Done\n",
      "I am Solomon Islander. : Done\n",
      "I am Sierra Leonean. : Done\n",
      "I am Salvadoran. : Done\n",
      "I am Sammarinese. : Done\n",
      "I am Somali. : Done\n",
      "I am Serbian. : Done\n",
      "I am South Sudanese. : Done\n",
      "I am Sao Tomean. : Done\n",
      "I am Surinamer. : Done\n",
      "I am Slovak. : Done\n",
      "I am Slovene. : Done\n",
      "I am Swedish. : Done\n",
      "I am Swazi. : Done\n",
      "I am Seychellois. : Done\n",
      "I am Syrian. : Done\n",
      "I am Chadian. : Done\n",
      "I am Togolese. : Done\n",
      "I am Thai. : Done\n",
      "I am Tadzhik. : Done\n",
      "I am Turkmen. : Done\n",
      "I am East Timorese. : Done\n",
      "I am Tongan. : Done\n",
      "I am Trinidadian. : Done\n",
      "I am Tunisian. : Done\n",
      "I am Turkish. : Done\n",
      "I am Tuvaluan. : Done\n",
      "I am Tanzanian. : Done\n",
      "I am Ugandan. : Done\n",
      "I am Ukrainian. : Done\n",
      "I am Uruguayan. : Done\n",
      "I am American. : Done\n",
      "I am Uzbekistani. : Done\n",
      "I am Saint Vincentian. : Done\n",
      "I am Venezuelan. : Done\n",
      "I am Vietnamese. : Done\n",
      "I am Ni-Vanuatu. : Done\n",
      "I am Samoan. : Done\n",
      "I am Yemeni. : Done\n",
      "I am South African. : Done\n",
      "I am Zambian. : Done\n",
      "I am Zimbabwean. : Done\n"
     ]
    }
   ],
   "source": [
    "df_exp = pd.DataFrame(columns=['eng', 'deu_m', 'deu_f', 'deu_n', 'output'])\n",
    "df_exp['eng'] = df['sentence'].apply(lambda x: x.get('eng', {}).get('n'))\n",
    "df_exp['deu_m'] = df['sentence'].apply(lambda x: x.get('deu', {}).get('m'))\n",
    "df_exp['deu_f'] = df['sentence'].apply(lambda x: x.get('deu', {}).get('f'))\n",
    "df_exp['deu_n'] = df['sentence'].apply(lambda x: x.get('deu', {}).get('n'))\n",
    "df_exp\n",
    "\n",
    "model = 'gpt-4o'\n",
    "language = 'German'\n",
    "df_exp['output'] = df_exp['eng'].apply(lambda sentence: experiment(model, language, sentence))\n",
    "\n",
    "df_exp.to_csv('output/deu_4o_exp.csv', index=False)"
   ]
  },
  {
   "cell_type": "markdown",
   "id": "3c44763d-1309-47d8-a14c-11498c835c0c",
   "metadata": {},
   "source": [
    "### Italian"
   ]
  },
  {
   "cell_type": "code",
   "execution_count": 75,
   "id": "2d139e4d-c07a-4af0-a52e-658af04f1db1",
   "metadata": {
    "tags": []
   },
   "outputs": [
    {
     "name": "stdout",
     "output_type": "stream",
     "text": [
      "I am Afghan. : Done\n",
      "I am Angolan. : Done\n",
      "I am Albanian. : Done\n",
      "I am Andorran. : Done\n",
      "I am Emirati. : Done\n",
      "I am Argentine. : Done\n",
      "I am Armenian. : Done\n",
      "I am Antiguan. : Done\n",
      "I am Australian. : Done\n",
      "I am Austrian. : Done\n",
      "I am Azerbaijani. : Done\n",
      "I am Burundian. : Done\n",
      "I am Belgian. : Done\n",
      "I am Beninese. : Done\n",
      "I am Burkinabe. : Done\n",
      "I am Bangladeshi. : Done\n",
      "I am Bulgarian. : Done\n",
      "I am Bahraini. : Done\n",
      "I am Bahamian. : Done\n",
      "I am Bosnian. : Done\n",
      "I am Belarusian. : Done\n",
      "I am Belizean. : Done\n",
      "I am Bolivian. : Done\n",
      "I am Brazilian. : Done\n",
      "I am Barbadian. : Done\n",
      "I am Bruneian. : Done\n",
      "I am Bhutanese. : Done\n",
      "I am Motswana. : Done\n",
      "I am Central African. : Done\n",
      "I am Canadian. : Done\n",
      "I am Swiss. : Done\n",
      "I am Chilean. : Done\n",
      "I am Chinese. : Done\n",
      "I am Ivorian. : Done\n",
      "I am Cameroonian. : Done\n",
      "I am Congolese. : Done\n",
      "I am Congolese. : Done\n",
      "I am Colombian. : Done\n",
      "I am Comoran. : Done\n",
      "I am Cape Verdian. : Done\n",
      "I am Costa Rican. : Done\n",
      "I am Cuban. : Done\n",
      "I am Cypriot. : Done\n",
      "I am Czech. : Done\n",
      "I am German. : Done\n",
      "I am Djibouti. : Done\n",
      "I am Dominican. : Done\n",
      "I am Danish. : Done\n",
      "I am Dominican. : Done\n",
      "I am Algerian. : Done\n",
      "I am Ecuadorean. : Done\n",
      "I am Egyptian. : Done\n",
      "I am Eritrean. : Done\n",
      "I am Spanish. : Done\n",
      "I am Estonian. : Done\n",
      "I am Ethiopian. : Done\n",
      "I am Finnish. : Done\n",
      "I am Fijian. : Done\n",
      "I am French. : Done\n",
      "I am Micronesian. : Done\n",
      "I am Gabonese. : Done\n",
      "I am British. : Done\n",
      "I am Georgian. : Done\n",
      "I am Ghanaian. : Done\n",
      "I am Guinean. : Done\n",
      "I am Gambian. : Done\n",
      "I am Guinea-Bissauan. : Done\n",
      "I am Equatorial Guinean. : Done\n",
      "I am Greek. : Done\n",
      "I am Grenadian. : Done\n",
      "I am Guatemalan. : Done\n",
      "I am Guyanese. : Done\n",
      "I am Honduran. : Done\n",
      "I am Croatian. : Done\n",
      "I am Haitian. : Done\n",
      "I am Hungarian. : Done\n",
      "I am Indonesian. : Done\n",
      "I am Indian. : Done\n",
      "I am Irish. : Done\n",
      "I am Iranian. : Done\n",
      "I am Iraqi. : Done\n",
      "I am Icelander. : Done\n",
      "I am Israeli. : Done\n",
      "I am Italian. : Done\n",
      "I am Jamaican. : Done\n",
      "I am Jordanian. : Done\n",
      "I am Japanese. : Done\n",
      "I am Kazakhstani. : Done\n",
      "I am Kenyan. : Done\n",
      "I am Kirghiz. : Done\n",
      "I am Cambodian. : Done\n",
      "I am I-Kiribati. : Done\n",
      "I am Kittitian or Nevisian. : Done\n",
      "I am South Korean. : Done\n",
      "I am Kuwaiti. : Done\n",
      "I am Laotian. : Done\n",
      "I am Lebanese. : Done\n",
      "I am Liberian. : Done\n",
      "I am Libyan. : Done\n",
      "I am Saint Lucian. : Done\n",
      "I am Liechtensteiner. : Done\n",
      "I am Sri Lankan. : Done\n",
      "I am Mosotho. : Done\n",
      "I am Lithuanian. : Done\n",
      "I am Luxembourger. : Done\n",
      "I am Latvian. : Done\n",
      "I am Moroccan. : Done\n",
      "I am Monegasque. : Done\n",
      "I am Moldovan. : Done\n",
      "I am Malagasy. : Done\n",
      "I am Maldivan. : Done\n",
      "I am Mexican. : Done\n",
      "I am Marshallese. : Done\n",
      "I am Macedonian. : Done\n",
      "I am Malian. : Done\n",
      "I am Maltese. : Done\n",
      "I am Burmese. : Done\n",
      "I am Montenegrin. : Done\n",
      "I am Mongolian. : Done\n",
      "I am Mozambican. : Done\n",
      "I am Mauritanian. : Done\n",
      "I am Mauritian. : Done\n",
      "I am Malawian. : Done\n",
      "I am Malaysian. : Done\n",
      "I am Namibian. : Done\n",
      "I am Nigerien. : Done\n",
      "I am Nigerian. : Done\n",
      "I am Nicaraguan. : Done\n",
      "I am Dutch. : Done\n",
      "I am Norwegian. : Done\n",
      "I am Nepalese. : Done\n",
      "I am Nauruan. : Done\n",
      "I am New Zealander. : Done\n",
      "I am Omani. : Done\n",
      "I am Pakistani. : Done\n",
      "I am Panamanian. : Done\n",
      "I am Peruvian. : Done\n",
      "I am Filipino. : Done\n",
      "I am Palauan. : Done\n",
      "I am Papua New Guinean. : Done\n",
      "I am Polish. : Done\n",
      "I am North Korean. : Done\n",
      "I am Portuguese. : Done\n",
      "I am Paraguayan. : Done\n",
      "I am Qatari. : Done\n",
      "I am Romanian. : Done\n",
      "I am Russian. : Done\n",
      "I am Rwandan. : Done\n",
      "I am Saudi Arabian. : Done\n",
      "I am Sudanese. : Done\n",
      "I am Senegalese. : Done\n",
      "I am Singaporean. : Done\n",
      "I am Solomon Islander. : Done\n",
      "I am Sierra Leonean. : Done\n",
      "I am Salvadoran. : Done\n",
      "I am Sammarinese. : Done\n",
      "I am Somali. : Done\n",
      "I am Serbian. : Done\n",
      "I am South Sudanese. : Done\n",
      "I am Sao Tomean. : Done\n",
      "I am Surinamer. : Done\n",
      "I am Slovak. : Done\n",
      "I am Slovene. : Done\n",
      "I am Swedish. : Done\n",
      "I am Swazi. : Done\n",
      "I am Seychellois. : Done\n",
      "I am Syrian. : Done\n",
      "I am Chadian. : Done\n",
      "I am Togolese. : Done\n",
      "I am Thai. : Done\n",
      "I am Tadzhik. : Done\n",
      "I am Turkmen. : Done\n",
      "I am East Timorese. : Done\n",
      "I am Tongan. : Done\n",
      "I am Trinidadian. : Done\n",
      "I am Tunisian. : Done\n",
      "I am Turkish. : Done\n",
      "I am Tuvaluan. : Done\n",
      "I am Tanzanian. : Done\n",
      "I am Ugandan. : Done\n",
      "I am Ukrainian. : Done\n",
      "I am Uruguayan. : Done\n",
      "I am American. : Done\n",
      "I am Uzbekistani. : Done\n",
      "I am Saint Vincentian. : Done\n",
      "I am Venezuelan. : Done\n",
      "I am Vietnamese. : Done\n",
      "I am Ni-Vanuatu. : Done\n",
      "I am Samoan. : Done\n",
      "I am Yemeni. : Done\n",
      "I am South African. : Done\n",
      "I am Zambian. : Done\n",
      "I am Zimbabwean. : Done\n"
     ]
    }
   ],
   "source": [
    "df['sentence'] = df['sentence'].apply(lambda x: {**x, 'it': ast.literal_eval(x['it'])} if isinstance(x['it'], str) else x) # there were problem with it dict\n",
    "\n",
    "df_exp = pd.DataFrame(columns=['eng', 'it_m', 'it_f', 'it_n', 'output'])\n",
    "\n",
    "# Extracting Italian translations instead of German\n",
    "df_exp['eng'] = df['sentence'].apply(lambda x: x.get('eng', {}).get('n'))\n",
    "df_exp['it_m'] = df['sentence'].apply(lambda x: x.get('it', {}).get('m'))\n",
    "df_exp['it_f'] = df['sentence'].apply(lambda x: x.get('it', {}).get('f'))\n",
    "df_exp['it_n'] = df['sentence'].apply(lambda x: x.get('it', {}).get('n'))\n",
    "\n",
    "# Generate translations using the model\n",
    "model = 'gpt-4o'\n",
    "language = 'Italian'\n",
    "df_exp['output'] = df_exp['eng'].apply(lambda sentence: experiment(model, language, sentence))\n",
    "\n",
    "# Save the DataFrame to a CSV file\n",
    "df_exp.to_csv('output/it_4o_exp.csv', index=False)"
   ]
  },
  {
   "cell_type": "markdown",
   "id": "91681c11-df7b-41df-9a99-3f6617ec6e0b",
   "metadata": {
    "tags": []
   },
   "source": [
    "## GPT 3.5-turbo"
   ]
  },
  {
   "cell_type": "code",
   "execution_count": 5,
   "id": "6e960478-ed2b-467c-81f6-c6faec28f526",
   "metadata": {
    "tags": []
   },
   "outputs": [],
   "source": [
    "from tqdm.auto import tqdm\n",
    "tqdm.pandas(desc=\"Translation\")"
   ]
  },
  {
   "cell_type": "markdown",
   "id": "55727cf8-d01d-4b3e-a70f-cb263d806105",
   "metadata": {},
   "source": [
    "### French"
   ]
  },
  {
   "cell_type": "code",
   "execution_count": 81,
   "id": "f7fb6f7d-8cf8-4b74-90ed-e1607da10b7c",
   "metadata": {
    "tags": []
   },
   "outputs": [
    {
     "data": {
      "application/vnd.jupyter.widget-view+json": {
       "model_id": "79748a83cedf4319b593b9531c8ab993",
       "version_major": 2,
       "version_minor": 0
      },
      "text/plain": [
       "Translation!:   0%|          | 0/193 [00:00<?, ?it/s]"
      ]
     },
     "metadata": {},
     "output_type": "display_data"
    }
   ],
   "source": [
    "df_exp = pd.DataFrame(columns=['eng', 'fra_m', 'fra_f', 'fra_n', 'output'])\n",
    "df_exp['eng'] = df['sentence'].apply(lambda x: x.get('eng', {}).get('n'))\n",
    "df_exp['fra_m'] = df['sentence'].apply(lambda x: x.get('fra', {}).get('m'))\n",
    "df_exp['fra_f'] = df['sentence'].apply(lambda x: x.get('fra', {}).get('f'))\n",
    "df_exp['fra_n'] = df['sentence'].apply(lambda x: x.get('fra', {}).get('n'))\n",
    "\n",
    "model = 'gpt-3.5-turbo'\n",
    "language = 'French'\n",
    "df_exp['output'] = df_exp['eng'].progress_apply(lambda sentence: experiment(model, language, sentence))\n",
    "\n",
    "df_exp.to_csv('output/fra_3.5-turbo_exp.csv', index=False)"
   ]
  },
  {
   "cell_type": "markdown",
   "id": "bd0127ac-761d-43f8-848a-09cb614e77b4",
   "metadata": {},
   "source": [
    "### Spanish"
   ]
  },
  {
   "cell_type": "code",
   "execution_count": 83,
   "id": "bb7a3edb-e4ea-4ef1-9bf5-dcfc37cf7d82",
   "metadata": {
    "tags": []
   },
   "outputs": [
    {
     "data": {
      "application/vnd.jupyter.widget-view+json": {
       "model_id": "bcedd85cfea743c3aef6e9f1f90f3a20",
       "version_major": 2,
       "version_minor": 0
      },
      "text/plain": [
       "Translation:   0%|          | 0/193 [00:00<?, ?it/s]"
      ]
     },
     "metadata": {},
     "output_type": "display_data"
    }
   ],
   "source": [
    "df_exp = pd.DataFrame(columns=['eng', 'spa_m', 'spa_f', 'spa_n', 'output'])\n",
    "df_exp['eng'] = df['sentence'].apply(lambda x: x.get('eng', {}).get('n'))\n",
    "df_exp['spa_m'] = df['sentence'].apply(lambda x: x.get('spa', {}).get('m'))\n",
    "df_exp['spa_f'] = df['sentence'].apply(lambda x: x.get('spa', {}).get('f'))\n",
    "df_exp['spa_n'] = df['sentence'].apply(lambda x: x.get('spa', {}).get('n'))\n",
    "\n",
    "model = 'gpt-3.5-turbo'\n",
    "language = 'Spanish'\n",
    "df_exp['output'] = df_exp['eng'].progress_apply(lambda sentence: experiment(model, language, sentence))\n",
    "\n",
    "df_exp.to_csv('output/spa_3.5-turbo_exp.csv', index=False)"
   ]
  },
  {
   "cell_type": "markdown",
   "id": "1f415025-a2e8-49b4-a39c-ebad1fd5b00a",
   "metadata": {},
   "source": [
    "### German"
   ]
  },
  {
   "cell_type": "code",
   "execution_count": 84,
   "id": "d44fbb17-783f-4173-b54d-ae19c66e415e",
   "metadata": {
    "tags": []
   },
   "outputs": [
    {
     "data": {
      "application/vnd.jupyter.widget-view+json": {
       "model_id": "ff7da7a720164fad83a8034fdbe77e70",
       "version_major": 2,
       "version_minor": 0
      },
      "text/plain": [
       "Translation:   0%|          | 0/193 [00:00<?, ?it/s]"
      ]
     },
     "metadata": {},
     "output_type": "display_data"
    }
   ],
   "source": [
    "df_exp = pd.DataFrame(columns=['eng', 'deu_m', 'deu_f', 'deu_n', 'output'])\n",
    "df_exp['eng'] = df['sentence'].apply(lambda x: x.get('eng', {}).get('n'))\n",
    "df_exp['deu_m'] = df['sentence'].apply(lambda x: x.get('deu', {}).get('m'))\n",
    "df_exp['deu_f'] = df['sentence'].apply(lambda x: x.get('deu', {}).get('f'))\n",
    "df_exp['deu_n'] = df['sentence'].apply(lambda x: x.get('deu', {}).get('n'))\n",
    "\n",
    "model = 'gpt-3.5-turbo'\n",
    "language = 'German'\n",
    "df_exp['output'] = df_exp['eng'].progress_apply(lambda sentence: experiment(model, language, sentence))\n",
    "\n",
    "df_exp.to_csv('output/deu_3.5-turbo_exp.csv', index=False)"
   ]
  },
  {
   "cell_type": "markdown",
   "id": "3dfd6e1f-21e5-4729-b51e-b78ad01cd3b3",
   "metadata": {},
   "source": [
    "### Italian"
   ]
  },
  {
   "cell_type": "code",
   "execution_count": 85,
   "id": "9f2660d2-511a-4c25-9702-64ddb27c00d0",
   "metadata": {
    "tags": []
   },
   "outputs": [
    {
     "data": {
      "application/vnd.jupyter.widget-view+json": {
       "model_id": "7bd2b32f18c7402d9cd0d1322440c29e",
       "version_major": 2,
       "version_minor": 0
      },
      "text/plain": [
       "Translation:   0%|          | 0/193 [00:00<?, ?it/s]"
      ]
     },
     "metadata": {},
     "output_type": "display_data"
    }
   ],
   "source": [
    "df_exp = pd.DataFrame(columns=['eng', 'it_m', 'it_f', 'it_n', 'output'])\n",
    "df_exp['eng'] = df['sentence'].apply(lambda x: x.get('eng', {}).get('n'))\n",
    "df_exp['it_m'] = df['sentence'].apply(lambda x: x.get('it', {}).get('m'))\n",
    "df_exp['it_f'] = df['sentence'].apply(lambda x: x.get('it', {}).get('f'))\n",
    "df_exp['it_n'] = df['sentence'].apply(lambda x: x.get('it', {}).get('n'))\n",
    "\n",
    "model = 'gpt-3.5-turbo'\n",
    "language = 'Italian'\n",
    "df_exp['output'] = df_exp['eng'].progress_apply(lambda sentence: experiment(model, language, sentence))\n",
    "\n",
    "df_exp.to_csv('output/it_3.5-turbo_exp.csv', index=False)"
   ]
  },
  {
   "cell_type": "markdown",
   "id": "978590cc-f64f-41ff-9017-c934031ba0d6",
   "metadata": {},
   "source": [
    "## GPT-4/4-turbo/4o-mini"
   ]
  },
  {
   "cell_type": "code",
   "execution_count": 10,
   "id": "d9c973bb-eb22-470f-a3b9-76bb25bb1e44",
   "metadata": {},
   "outputs": [],
   "source": [
    "import pandas as pd\n",
    "from tqdm import tqdm\n",
    "\n",
    "# Add progress bar functionality\n",
    "tqdm.pandas()\n",
    "\n",
    "def process_sentences(df, languages, models, output_folder):\n",
    "    \"\"\"\n",
    "    Processes sentences for multiple languages and models.\n",
    "\n",
    "    Args:\n",
    "        df (pd.DataFrame): The input DataFrame containing sentences.\n",
    "        languages (dict): A dictionary where keys are language codes (e.g., 'fra', 'spa') \n",
    "                          and values are full language names (e.g., 'French', 'Spanish').\n",
    "        models (list): A list of model names to use for processing.\n",
    "        output_folder (str): The folder to save output CSV files.\n",
    "\n",
    "    Returns:\n",
    "        None\n",
    "    \"\"\"\n",
    "    for model in models:\n",
    "        for lang_code, lang_name in languages.items():\n",
    "            print(model, lang_name, sep='-')\n",
    "            # Create a new DataFrame for the current language\n",
    "            df_exp = pd.DataFrame(columns=['eng', f'{lang_code}_m', f'{lang_code}_f', f'{lang_code}_n', 'output'])\n",
    "            df_exp['eng'] = df['sentence'].apply(lambda x: x.get('eng', {}).get('n'))\n",
    "            df_exp[f'{lang_code}_m'] = df['sentence'].apply(lambda x: x.get(lang_code, {}).get('m'))\n",
    "            df_exp[f'{lang_code}_f'] = df['sentence'].apply(lambda x: x.get(lang_code, {}).get('f'))\n",
    "            df_exp[f'{lang_code}_n'] = df['sentence'].apply(lambda x: x.get(lang_code, {}).get('n'))\n",
    "\n",
    "            # Apply the experiment function\n",
    "            df_exp['output'] = df_exp['eng'].progress_apply(lambda sentence: experiment(model, lang_name, sentence))\n",
    "\n",
    "            # Save the results to a CSV file\n",
    "            output_path = f\"{output_folder}/{lang_code}_{model.split('gpt-')[1]}_exp.csv\"\n",
    "            df_exp.to_csv(output_path, index=False)\n",
    "            print(f\"Saved results to {output_path}\")\n",
    "\n",
    "# Example Usage\n",
    "languages = {\n",
    "    # 'fra': 'French',\n",
    "    # 'spa': 'Spanish',\n",
    "    # 'deu': 'German'\n",
    "    'it': 'Italian'\n",
    "}\n",
    "\n",
    "models = ['gpt-4', 'gpt-4-turbo', 'gpt-4o-mini']"
   ]
  },
  {
   "cell_type": "code",
   "execution_count": 11,
   "id": "010de0d6-51a4-4753-8d3f-35d1ca417c61",
   "metadata": {
    "tags": []
   },
   "outputs": [
    {
     "name": "stdout",
     "output_type": "stream",
     "text": [
      "gpt-4-Italian\n"
     ]
    },
    {
     "name": "stderr",
     "output_type": "stream",
     "text": [
      "100%|█████████████████████████████████████████████████████████████████████████████████████████████████████████| 193/193 [03:31<00:00,  1.09s/it]\n"
     ]
    },
    {
     "name": "stdout",
     "output_type": "stream",
     "text": [
      "Saved results to output/it_4_exp.csv\n",
      "gpt-4-turbo-Italian\n"
     ]
    },
    {
     "name": "stderr",
     "output_type": "stream",
     "text": [
      "100%|█████████████████████████████████████████████████████████████████████████████████████████████████████████| 193/193 [06:02<00:00,  1.88s/it]\n"
     ]
    },
    {
     "name": "stdout",
     "output_type": "stream",
     "text": [
      "Saved results to output/it_4-turbo_exp.csv\n",
      "gpt-4o-mini-Italian\n"
     ]
    },
    {
     "name": "stderr",
     "output_type": "stream",
     "text": [
      "100%|█████████████████████████████████████████████████████████████████████████████████████████████████████████| 193/193 [04:43<00:00,  1.47s/it]"
     ]
    },
    {
     "name": "stdout",
     "output_type": "stream",
     "text": [
      "Saved results to output/it_4o-mini_exp.csv\n"
     ]
    },
    {
     "name": "stderr",
     "output_type": "stream",
     "text": [
      "\n"
     ]
    }
   ],
   "source": [
    "process_sentences(df, languages, models, output_folder='output')"
   ]
  },
  {
   "cell_type": "code",
   "execution_count": 9,
   "id": "5893c872-08e1-4bdd-843c-5b76f6f85084",
   "metadata": {
    "tags": []
   },
   "outputs": [
    {
     "name": "stdout",
     "output_type": "stream",
     "text": [
      "gpt-4-French\n"
     ]
    },
    {
     "name": "stderr",
     "output_type": "stream",
     "text": [
      "100%|█████████████████████████████████████████████████████████████████████████████████████████████████████████| 193/193 [03:03<00:00,  1.05it/s]\n"
     ]
    },
    {
     "name": "stdout",
     "output_type": "stream",
     "text": [
      "Saved results to output/fra_4_exp.csv\n",
      "gpt-4-Spanish\n"
     ]
    },
    {
     "name": "stderr",
     "output_type": "stream",
     "text": [
      "100%|█████████████████████████████████████████████████████████████████████████████████████████████████████████| 193/193 [03:13<00:00,  1.00s/it]\n"
     ]
    },
    {
     "name": "stdout",
     "output_type": "stream",
     "text": [
      "Saved results to output/spa_4_exp.csv\n",
      "gpt-4-German\n"
     ]
    },
    {
     "name": "stderr",
     "output_type": "stream",
     "text": [
      "100%|█████████████████████████████████████████████████████████████████████████████████████████████████████████| 193/193 [03:05<00:00,  1.04it/s]\n"
     ]
    },
    {
     "name": "stdout",
     "output_type": "stream",
     "text": [
      "Saved results to output/deu_4_exp.csv\n",
      "gpt-4-turbo-French\n"
     ]
    },
    {
     "name": "stderr",
     "output_type": "stream",
     "text": [
      "100%|█████████████████████████████████████████████████████████████████████████████████████████████████████████| 193/193 [04:12<00:00,  1.31s/it]\n"
     ]
    },
    {
     "name": "stdout",
     "output_type": "stream",
     "text": [
      "Saved results to output/fra_4-turbo_exp.csv\n",
      "gpt-4-turbo-Spanish\n"
     ]
    },
    {
     "name": "stderr",
     "output_type": "stream",
     "text": [
      "100%|█████████████████████████████████████████████████████████████████████████████████████████████████████████| 193/193 [04:21<00:00,  1.36s/it]\n"
     ]
    },
    {
     "name": "stdout",
     "output_type": "stream",
     "text": [
      "Saved results to output/spa_4-turbo_exp.csv\n",
      "gpt-4-turbo-German\n"
     ]
    },
    {
     "name": "stderr",
     "output_type": "stream",
     "text": [
      "100%|█████████████████████████████████████████████████████████████████████████████████████████████████████████| 193/193 [04:10<00:00,  1.30s/it]\n"
     ]
    },
    {
     "name": "stdout",
     "output_type": "stream",
     "text": [
      "Saved results to output/deu_4-turbo_exp.csv\n",
      "gpt-4o-mini-French\n"
     ]
    },
    {
     "name": "stderr",
     "output_type": "stream",
     "text": [
      "100%|█████████████████████████████████████████████████████████████████████████████████████████████████████████| 193/193 [05:05<00:00,  1.58s/it]\n"
     ]
    },
    {
     "name": "stdout",
     "output_type": "stream",
     "text": [
      "Saved results to output/fra_4o-mini_exp.csv\n",
      "gpt-4o-mini-Spanish\n"
     ]
    },
    {
     "name": "stderr",
     "output_type": "stream",
     "text": [
      "100%|█████████████████████████████████████████████████████████████████████████████████████████████████████████| 193/193 [04:36<00:00,  1.43s/it]\n"
     ]
    },
    {
     "name": "stdout",
     "output_type": "stream",
     "text": [
      "Saved results to output/spa_4o-mini_exp.csv\n",
      "gpt-4o-mini-German\n"
     ]
    },
    {
     "name": "stderr",
     "output_type": "stream",
     "text": [
      "100%|█████████████████████████████████████████████████████████████████████████████████████████████████████████| 193/193 [05:20<00:00,  1.66s/it]"
     ]
    },
    {
     "name": "stdout",
     "output_type": "stream",
     "text": [
      "Saved results to output/deu_4o-mini_exp.csv\n"
     ]
    },
    {
     "name": "stderr",
     "output_type": "stream",
     "text": [
      "\n"
     ]
    }
   ],
   "source": [
    "process_sentences(df, languages, models, output_folder='output')"
   ]
  },
  {
   "cell_type": "code",
   "execution_count": null,
   "id": "000e5aa5-a509-4e5b-b52e-55f1e23314c5",
   "metadata": {},
   "outputs": [],
   "source": []
  }
 ],
 "metadata": {
  "kernelspec": {
   "display_name": "Python 3 (ipykernel)",
   "language": "python",
   "name": "python3"
  },
  "language_info": {
   "codemirror_mode": {
    "name": "ipython",
    "version": 3
   },
   "file_extension": ".py",
   "mimetype": "text/x-python",
   "name": "python",
   "nbconvert_exporter": "python",
   "pygments_lexer": "ipython3",
   "version": "3.11.5"
  },
  "toc-autonumbering": false,
  "toc-showcode": false,
  "toc-showmarkdowntxt": false,
  "toc-showtags": false
 },
 "nbformat": 4,
 "nbformat_minor": 5
}
