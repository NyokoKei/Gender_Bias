{
 "cells": [
  {
   "cell_type": "code",
   "execution_count": 1,
   "id": "bd88c9e7-67ae-496c-abda-e35892070aa7",
   "metadata": {
    "tags": []
   },
   "outputs": [],
   "source": [
    "import pandas as pd\n",
    "\n",
    "df = pd.read_csv('output/dataset.csv')"
   ]
  },
  {
   "cell_type": "code",
   "execution_count": 5,
   "id": "8a2ce718-e681-413a-a447-1dd346b43653",
   "metadata": {
    "tags": []
   },
   "outputs": [],
   "source": [
    "import ast\n",
    "df['sentence'] = df['sentence'].apply(lambda x: ast.literal_eval(x)) # str to dict"
   ]
  },
  {
   "cell_type": "code",
   "execution_count": 9,
   "id": "3b5be2c9-05b0-48f6-a847-6c27c99313dc",
   "metadata": {
    "tags": []
   },
   "outputs": [
    {
     "data": {
      "text/plain": [
       "{'eng': {'m': None, 'f': None, 'n': 'I am Afghan.'},\n",
       " 'fra': {'m': 'Je suis Afghan.', 'f': 'Je suis Afghane.', 'n': None},\n",
       " 'spa': {'m': 'Soy afgano.', 'f': 'Soy afgana.', 'n': None},\n",
       " 'deu': {'m': 'Ich bin Afghane.', 'f': 'Ich bin  Afghanin.', 'n': None},\n",
       " 'it': \"{'m': 'Sono afghano.', 'f': 'Sono afghana.', 'n': None}\"}"
      ]
     },
     "execution_count": 9,
     "metadata": {},
     "output_type": "execute_result"
    }
   ],
   "source": [
    "df.iloc[0]['sentence']"
   ]
  },
  {
   "cell_type": "code",
   "execution_count": 10,
   "id": "4efb96da-5e82-44e6-b656-db75dc384380",
   "metadata": {
    "tags": []
   },
   "outputs": [
    {
     "data": {
      "text/plain": [
       "193"
      ]
     },
     "execution_count": 10,
     "metadata": {},
     "output_type": "execute_result"
    }
   ],
   "source": [
    "len(df)"
   ]
  }
 ],
 "metadata": {
  "kernelspec": {
   "display_name": "Python 3 (ipykernel)",
   "language": "python",
   "name": "python3"
  },
  "language_info": {
   "codemirror_mode": {
    "name": "ipython",
    "version": 3
   },
   "file_extension": ".py",
   "mimetype": "text/x-python",
   "name": "python",
   "nbconvert_exporter": "python",
   "pygments_lexer": "ipython3",
   "version": "3.11.5"
  }
 },
 "nbformat": 4,
 "nbformat_minor": 5
}
